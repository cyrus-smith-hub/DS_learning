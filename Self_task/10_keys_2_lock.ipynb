{
 "cells": [
  {
   "cell_type": "code",
   "execution_count": 1,
   "id": "e9f62064",
   "metadata": {},
   "outputs": [
    {
     "data": {
      "text/html": [
       "<style>.container { width:80% !important; }</style>"
      ],
      "text/plain": [
       "<IPython.core.display.HTML object>"
      ]
     },
     "metadata": {},
     "output_type": "display_data"
    },
    {
     "data": {
      "application/vnd.jupyter.widget-view+json": {
       "model_id": "dd260fd35e7f4ddc986ab37044c469dd",
       "version_major": 2,
       "version_minor": 0
      },
      "text/plain": [
       "  0%|          | 0/1000000 [00:00<?, ?it/s]"
      ]
     },
     "metadata": {},
     "output_type": "display_data"
    },
    {
     "name": "stdout",
     "output_type": "stream",
     "text": [
      "0.27788\n"
     ]
    }
   ],
   "source": [
    "#Десять ключей, по пять от каждого замка, два замка\n",
    "#Вытаскиваем случайно два ключа, посчитать вероятность, что они сразу подойдут\n",
    "\n",
    "import numpy as np\n",
    "import pandas as pd\n",
    "\n",
    "#увеличивает область ноутбука\n",
    "from IPython.core.display import display, HTML\n",
    "display(HTML(\"<style>.container { width:80% !important; }</style>\"))\n",
    "\n",
    "from tqdm.notebook import tqdm\n",
    "\n",
    "sum_count = 10**6 #количество экспериментов\n",
    "suxess_count = 0\n",
    "keys = pd.Series([0]*5+[1]*5) #варианты ключей\n",
    "\n",
    "for _ in tqdm(range(sum_count)):\n",
    "    #не пишем  replace = True, так как по условиям задачи ключи обратно не возвращаются\n",
    "    key_choice = keys.sample(2).values\n",
    "    \n",
    "    if (key_choice[0] == 0) and (key_choice[1] == 1):\n",
    "        suxess_count +=1\n",
    "        \n",
    "print(suxess_count/sum_count)"
   ]
  },
  {
   "cell_type": "code",
   "execution_count": null,
   "id": "fe9e7736",
   "metadata": {},
   "outputs": [],
   "source": []
  }
 ],
 "metadata": {
  "kernelspec": {
   "display_name": "Python 3",
   "language": "python",
   "name": "python3"
  },
  "language_info": {
   "codemirror_mode": {
    "name": "ipython",
    "version": 3
   },
   "file_extension": ".py",
   "mimetype": "text/x-python",
   "name": "python",
   "nbconvert_exporter": "python",
   "pygments_lexer": "ipython3",
   "version": "3.8.8"
  }
 },
 "nbformat": 4,
 "nbformat_minor": 5
}
