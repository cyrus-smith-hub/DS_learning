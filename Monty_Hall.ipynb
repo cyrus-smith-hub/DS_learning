{
 "cells": [
  {
   "cell_type": "code",
   "execution_count": 51,
   "id": "d01c29f2",
   "metadata": {},
   "outputs": [
    {
     "name": "stdout",
     "output_type": "stream",
     "text": [
      "не менял дверь: 3352\n",
      "менял дверь: 6648\n"
     ]
    }
   ],
   "source": [
    "#Monty Hall\n",
    "#Парадокс Монти-холла\n",
    "#два игрока угадывают случайное число от 0 до 2 (имитация количества дверей)\n",
    "#один из игроков после того, как одно число уйдет, меняет свое решение\n",
    "\n",
    "import numpy as np\n",
    "\n",
    "test_count = 10**4 #количество тестов\n",
    "\n",
    "not_changed_sum = 0\n",
    "changed_sum = 0\n",
    "\n",
    "\n",
    "for i in range(test_count):\n",
    "    var_list = [1,2,3] #список вариантов\n",
    "    \n",
    "    current_num = int(np.random.choice(var_list, size = 1)) #число, которое надо угадать\n",
    "    \n",
    "    answer = int(np.random.choice(var_list, size = 1)) #ответ\n",
    "    \n",
    "    #сокращаем список возможных вариантов:\n",
    "    if current_num == answer:\n",
    "        var_list.pop(var_list.index(answer)) #удаляем ответ\n",
    "        var_list.pop(np.random.randint(2)) #удаляем любой оставшийся\n",
    "        var_list.append(answer) #добавили ответ\n",
    "    else:\n",
    "        var_list = [current_num, answer]\n",
    "    \n",
    "    #проверка, что сразу угадано\n",
    "    if answer == current_num:\n",
    "        not_changed_sum += 1\n",
    "    \n",
    "    #меняем ответ\n",
    "    var_list.pop(var_list.index(answer)) #удаляем ответ\n",
    "    changed_answer = var_list[0] #то что осталось и есть новый ответ\n",
    "    \n",
    "    #проверка, что правильный ответ - измененный (формальность, но для наглядности нужно)\n",
    "    if changed_answer == current_num:\n",
    "        changed_sum += 1\n",
    "        \n",
    "print('не менял дверь:',not_changed_sum)\n",
    "print('менял дверь:',changed_sum)"
   ]
  }
 ],
 "metadata": {
  "kernelspec": {
   "display_name": "Python 3",
   "language": "python",
   "name": "python3"
  },
  "language_info": {
   "codemirror_mode": {
    "name": "ipython",
    "version": 3
   },
   "file_extension": ".py",
   "mimetype": "text/x-python",
   "name": "python",
   "nbconvert_exporter": "python",
   "pygments_lexer": "ipython3",
   "version": "3.8.8"
  }
 },
 "nbformat": 4,
 "nbformat_minor": 5
}
