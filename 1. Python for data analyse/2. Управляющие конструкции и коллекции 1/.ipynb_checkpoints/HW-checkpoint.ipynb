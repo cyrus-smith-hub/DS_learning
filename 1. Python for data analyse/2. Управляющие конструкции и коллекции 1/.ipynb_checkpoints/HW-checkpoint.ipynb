{
 "cells": [
  {
   "cell_type": "code",
   "execution_count": 1,
   "id": "744a636b",
   "metadata": {},
   "outputs": [
    {
     "name": "stdout",
     "output_type": "stream",
     "text": [
      "initial word is \"evenorodd?\"\n",
      "median simbol(s) is \"or\"\n"
     ]
    }
   ],
   "source": [
    "# Задание 1\n",
    "\n",
    "#Дана переменная, в которой хранится слово из латинских букв. Напишите код, который выводит на экран:\n",
    "# - среднюю букву, если число букв в слове нечетное;\n",
    "# - две средних буквы, если число букв четное.\n",
    "\n",
    "word = 'evenorodd?'\n",
    "\n",
    "if len(word)%2 == 0:\n",
    "  start = int(len(word)/2 - 1)\n",
    "  stop = start + 2\n",
    "else:\n",
    "  start = int(len(word)/2 - 0.5)\n",
    "  stop = start + 1\n",
    "out = word[start:stop]\n",
    "\n",
    "print(f'initial word is \"{word}\"')\n",
    "print(f'median simbol(s) is \"{out}\"')"
   ]
  },
  {
   "cell_type": "code",
   "execution_count": null,
   "id": "d0299273",
   "metadata": {},
   "outputs": [],
   "source": [
    "#Задание 2\n",
    "\n",
    "#Напишите программу, которая последовательно запрашивает у пользователя числа (по одному за раз) и после первого нуля выводит сумму всех ранее введенных чисел.\n",
    "\n",
    "sum_ = 0\n",
    "sign = 1\n",
    "\n",
    "while True:\n",
    "  input_num = input('введите число: ')\n",
    "\n",
    "  if input_num[0] == '-': #если первый симол \"-\", то, возможно, это отрицательное число\n",
    "    input_num = input_num[1:]\n",
    "    sign = -1 #если окажется числом, хоть int хоть float, умножим на -1\n",
    "\n",
    "  if '.' in input_num and input_num.replace('.','').isdigit(): #если есть точка, а без точки все знаки это цифры, то - float\n",
    "    #возможен вариант ввода типа 123...568..01, из этого делаем 123.56801\n",
    "    input_num = input_num[:input_num.find('.')] + '.' + input_num[input_num.find('.')+1:].replace('.','') #символы до первой точки + точка + символы после первой точки, но с удалением всех последующих точек\n",
    "    input_num = float(input_num)\n",
    "\n",
    "  elif input_num.isdigit(): #все символы - цифры, то int\n",
    "\n",
    "    if input_num == '0': #выход по вводу нуля\n",
    "      print(f'your sum is: {sum_}')\n",
    "      break\n",
    "      \n",
    "    input_num = int(input_num)\n",
    "\n",
    "  else:\n",
    "    continue #ни int, ни, float - дальше\n",
    "  \n",
    "  sum_ += input_num * sign\n",
    "  print(f'{input_num*sign} was summed')\n",
    "  sign = 1 #а то все, что было после отрицательного останется отрицательным\n",
    "  "
   ]
  },
  {
   "cell_type": "code",
   "execution_count": null,
   "id": "d66f8074",
   "metadata": {},
   "outputs": [],
   "source": [
    "#Задание 3\n",
    "\n",
    "#Мы делаем MVP dating-сервиса, и у нас есть список парней и девушек.\n",
    "#Выдвигаем гипотезу: лучшие рекомендации мы получим, если просто отсортируем имена по алфавиту и познакомим людей\n",
    "#с одинаковыми индексами после сортировки! Но мы не будем никого знакомить, если кто-то может остаться без пары.\n",
    "\n",
    "boys = ['Peter', 'Alex', 'John', 'Arthur', 'Richard', 'Maduro']\n",
    "girls = [ 'Kate', 'Liza', 'Kira', 'Emma', 'Trisha', 'Ashlee']\n",
    "\n",
    "if len(boys) != len(girls):\n",
    "  print('Внимание, кто-то может остаться без пары!')\n",
    "\n",
    "else:\n",
    "  print('Идеальные пары:')\n",
    "  boys.sort()\n",
    "  girls.sort()\n",
    "  for i in range(len(boys)):\n",
    "    print(boys[i] + ' и ' + girls[i])"
   ]
  },
  {
   "cell_type": "code",
   "execution_count": null,
   "id": "d69cf1d5",
   "metadata": {},
   "outputs": [],
   "source": [
    "#Задание 4\n",
    "\n",
    "#У нас есть список, содержащий информацию о среднедневной температуре в Фаренгейтах за произвольный период по странам (структура данных в примере).\n",
    "#Необходимо написать код, который рассчитает среднюю температуру за период в Цельсиях(!) для каждой страны.\n",
    "\n",
    "countries_temperature = [\n",
    "['Thailand', [75.2, 77, 78.8, 73.4, 68, 75.2, 77]],\n",
    "['Germany', [57.2, 55.4, 59, 59, 53.6]],\n",
    "['Russia', [35.6, 37.4, 39.2, 41, 42.8, 39.2, 35.6]],\n",
    "['Poland', [50, 50, 53.6, 57.2, 55.4, 55.4]]\n",
    "]\n",
    "\n",
    "print('Средняя температура в странах:')\n",
    "for i in range(len(countries_temperature)):\n",
    "  mean_temp = 5/9*(sum(countries_temperature[i][1])/len(countries_temperature[i][1])-32)\n",
    "  print(countries_temperature[i][0], ':', round(mean_temp,1), 'C')\n"
   ]
  },
  {
   "cell_type": "code",
   "execution_count": 2,
   "id": "8626da74",
   "metadata": {},
   "outputs": [
    {
     "name": "stdout",
     "output_type": "stream",
     "text": [
      "Среднее количество просмотров на уникального пользователя: 41.67\n"
     ]
    }
   ],
   "source": [
    "#Задание 5\n",
    "\n",
    "#Дан поток логов по количеству просмотренных страниц для каждого пользователя.\n",
    "#Вам необходимо написать алгоритм, который считает среднее значение просмотров на пользователя.\n",
    "#Т. е. надо посчитать отношение суммы всех просмотров к количеству уникальных пользователей.\n",
    "\n",
    "stream = [\n",
    "'2018-01-01,user1,3',\n",
    "'2018-01-07,user1,4',\n",
    "'2018-03-29,user1,1',\n",
    "'2018-04-04,user1,13',\n",
    "'2018-01-05,user2,7',\n",
    "'2018-06-14,user3,4',\n",
    "'2018-07-02,user3,10',\n",
    "'2018-03-21,user4,19',\n",
    "'2018-03-22,user4,4',\n",
    "'2018-04-22,user4,8',\n",
    "'2018-05-03,user4,9',\n",
    "'2018-05-11,user4,11',\n",
    "'1999-05-16,user99,101',\n",
    "'2048-09-10,anton,56'\n",
    "]\n",
    "\n",
    "unic_count = 0\n",
    "unic_users = []\n",
    "\n",
    "for el in stream:\n",
    "  current_users = el.split(',')[1] #текущий обрабатываемый пользователь\n",
    "  unic_count += int(el.split(',')[2]) #набираем сумму просмотров\n",
    "\n",
    "  #если в списке уникальных нет текущего, добавляем, иначе ничего не делаем\n",
    "  if current_users not in unic_users:\n",
    "    unic_users.append(current_users)\n",
    "\n",
    "print(f'Среднее количество просмотров на уникального пользователя: {round(unic_count/len(unic_users),2)}')"
   ]
  },
  {
   "cell_type": "code",
   "execution_count": 5,
   "id": "d58914f1",
   "metadata": {},
   "outputs": [
    {
     "name": "stdout",
     "output_type": "stream",
     "text": [
      "введите числа через пробел: 1 2 2 2 2 5 6 1 2\n",
      "список элементов с частотой повторений более 1: [1, 2]\n"
     ]
    }
   ],
   "source": [
    "# Задание 6\n",
    "\n",
    "#Необходимо у пользователя запрашивать набор чисел разделенных пробелом.\n",
    "#В результате в отсортированном порядке должны выводиться числа, которые повторяются в вводе более одного раза.\n",
    "\n",
    "unic_el=[]\n",
    "\n",
    "input_list = input('введите числа через пробел: ').split(' ')\n",
    "\n",
    "for el in input_list:\n",
    "  if input_list.count(el) > 1 and int(el) not in unic_el:\n",
    "    unic_el.append(int(el))\n",
    "  \n",
    "unic_el.sort()\n",
    "print('список элементов с частотой повторений более 1:', unic_el)"
   ]
  }
 ],
 "metadata": {
  "kernelspec": {
   "display_name": "Python 3",
   "language": "python",
   "name": "python3"
  },
  "language_info": {
   "codemirror_mode": {
    "name": "ipython",
    "version": 3
   },
   "file_extension": ".py",
   "mimetype": "text/x-python",
   "name": "python",
   "nbconvert_exporter": "python",
   "pygments_lexer": "ipython3",
   "version": "3.8.8"
  }
 },
 "nbformat": 4,
 "nbformat_minor": 5
}
