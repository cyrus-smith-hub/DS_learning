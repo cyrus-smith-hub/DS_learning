{
 "cells": [
  {
   "cell_type": "markdown",
   "metadata": {
    "id": "edQI-m-cCgpV"
   },
   "source": [
    "# Практика 1. \n",
    "Теория: Основы Python, введение в типы данных и циклы\n",
    "\n",
    "Булыгин Олег:  \n",
    "* [LinkedIn](linkedin.com/in/obulygin)  \n",
    "* [Telegram](https://t.me/obulygin91)  \n",
    "* [facebook](fb.com/obulygin91)  \n",
    "* [Vk](vk.com/obulygin91)  \n",
    "* email: obulygin91@ya.ru  \n",
    "\n",
    "[Сообщество по Python](https://yandex.ru/q/loves/pythontalk/) на Кью  \n",
    "[Сообщество по Data Science и анализу данных](https://yandex.ru/q/loves/datatalk/) на Кью "
   ]
  },
  {
   "cell_type": "markdown",
   "metadata": {
    "id": "yeFs_dLk5YJW"
   },
   "source": [
    "## PEP\n",
    "\n",
    "PEP (python enhanced proposal — заявки на улучшение языка python)."
   ]
  },
  {
   "cell_type": "markdown",
   "metadata": {
    "id": "hQ_c5hAl5eNt"
   },
   "source": [
    "PEP20 – Zen of Python\n",
    "\n",
    "Python придерживается философии, которую сформулировал Тим Петерс в 19 принципах. Её текст выдаётся интерпретатором Python по команде `import this`."
   ]
  },
  {
   "cell_type": "code",
   "execution_count": null,
   "metadata": {
    "colab": {
     "base_uri": "https://localhost:8080/"
    },
    "id": "zDFRjsuoqZfP",
    "outputId": "6e70002b-98e4-4950-abe0-a68a1d002f7b"
   },
   "outputs": [
    {
     "name": "stdout",
     "output_type": "stream",
     "text": [
      "The Zen of Python, by Tim Peters\n",
      "\n",
      "Beautiful is better than ugly.\n",
      "Explicit is better than implicit.\n",
      "Simple is better than complex.\n",
      "Complex is better than complicated.\n",
      "Flat is better than nested.\n",
      "Sparse is better than dense.\n",
      "Readability counts.\n",
      "Special cases aren't special enough to break the rules.\n",
      "Although practicality beats purity.\n",
      "Errors should never pass silently.\n",
      "Unless explicitly silenced.\n",
      "In the face of ambiguity, refuse the temptation to guess.\n",
      "There should be one-- and preferably only one --obvious way to do it.\n",
      "Although that way may not be obvious at first unless you're Dutch.\n",
      "Now is better than never.\n",
      "Although never is often better than *right* now.\n",
      "If the implementation is hard to explain, it's a bad idea.\n",
      "If the implementation is easy to explain, it may be a good idea.\n",
      "Namespaces are one honking great idea -- let's do more of those!\n"
     ]
    }
   ],
   "source": [
    "import this"
   ]
  },
  {
   "cell_type": "markdown",
   "metadata": {
    "id": "9G-RZWKR5t71"
   },
   "source": [
    "PEP8\n",
    "\n",
    "PEP8 – соглашение о том, как писать код для языка python.\n",
    "Ключевая идея такова: код читается намного больше раз, чем пишется. Собственно, рекомендации о стиле написания кода направлены на то, чтобы улучшить читаемость кода и сделать его согласованным между большим числом проектов. В идеале, весь код будет написан в едином стиле, и любой сможет легко его прочесть.\n",
    "\n",
    "https://pythonworld.ru/osnovy/pep-8-rukovodstvo-po-napisaniyu-koda-na-python.html\n",
    "\n",
    "http://pep8online.com/"
   ]
  },
  {
   "cell_type": "markdown",
   "metadata": {
    "id": "PY_n-RlR54ON"
   },
   "source": [
    "## Краткая запись односложных условий из if и else"
   ]
  },
  {
   "cell_type": "code",
   "execution_count": null,
   "metadata": {
    "colab": {
     "base_uri": "https://localhost:8080/"
    },
    "id": "OSQmk2D9s40Z",
    "outputId": "c5d55b0c-f067-40dc-a438-c7a3ff8257ca"
   },
   "outputs": [
    {
     "name": "stdout",
     "output_type": "stream",
     "text": [
      "even\n"
     ]
    }
   ],
   "source": [
    "num = 478\n",
    "\n",
    "if num % 2 == 0:\n",
    "    print('even')\n",
    "else:\n",
    "    print('odd')"
   ]
  },
  {
   "cell_type": "code",
   "execution_count": null,
   "metadata": {
    "colab": {
     "base_uri": "https://localhost:8080/"
    },
    "id": "5mXTmmiGtAZx",
    "outputId": "86907e94-2c95-4340-c4a4-148a63358e98"
   },
   "outputs": [
    {
     "name": "stdout",
     "output_type": "stream",
     "text": [
      "even\n"
     ]
    }
   ],
   "source": [
    "if num % 7 == 0: print('even')"
   ]
  },
  {
   "cell_type": "code",
   "execution_count": null,
   "metadata": {
    "colab": {
     "base_uri": "https://localhost:8080/"
    },
    "id": "0650RqQPtHk7",
    "outputId": "2e668384-e897-4d46-d347-af344a7a5503"
   },
   "outputs": [
    {
     "name": "stdout",
     "output_type": "stream",
     "text": [
      "even\n"
     ]
    }
   ],
   "source": [
    "num = 6\n",
    "print('even') if num % 2 == 0 else print('odd')"
   ]
  },
  {
   "cell_type": "markdown",
   "metadata": {
    "id": "AMHNsoZd59w2"
   },
   "source": [
    "## Изменяемые и неизменяемые типы данных"
   ]
  },
  {
   "cell_type": "code",
   "execution_count": null,
   "metadata": {
    "id": "llui89PZuOcO"
   },
   "outputs": [],
   "source": [
    "my_list = ['Kate', 'Oleg', 'John', 'Liza']\n",
    "\n",
    "my_str = 'Hello world!'"
   ]
  },
  {
   "cell_type": "code",
   "execution_count": null,
   "metadata": {
    "colab": {
     "base_uri": "https://localhost:8080/"
    },
    "id": "deHT4jveubDc",
    "outputId": "ae815058-ea2e-4eaa-df38-04302c5fa491"
   },
   "outputs": [
    {
     "name": "stdout",
     "output_type": "stream",
     "text": [
      "None\n"
     ]
    }
   ],
   "source": [
    "res = my_list.sort()\n",
    "\n",
    "print(res)"
   ]
  },
  {
   "cell_type": "code",
   "execution_count": null,
   "metadata": {
    "colab": {
     "base_uri": "https://localhost:8080/"
    },
    "id": "_dy1fMxuurrp",
    "outputId": "844d9fae-bf01-4288-ac82-ac9e12440a94"
   },
   "outputs": [
    {
     "name": "stdout",
     "output_type": "stream",
     "text": [
      "hello world!\n"
     ]
    }
   ],
   "source": [
    "res_2 = my_str.lower()\n",
    "\n",
    "print(res_2)"
   ]
  },
  {
   "cell_type": "code",
   "execution_count": null,
   "metadata": {
    "colab": {
     "base_uri": "https://localhost:8080/"
    },
    "id": "AeX9ekkRu8k4",
    "outputId": "c645656c-01cd-4511-cabc-bce3f1a4ee6f"
   },
   "outputs": [
    {
     "name": "stdout",
     "output_type": "stream",
     "text": [
      "['John', 'Kate', 'Liza', 'Oleg']\n"
     ]
    }
   ],
   "source": [
    "my_list.sort()\n",
    "\n",
    "print(my_list)"
   ]
  },
  {
   "cell_type": "code",
   "execution_count": null,
   "metadata": {
    "colab": {
     "base_uri": "https://localhost:8080/"
    },
    "id": "OrFg26McvC6z",
    "outputId": "903e3e17-3179-49c7-d30f-4562319a9ae6"
   },
   "outputs": [
    {
     "name": "stdout",
     "output_type": "stream",
     "text": [
      "Hello world!\n"
     ]
    }
   ],
   "source": [
    "my_str.lower()\n",
    "\n",
    "print(my_str)"
   ]
  },
  {
   "cell_type": "code",
   "execution_count": null,
   "metadata": {
    "colab": {
     "base_uri": "https://localhost:8080/"
    },
    "id": "ReYFVcyHvgVf",
    "outputId": "b03c9d2b-0631-48ac-e34d-db02df838674"
   },
   "outputs": [
    {
     "name": "stdout",
     "output_type": "stream",
     "text": [
      "['Kate', 'Oleg', 'John', 'Liza']\n"
     ]
    }
   ],
   "source": [
    "sorted(my_list)\n",
    "print(my_list)"
   ]
  },
  {
   "cell_type": "code",
   "execution_count": null,
   "metadata": {
    "id": "oW_yzXSmv5N_"
   },
   "outputs": [],
   "source": [
    "?sorted"
   ]
  },
  {
   "cell_type": "markdown",
   "metadata": {
    "id": "E6ywQi0G5-o1"
   },
   "source": [
    "## Напишем игру \"Угадай число\""
   ]
  },
  {
   "cell_type": "code",
   "execution_count": null,
   "metadata": {
    "id": "ROymO2JdwKl2"
   },
   "outputs": [],
   "source": [
    "import random"
   ]
  },
  {
   "cell_type": "code",
   "execution_count": null,
   "metadata": {
    "colab": {
     "base_uri": "https://localhost:8080/"
    },
    "id": "sG69Ft0twW_k",
    "outputId": "bb89b4d6-8fbc-41a3-e944-b22a19cf40c0"
   },
   "outputs": [
    {
     "name": "stdout",
     "output_type": "stream",
     "text": [
      "27\n",
      "Введите число50\n",
      "Загаданное число меньше\n",
      "Введите число25\n",
      "Загаданное число больше\n",
      "Введите число30\n",
      "Загаданное число меньше\n",
      "Введите число27\n",
      "Вы победили!\n"
     ]
    }
   ],
   "source": [
    "number = random.randint(1, 100)\n",
    "print(number)\n",
    "\n",
    "max_tries = 4\n",
    "tries = 0\n",
    "\n",
    "while tries < max_tries:\n",
    "    guess = int(input('Введите число'))\n",
    "    if guess < number:\n",
    "        print('Загаданное число больше')\n",
    "    elif guess > number:\n",
    "        print('Загаданное число меньше')\n",
    "    else:\n",
    "        print('Вы победили!')\n",
    "        break\n",
    "    tries += 1\n",
    "\n",
    "if guess != number:\n",
    "    print('Вы проиграли')\n",
    "    print('Было загадано число', number)"
   ]
  },
  {
   "cell_type": "markdown",
   "metadata": {
    "id": "wvl7zaRvyz87"
   },
   "source": [
    "## Пользовательский ввод"
   ]
  },
  {
   "cell_type": "code",
   "execution_count": null,
   "metadata": {
    "colab": {
     "base_uri": "https://localhost:8080/"
    },
    "id": "bfdeu73Lyxye",
    "outputId": "274930cc-becd-4199-c2cb-87422e84c636"
   },
   "outputs": [
    {
     "name": "stdout",
     "output_type": "stream",
     "text": [
      "Введите что-то через пробелраз, два, три\n"
     ]
    }
   ],
   "source": [
    "user_input = tuple(input('Введите что-то через пробел').split(', '))"
   ]
  },
  {
   "cell_type": "markdown",
   "metadata": {
    "id": "VkPMyuYW0i8H"
   },
   "source": [
    "## zip-объект"
   ]
  },
  {
   "cell_type": "code",
   "execution_count": null,
   "metadata": {
    "colab": {
     "base_uri": "https://localhost:8080/"
    },
    "id": "32DS4rWKzBhT",
    "outputId": "c3bfc514-87f8-45bc-a912-1b2316c27599"
   },
   "outputs": [
    {
     "name": "stdout",
     "output_type": "stream",
     "text": [
      "John\n",
      "John 1000\n",
      "Oleg\n",
      "Oleg 100500\n",
      "Kate\n",
      "Kate 1500\n",
      "Liza\n",
      "Liza 2000000\n"
     ]
    }
   ],
   "source": [
    "my_list_1 = ['John', 'Oleg', 'Kate', 'Liza']\n",
    "my_list_2 = [1000, 100500, 1500, 2000000]\n",
    "\n",
    "zipped = zip(my_list_1, my_list_2)\n",
    "\n",
    "for name, salary in zipped:\n",
    "    print(name)\n",
    "    print(name, salary)\n",
    "\n",
    "# print(list(zipped))"
   ]
  },
  {
   "cell_type": "markdown",
   "metadata": {
    "id": "v23yWHR_7yO3"
   },
   "source": [
    "### Практика. Выведем на экран список всех слов длиннее n букв из текста"
   ]
  },
  {
   "cell_type": "code",
   "execution_count": null,
   "metadata": {
    "id": "OxmzmRiF1yhd"
   },
   "outputs": [],
   "source": [
    "text = 'Python — высокоуровневый язык программирования, ориентированный на повышение производительности разработчика и читаемости кода.'\n",
    "n = 4"
   ]
  },
  {
   "cell_type": "code",
   "execution_count": null,
   "metadata": {
    "colab": {
     "base_uri": "https://localhost:8080/"
    },
    "id": "LapQfOs13Wl-",
    "outputId": "4b6c4afe-dfcb-4c12-c775-e7e47583ae8f"
   },
   "outputs": [
    {
     "name": "stdout",
     "output_type": "stream",
     "text": [
      "язык\n"
     ]
    }
   ],
   "source": [
    "n = 4\n",
    "\n",
    "text_a = text.split()\n",
    "\n",
    "#print (text_a)\n",
    "\n",
    "for word in text_a:\n",
    "    if len(word) == 4:\n",
    "        print(word)"
   ]
  },
  {
   "cell_type": "code",
   "execution_count": null,
   "metadata": {
    "colab": {
     "base_uri": "https://localhost:8080/"
    },
    "id": "fp2wVC373Yjl",
    "outputId": "2144f1ca-c54b-40f6-bb82-78b73c2033de"
   },
   "outputs": [
    {
     "name": "stdout",
     "output_type": "stream",
     "text": [
      "Python\n",
      "высокоуровеный\n",
      "программирования,\n",
      "ориентированный\n",
      "повышение\n",
      "производительности\n",
      "разработчика\n",
      "читаемости\n"
     ]
    }
   ],
   "source": [
    "text = 'Python - высокоуровеный язык программирования, ориентированный на повышение производительности разработчика и читаемости кода'\n",
    "n = 4\n",
    "text1 = text.split()\n",
    "for elem in text1:\n",
    "    if len(elem) > n:\n",
    "        print(elem)"
   ]
  },
  {
   "cell_type": "code",
   "execution_count": null,
   "metadata": {
    "id": "f08Zp7Qj3dKi"
   },
   "outputs": [],
   "source": [
    "text1 =  text.split()\n",
    "for i in text1:\n",
    "  if len(i) > n:\n",
    "    print(i) "
   ]
  },
  {
   "cell_type": "code",
   "execution_count": null,
   "metadata": {
    "colab": {
     "base_uri": "https://localhost:8080/"
    },
    "id": "JRttYvz_3oPD",
    "outputId": "ed106516-8cc0-44e7-e12f-294b80fcdd0b"
   },
   "outputs": [
    {
     "name": "stdout",
     "output_type": "stream",
     "text": [
      "['Python', 'высокоуровеный', 'программирования,', 'ориентированный', 'повышение', 'производительности', 'разработчика', 'читаемости']\n"
     ]
    }
   ],
   "source": [
    "list_text = text.split(' ')\n",
    "right_list = []\n",
    "\n",
    "for el in list_text:\n",
    "  if len(el) > n:\n",
    "    right_list.append(el)\n",
    "\n",
    "print(right_list)"
   ]
  },
  {
   "cell_type": "code",
   "execution_count": null,
   "metadata": {
    "id": "E0Cns7c-3596"
   },
   "outputs": [],
   "source": [
    "words = text.split(' ')\n",
    "\n",
    "words_list = []\n",
    "\n",
    "for row in words:\n",
    "  if len(row) > n:\n",
    "    words_list.append(row)\n",
    "\n",
    "print(words_list)"
   ]
  },
  {
   "cell_type": "code",
   "execution_count": null,
   "metadata": {
    "colab": {
     "base_uri": "https://localhost:8080/"
    },
    "id": "ZI7g1FtD39vF",
    "outputId": "ea547e6e-b66f-4231-b7cb-cb525c363237"
   },
   "outputs": [
    {
     "name": "stdout",
     "output_type": "stream",
     "text": [
      "['Python', 'высокоуровеный', 'программирования', 'ориентированный', 'повышение', 'производительности', 'разработчика', 'читаемости']\n"
     ]
    }
   ],
   "source": [
    "fin = []\n",
    "text_list = text.replace(',', '').replace('.', '').replace('-', '').split()\n",
    "for word in text_list:\n",
    "  if len(word) > n:\n",
    "    fin.append(word)\n",
    "print(fin)"
   ]
  },
  {
   "cell_type": "code",
   "execution_count": null,
   "metadata": {
    "id": "O4wjFJ-c4DS_"
   },
   "outputs": [],
   "source": [
    "text = text[:-1:]\n",
    "n = 4\n",
    "list_text = text.split(' ')\n",
    "right_list = []\n",
    "\n",
    "for el in list_text:\n",
    "  if len(el)>n:\n",
    "    right_list.append(el)\n",
    "\n",
    "print(right_list)"
   ]
  },
  {
   "cell_type": "code",
   "execution_count": null,
   "metadata": {
    "id": "SMEanpIQ43ol"
   },
   "outputs": [],
   "source": [
    "final_text = []\n",
    "text1 = text.split()\n",
    "for elem in text1:\n",
    "    if len(elem) > n:\n",
    "        final_text.append(elem)\n",
    "    else:\n",
    "        continue\n",
    "print(final_text)"
   ]
  },
  {
   "cell_type": "code",
   "execution_count": null,
   "metadata": {
    "colab": {
     "base_uri": "https://localhost:8080/"
    },
    "id": "QFoMmuqA8wQm",
    "outputId": "e2ab97cd-f95d-45d0-e4cc-8d8a683e250d"
   },
   "outputs": [
    {
     "data": {
      "text/plain": [
       "2"
      ]
     },
     "execution_count": 51,
     "metadata": {},
     "output_type": "execute_result"
    }
   ],
   "source": [
    "-7 // 3"
   ]
  },
  {
   "cell_type": "markdown",
   "metadata": {
    "id": "1dYKDsmV_U4o"
   },
   "source": [
    "## Посчитаем сумму элементов по главной диагонали в квадратной матрице"
   ]
  },
  {
   "cell_type": "markdown",
   "metadata": {
    "id": "Pvz_mCl7_Qz3"
   },
   "source": []
  },
  {
   "cell_type": "code",
   "execution_count": null,
   "metadata": {
    "id": "rWVLa-f--Ppy"
   },
   "outputs": [],
   "source": [
    "data = [\n",
    "    [13, 25, 23, 34],\n",
    "    [45, 32, 44, 47],\n",
    "    [12, 33, 23, 95],\n",
    "    [13, 53, 34, 35]\n",
    "]"
   ]
  },
  {
   "cell_type": "code",
   "execution_count": null,
   "metadata": {
    "colab": {
     "base_uri": "https://localhost:8080/"
    },
    "id": "BxCm54krAQ2A",
    "outputId": "014d16fc-f969-4512-9761-6a61d90c4116"
   },
   "outputs": [
    {
     "name": "stdout",
     "output_type": "stream",
     "text": [
      "103\n"
     ]
    }
   ],
   "source": [
    "sum_ = 0\n",
    "index = 0\n",
    "\n",
    "for row in data:\n",
    "    sum_ += row[index]\n",
    "    index += 1\n",
    "print(sum_)"
   ]
  },
  {
   "cell_type": "code",
   "execution_count": null,
   "metadata": {
    "colab": {
     "base_uri": "https://localhost:8080/"
    },
    "id": "Acc3P8CoCLHS",
    "outputId": "4242be9b-5af5-4c97-d6b1-097940ab56ae"
   },
   "outputs": [
    {
     "name": "stdout",
     "output_type": "stream",
     "text": [
      "124\n"
     ]
    }
   ],
   "source": [
    "# обратная диагональ\n",
    "sum_ = 0\n",
    "index = -1\n",
    "\n",
    "for row in data:\n",
    "    sum_ += row[index]\n",
    "    index -= 1\n",
    "print(sum_)"
   ]
  },
  {
   "cell_type": "code",
   "execution_count": null,
   "metadata": {
    "id": "CGrI6NBSBIt_"
   },
   "outputs": [],
   "source": [
    "# res -= 1\n",
    "# res = res - 1\n",
    "# res *= 5\n",
    "# res = res * 5"
   ]
  },
  {
   "cell_type": "code",
   "execution_count": null,
   "metadata": {
    "colab": {
     "base_uri": "https://localhost:8080/"
    },
    "id": "XjoALY7YAkOx",
    "outputId": "4b3ca981-06fa-47ca-af7f-d5b2a4cd4beb"
   },
   "outputs": [
    {
     "name": "stdout",
     "output_type": "stream",
     "text": [
      "103\n"
     ]
    }
   ],
   "source": [
    "count = 0\n",
    "sum_num = 0\n",
    "for elem in data:\n",
    "    sum_num = sum_num + elem[count]\n",
    "    count += 1\n",
    "print(sum_num)"
   ]
  },
  {
   "cell_type": "code",
   "execution_count": null,
   "metadata": {
    "colab": {
     "base_uri": "https://localhost:8080/",
     "height": 235
    },
    "id": "d3K1B1m4AW-T",
    "outputId": "b19f24e7-ebe4-4388-ffb5-466aad9721e1"
   },
   "outputs": [
    {
     "name": "stdout",
     "output_type": "stream",
     "text": [
      "[[1, 2, 3, 4], [5, 6, 7, 8], [9, 10, 11, 12], [13, 14, 15, 16]]\n"
     ]
    },
    {
     "ename": "ValueError",
     "evalue": "ignored",
     "output_type": "error",
     "traceback": [
      "\u001b[0;31m---------------------------------------------------------------------------\u001b[0m",
      "\u001b[0;31mValueError\u001b[0m                                Traceback (most recent call last)",
      "\u001b[0;32m<ipython-input-66-12484d53cef2>\u001b[0m in \u001b[0;36m<module>\u001b[0;34m()\u001b[0m\n\u001b[1;32m      2\u001b[0m \u001b[0msum\u001b[0m \u001b[0;34m=\u001b[0m \u001b[0;36m0\u001b[0m\u001b[0;34m\u001b[0m\u001b[0;34m\u001b[0m\u001b[0m\n\u001b[1;32m      3\u001b[0m \u001b[0mprint\u001b[0m\u001b[0;34m(\u001b[0m\u001b[0mmy_list\u001b[0m\u001b[0;34m)\u001b[0m\u001b[0;34m\u001b[0m\u001b[0;34m\u001b[0m\u001b[0m\n\u001b[0;32m----> 4\u001b[0;31m \u001b[0;32mfor\u001b[0m \u001b[0mi\u001b[0m\u001b[0;34m,\u001b[0m\u001b[0mj\u001b[0m \u001b[0;32min\u001b[0m \u001b[0mmy_list\u001b[0m\u001b[0;34m:\u001b[0m\u001b[0;34m\u001b[0m\u001b[0;34m\u001b[0m\u001b[0m\n\u001b[0m\u001b[1;32m      5\u001b[0m   \u001b[0mprint\u001b[0m\u001b[0;34m(\u001b[0m\u001b[0mmy_list\u001b[0m\u001b[0;34m[\u001b[0m\u001b[0mi\u001b[0m\u001b[0;34m]\u001b[0m\u001b[0;34m[\u001b[0m\u001b[0mj\u001b[0m\u001b[0;34m]\u001b[0m\u001b[0;34m)\u001b[0m\u001b[0;34m\u001b[0m\u001b[0;34m\u001b[0m\u001b[0m\n",
      "\u001b[0;31mValueError\u001b[0m: too many values to unpack (expected 2)"
     ]
    }
   ],
   "source": [
    "my_list = [[1,2,3,4], [5,6,7,8], [9,10,11,12], [13,14,15,16]]\n",
    "sum = 0\n",
    "print(my_list)\n",
    "for i,j,k,o in my_list:\n",
    "  print(my_list[i][j])"
   ]
  },
  {
   "cell_type": "markdown",
   "metadata": {
    "id": "ZhsS0uFL_J9l"
   },
   "source": [
    "## Выведем фаимилии построчно с указанием профессии в виде:\n",
    "```\n",
    "IT:  \n",
    "Гейтс  \n",
    "Джобс  \n",
    "Возняк  \n",
    "\n",
    "Физика:  \n",
    "Эйнштейн  \n",
    "Фейнман  \n",
    "\n",
    "Математика:  \n",
    "Эвклид  \n",
    "Ньютон\n",
    "```\n",
    "\n"
   ]
  },
  {
   "cell_type": "code",
   "execution_count": null,
   "metadata": {
    "id": "tElTKNe4Cb_L"
   },
   "outputs": [],
   "source": [
    "professions = ['IT', 'Физика', 'Математика']\n",
    "persons = [['Гейтс', 'Джобс', 'Возняк'], ['Эйнштейн', 'Фейнман'], ['Эвклид', 'Ньютон']]"
   ]
  },
  {
   "cell_type": "code",
   "execution_count": null,
   "metadata": {
    "colab": {
     "base_uri": "https://localhost:8080/"
    },
    "id": "JMot5pe0Cisa",
    "outputId": "efadc39c-43bb-4d72-9a84-e5e7d58020d3"
   },
   "outputs": [
    {
     "name": "stdout",
     "output_type": "stream",
     "text": [
      "IT:\n",
      "Гейтс\n",
      "Джобс\n",
      "Возняк\n",
      "\n",
      "Физика:\n",
      "Эйнштейн\n",
      "Фейнман\n",
      "\n",
      "Математика:\n",
      "Эвклид\n",
      "Ньютон\n",
      "\n"
     ]
    }
   ],
   "source": [
    "for pro, names in zip(professions, persons):\n",
    "    print(f'{pro}:')\n",
    "    for name in names:\n",
    "        print(name)\n",
    "    print()"
   ]
  },
  {
   "cell_type": "code",
   "execution_count": null,
   "metadata": {
    "colab": {
     "base_uri": "https://localhost:8080/"
    },
    "id": "TyCGGxEcDJsq",
    "outputId": "208578e6-c8e5-4d58-a2ec-6697d562e425"
   },
   "outputs": [
    {
     "name": "stdout",
     "output_type": "stream",
     "text": [
      "IT\n",
      "Гейтс\n",
      "Джобс\n",
      "Возняк\n",
      "\n",
      "Физика\n",
      "Эйнштейн\n",
      "Фейнман\n",
      "\n",
      "Математика\n",
      "Эвклид\n",
      "Ньютон\n",
      "\n"
     ]
    }
   ],
   "source": [
    "for el in zip(professions, persons):\n",
    "    print(el[0])\n",
    "    for name in el[1]:\n",
    "        print(name)\n",
    "    print()"
   ]
  },
  {
   "cell_type": "code",
   "execution_count": null,
   "metadata": {
    "id": "dRI6RpWCDVN9"
   },
   "outputs": [],
   "source": [
    "my_list = [1, 2, 3]\n",
    "\n",
    "a = my_list[0]\n",
    "b = my_list[1]\n",
    "c = my_list[2]"
   ]
  },
  {
   "cell_type": "code",
   "execution_count": null,
   "metadata": {
    "id": "qyEEbHSSDeBo"
   },
   "outputs": [],
   "source": [
    "a, b, c = my_list"
   ]
  },
  {
   "cell_type": "markdown",
   "metadata": {
    "id": "aOL5iGS9BlF0"
   },
   "source": [
    "## Рекомендуемые материалы:\n",
    "\n",
    "1. Тренажеры:\n",
    "  - hackerrank.com\n",
    "  - checkio.org\n",
    "  - leetcode.com\n",
    "  - codewars.com\n",
    "  - luxcity.geecko.com\n",
    "\n",
    "2. Литература:\n",
    " - А Byte of Python [англ. версия](https://python.swaroopch.com/), [рус. перевод](https://wombat.org.ua/AByteOfPython/AByteofPythonRussian-2.02.pdf). Легально, бесплатно, без СМС и регистрации.\n",
    " - Адитья Бхаргава, Грокаем алгоритмы. [На бумаге](https://bit.ly/3c4Drq3), [Электронная](https://bit.ly/3h9bdgz). Бесплатно сами."
   ]
  },
  {
   "cell_type": "markdown",
   "metadata": {
    "id": "60kp_dcR6kzt"
   },
   "source": [
    "## Визуализатор кода на python\n",
    "\n",
    "http://pythontutor.com/visualize.html#mode=edit\n",
    "\n",
    " Он может очень сильно помочь на начальном этапе изчения Python, когда вы пишите свои собственные программы, но ещё не понимаете как именно работает ваш код. Самые частые ошибки новичков – это непонимание границ выполнения ключевых этапов работы программы. Порой очень хороший код не будет работать из-за одной маленькой ошибки. "
   ]
  }
 ],
 "metadata": {
  "colab": {
   "name": "netology_practice_30_09_21.ipynb",
   "provenance": []
  },
  "kernelspec": {
   "display_name": "Python 3",
   "language": "python",
   "name": "python3"
  },
  "language_info": {
   "codemirror_mode": {
    "name": "ipython",
    "version": 3
   },
   "file_extension": ".py",
   "mimetype": "text/x-python",
   "name": "python",
   "nbconvert_exporter": "python",
   "pygments_lexer": "ipython3",
   "version": "3.8.8"
  }
 },
 "nbformat": 4,
 "nbformat_minor": 1
}
