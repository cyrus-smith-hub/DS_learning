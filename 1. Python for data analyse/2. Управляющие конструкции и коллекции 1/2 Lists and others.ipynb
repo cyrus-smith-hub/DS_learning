{
 "cells": [
  {
   "cell_type": "code",
   "execution_count": 104,
   "id": "c02aceb0",
   "metadata": {},
   "outputs": [
    {
     "name": "stdout",
     "output_type": "stream",
     "text": [
      "[1, 2, 3, 4, 5]\n",
      "[8, 7, 6, 5, 4, 3, 2, 1]\n",
      "[1, 3, 5, 7]\n"
     ]
    }
   ],
   "source": [
    "#Срезы\n",
    "\n",
    "list_ = [1,2,3,4,5,6,7,8]\n",
    "print(list_[:-3])\n",
    "print(list_[::-1])\n",
    "print(list_[::2])"
   ]
  },
  {
   "cell_type": "code",
   "execution_count": 6,
   "id": "98370716",
   "metadata": {},
   "outputs": [
    {
     "name": "stdout",
     "output_type": "stream",
     "text": [
      "None\n",
      "1 2 3 4\n"
     ]
    }
   ],
   "source": [
    "#изменыемые и неизменяемые типы данных\n",
    "\n",
    "#Методы изменяемых типов данных меняют объект и ничего не возвразают\n",
    "#Методы неизменяемых типов данных возвращают новый объект\n",
    "\n",
    "l = [1,2,3,4]\n",
    "s = '1 2 3 4'\n",
    "\n",
    "print(l.sort())\n",
    "print(s.lower())"
   ]
  },
  {
   "cell_type": "code",
   "execution_count": 5,
   "id": "1a821533",
   "metadata": {},
   "outputs": [
    {
     "name": "stdout",
     "output_type": "stream",
     "text": [
      "[1, 2, 3, 4, 5, 6]\n",
      "[16, 18, -9, 4, 5, 6]\n"
     ]
    }
   ],
   "source": [
    "#изменение содержимого списка через срезы\n",
    "\n",
    "l = [1,2,3,4,5,6]\n",
    "print(l)\n",
    "\n",
    "l[0:3] = [16,18,-9]\n",
    "print(l)"
   ]
  },
  {
   "cell_type": "code",
   "execution_count": 32,
   "id": "354f045a",
   "metadata": {},
   "outputs": [
    {
     "name": "stdout",
     "output_type": "stream",
     "text": [
      "{'self': 1462276946176, 'a': 1462208515568, 'u': 1462203491184, '9': 1462212268528, 'i': 1462203467248}\n",
      "{'self': 1462276946176, '9': 1462212268528, 'a': 1462208515568, 'i': 1462203467248, 'u': 1462203491184}\n",
      "{'self': 1462277036160, '9': 1462212268528, 'a': 1462208515568, 'i': 1462203467248, 'u': 1462203491184}\n"
     ]
    }
   ],
   "source": [
    "#Сортировка списков\n",
    "\n",
    "l = ['a','u','9','u','i']\n",
    "\n",
    "l_id_set = {}\n",
    "l_id_set_sort = {}\n",
    "l_id_set_sorted = {}\n",
    "\n",
    "#множество указателей\n",
    "l_id_set['self'] = id(l)\n",
    "for el in l:\n",
    "    l_id_set[el] = id(el)\n",
    "    \n",
    "\n",
    "#сортировка на месте, указатели на элементы те же самые\n",
    "l.sort()\n",
    "l_id_set_sort['self'] = id(l)\n",
    "for el in l:\n",
    "    l_id_set_sort[el] = id(el)\n",
    "    \n",
    "#сортировка встроенной функцией\n",
    "#значения новые\n",
    "l_sorted = sorted(l)\n",
    "l_id_set_sorted['self'] = id(l_sorted)\n",
    "for el in l_sorted:\n",
    "    l_id_set_sorted[el] = id(el)\n",
    "\n",
    "#контроль множеств\n",
    "\n",
    "print(l_id_set)\n",
    "print(l_id_set_sort)\n",
    "print(l_id_set_sorted)"
   ]
  },
  {
   "cell_type": "code",
   "execution_count": 215,
   "id": "d4595813",
   "metadata": {
    "scrolled": true
   },
   "outputs": [
    {
     "name": "stdout",
     "output_type": "stream",
     "text": [
      "--- current iteration:  1\n",
      "List!  [0, 0, 0]\n",
      "List!  [6, 9]\n",
      "not List! good\n",
      "List!  [[1, 2, 3]]\n",
      "List!  [1, 2, [5, 9, 8, [9]]]\n",
      "current list:  [0, 0, 0, 6, 9, 'good', [1, 2, 3], 1, 2, [5, 9, 8, [9]]]\n",
      "--- current iteration:  2\n",
      "not List! 0\n",
      "not List! 0\n",
      "not List! 0\n",
      "not List! 6\n",
      "not List! 9\n",
      "not List! good\n",
      "List!  [1, 2, 3]\n",
      "not List! 1\n",
      "not List! 2\n",
      "List!  [5, 9, 8, [9]]\n",
      "current list:  [0, 0, 0, 6, 9, 'good', 1, 2, 3, 1, 2, 5, 9, 8, [9]]\n",
      "--- current iteration:  3\n",
      "not List! 0\n",
      "not List! 0\n",
      "not List! 0\n",
      "not List! 6\n",
      "not List! 9\n",
      "not List! good\n",
      "not List! 1\n",
      "not List! 2\n",
      "not List! 3\n",
      "not List! 1\n",
      "not List! 2\n",
      "not List! 5\n",
      "not List! 9\n",
      "not List! 8\n",
      "List!  [9]\n",
      "current list:  [0, 0, 0, 6, 9, 'good', 1, 2, 3, 1, 2, 5, 9, 8, 9]\n",
      "--- current iteration:  4\n",
      "not List! 0\n",
      "not List! 0\n",
      "not List! 0\n",
      "not List! 6\n",
      "not List! 9\n",
      "not List! good\n",
      "not List! 1\n",
      "not List! 2\n",
      "not List! 3\n",
      "not List! 1\n",
      "not List! 2\n",
      "not List! 5\n",
      "not List! 9\n",
      "not List! 8\n",
      "not List! 9\n",
      "current list:  [0, 0, 0, 6, 9, 'good', 1, 2, 3, 1, 2, 5, 9, 8, 9]\n",
      "[0, 0, 0, 6, 9, 'good', 1, 2, 3, 1, 2, 5, 9, 8, 9]\n"
     ]
    }
   ],
   "source": [
    "#\"Сложение\" списков\n",
    "#Разглаживание списков\n",
    "\n",
    "'''\n",
    "Можно делать через + или sum(my_list,[])\n",
    "'''\n",
    "\n",
    "l1 = [1,2,3,4,5,6]\n",
    "my_list = [[0,0,0],[6,9],'good',[[1,2,3]],[1,2,[5,9,8,[9]]]]\n",
    "#l = l1 + l2\n",
    "\n",
    "\n",
    "is_int = False\n",
    "counter = 0 #для интереса\n",
    "\n",
    "#суть: проверяем каждый элемент в списке1, если не список - забираем, если список - забираем каждый элемент в список2\n",
    "#копируем список2 в список1\n",
    "#повторяем с, пока все элементы не будут \"не списками\"\n",
    "\n",
    "while not is_int: #пока True что флаг опущен\n",
    "    counter += 1\n",
    "    print('--- current iteration: ',counter)\n",
    "    \n",
    "    list4sum = []\n",
    "    \n",
    "    for el in my_list:\n",
    "        \n",
    "        is_int = True #поднимем флаг\n",
    "           \n",
    "        if str(type(el)) == \"<class 'list'>\": #если это список, проходимся по нему и добавляем все элементы в список\n",
    "            \n",
    "            for item in el:\n",
    "                list4sum.append(item)\n",
    "            is_int = 0 #таким образом даже если будет один раз список, флаг опустится\n",
    "            print('List! ',el)\n",
    "    \n",
    "        else: #если это не список, все ок, добавляем в список\n",
    "            print('not List!', el)\n",
    "            list4sum.append(el)\n",
    "\n",
    "    my_list = list(list4sum) #иначе будет плохо, без копии\n",
    "    \n",
    "    print('current list: ', my_list)\n",
    "\n",
    "print(my_list)"
   ]
  },
  {
   "cell_type": "code",
   "execution_count": 176,
   "id": "b9636869",
   "metadata": {},
   "outputs": [
    {
     "name": "stdout",
     "output_type": "stream",
     "text": [
      "1:  [1, 2, 3] 2730791082048 [1, 2, 3] 2730791082048\n",
      "2:  [1, 2, 3] 2730791082048 [1, 2, 3] 2730790366016\n",
      "3:  [1, 2, 3] 2730791082048 [1, 2, 3] 2730791306048\n"
     ]
    }
   ],
   "source": [
    "#Копирование списков\n",
    "\n",
    "'''\n",
    "С использованием [::] или конструктора list() создается копия\n",
    "'''\n",
    "\n",
    "a = [1,2,3]\n",
    "b  = a #ссылка на то же объект\n",
    "print('1: ',a, id(a), b, id(b))\n",
    "\n",
    "b = list(a) #создается новый\n",
    "\n",
    "print('2: ',a, id(a), b, id(b))\n",
    "\n",
    "c = a[::]\n",
    "print('3: ',a, id(a), b, id(c))"
   ]
  },
  {
   "cell_type": "code",
   "execution_count": 136,
   "id": "2a9fbe0a",
   "metadata": {},
   "outputs": [
    {
     "name": "stdout",
     "output_type": "stream",
     "text": [
      "1 140735238383408\n",
      "1 140735238383408\n",
      "1 140735238383408\n",
      "1 140735238383408\n",
      "1 140735238383408\n",
      "1 140735238383408\n",
      "1 140735238383408\n",
      "1 140735238383408\n",
      "1 140735238383408\n",
      "1 140735238383408\n",
      "размер 168\n",
      "0 140735238383376\n",
      "1 140735238383408\n",
      "2 140735238383440\n",
      "3 140735238383472\n",
      "4 140735238383504\n",
      "5 140735238383536\n",
      "6 140735238383568\n",
      "7 140735238383600\n",
      "8 140735238383632\n",
      "9 140735238383664\n",
      "разер 168\n"
     ]
    }
   ],
   "source": [
    "#Проверка указателей в списке\n",
    "\n",
    "'''\n",
    "Если есть возможность, python будет переиспользовать объекты\n",
    "'''\n",
    "\n",
    "l=[]\n",
    "k = []\n",
    "\n",
    "#заполним единицами, проверим id и размер\n",
    "for i in range(10):\n",
    "    l.append(1)\n",
    "    print(l[i],id(l[i]))\n",
    "\n",
    "print(f'размер {l.__sizeof__()}')\n",
    "\n",
    "#заполним i, проверим размер\n",
    "for i in range(10):\n",
    "    k.append(i)\n",
    "    print(k[i], id(k[i]))\n",
    "\n",
    "print(f'разер {k.__sizeof__()}')"
   ]
  },
  {
   "cell_type": "code",
   "execution_count": 281,
   "id": "bd073d81",
   "metadata": {},
   "outputs": [
    {
     "name": "stdout",
     "output_type": "stream",
     "text": [
      "1 [2, 3, 6, 5, 6]\n",
      "1 2 3 6 [5, 6]\n",
      "1, 2, 3, 6, 5, 6."
     ]
    }
   ],
   "source": [
    "#Распаковка списков\n",
    "\n",
    "l = [1,2,3,6,5,6]\n",
    "\n",
    "a, *b = l\n",
    "print(a, b)\n",
    "\n",
    "c,d,e,i,*f = l\n",
    "\n",
    "print(c,d,e,i,f)\n",
    "print(*l, sep=', ', end = '.') #так тоже можно распаковать"
   ]
  },
  {
   "cell_type": "code",
   "execution_count": 127,
   "id": "a30dcf35",
   "metadata": {},
   "outputs": [
    {
     "name": "stdout",
     "output_type": "stream",
     "text": [
      "['[0, 1, 2, 3, 4]', 1, 2]\n"
     ]
    },
    {
     "data": {
      "text/plain": [
       "[0, 1, 2, 3, 4]"
      ]
     },
     "execution_count": 127,
     "metadata": {},
     "output_type": "execute_result"
    }
   ],
   "source": [
    "#Range\n",
    "\n",
    "'''\n",
    "Не создает физически объект с множеством значений\n",
    "Но позволяет итерироваться по себе последовательно\n",
    "Можно используя его создавать списки или кортежи\n",
    "Как и срез: начало, конец, шаг\n",
    "'''\n",
    "\n",
    "a = range(5)\n",
    "s = str(list(a))\n",
    "\n",
    "[el for el in a]"
   ]
  },
  {
   "cell_type": "code",
   "execution_count": 141,
   "id": "c99510fd",
   "metadata": {},
   "outputs": [
    {
     "name": "stdout",
     "output_type": "stream",
     "text": [
      "[(0, 'Moscow'), (1, 'Kazan'), (2, 'St.Petersburg'), (3, 'Rostov-on-Don')]\n",
      "0 Moscow\n",
      "1 Kazan\n",
      "2 St.Petersburg\n",
      "3 Rostov-on-Don\n"
     ]
    }
   ],
   "source": [
    "#Enumerate\n",
    "\n",
    "'''\n",
    "Может добавлять к каждому элеиенту итерируемого объекта последовательный индекс\n",
    "На выходе - итерируемый объект кортежей\n",
    "Нужно оборачивать в список или кортеж, как range\n",
    "'''\n",
    "\n",
    "a = ['Moscow', 'Kazan', 'St.Petersburg', 'Rostov-on-Don']\n",
    "a = list(enumerate(a))\n",
    "\n",
    "print(a)\n",
    "\n",
    "for i, el in a: #теперь не нужео выбирать - объект или его индекс\n",
    "    print(i,el)"
   ]
  },
  {
   "cell_type": "code",
   "execution_count": 117,
   "id": "930ec88a",
   "metadata": {},
   "outputs": [
    {
     "name": "stdout",
     "output_type": "stream",
     "text": [
      "[4, 16, 36]\n",
      "(4, 16, 36)\n"
     ]
    }
   ],
   "source": [
    "#List comprehension\n",
    "\n",
    "'''\n",
    "Простая запись цикла, ничем не лучше в плане функций\n",
    "На выходе - список, но лучше преобразовать насильно\n",
    "'''\n",
    "\n",
    "a = [1,2,3,4,5,6]\n",
    "\n",
    "b = [el**2 for el in a if el % 2 == 0]\n",
    "c = tuple(el**2 for el in a if el % 2 == 0)\n",
    "\n",
    "print(b)\n",
    "print(c)"
   ]
  },
  {
   "cell_type": "code",
   "execution_count": 273,
   "id": "2cf34c16",
   "metadata": {},
   "outputs": [
    {
     "name": "stdout",
     "output_type": "stream",
     "text": [
      "a: {'c', 'd', 'b', 'a'}\n",
      "b: {'5', 'x', 'a', 'e'}\n",
      "+:  {'c', 'd', 'b', 'x', '5', 'e', 'a'}\n",
      "&:  {'a'}\n",
      "-:  {'c', 'd', 'b'}\n",
      "-:  {'c', 'd', 'b'}\n",
      "len(a):  4\n",
      "[(0, 'c'), (1, 'd'), (2, 'b'), (3, 'a')]\n",
      "c\n",
      "d\n",
      "b\n",
      "a\n"
     ]
    }
   ],
   "source": [
    "#Set\n",
    "\n",
    "'''\n",
    "Все значения уникальны\n",
    "Есть интересные методы\n",
    "Нельзя обращаться по индексу, их нет\n",
    "Есть длина\n",
    "Итерируемый\n",
    "'''\n",
    "\n",
    "a = ['a','b','c','d']\n",
    "b = ['a','e','x']\n",
    "\n",
    "s_a = set(a)\n",
    "s_b = set(b)\n",
    "s_b.add('5')\n",
    "\n",
    "print(f'a: {s_a}\\nb: {s_b}')\n",
    "\n",
    "print('+: ',s_a | s_b) #просто объединить, но с учетом особенности множества\n",
    "print('&: ', s_a & s_b) #множество их элементов, которые есть в обоих множествах, то есть чем они похожи\n",
    "print('-: ', s_a.difference(s_b)) #разница, что есть в первом, но нет во втором\n",
    "\n",
    "print('-: ', s_a - (s_a & s_b)) #разница, но своими руками\n",
    "\n",
    "print('len(a): ', len(s_a)) #есть длина\n",
    "\n",
    "print(list(enumerate(s_a))) #работает нумерация\n",
    "\n",
    "for el in s_a:\n",
    "    print(el)"
   ]
  },
  {
   "cell_type": "code",
   "execution_count": 4,
   "id": "a6bfaf54",
   "metadata": {},
   "outputs": [
    {
     "name": "stdout",
     "output_type": "stream",
     "text": [
      "1\n",
      "1\n",
      "Ничего нет \n",
      "\n",
      "dict_keys(['key1', 'key2', 'key3', (1, 2, 3), 10])\n",
      "dict_values([1, 2, 3, 6, 11])\n",
      "dict_items([('key1', 1), ('key2', 2), ('key3', 3), ((1, 2, 3), 6), (10, 11)]) \n",
      "\n",
      "[('key1', 1), ('key2', 2), ('key3', 3), ((1, 2, 3), 6), (10, 11)]\n",
      "b from zip:  {'key1': 1, 'key2': 2, 'key3': 3, (1, 2, 3): 6, 10: 11} \n",
      "\n",
      "update a:  {'key1': 1, 'key2': 2, 'key3': 3, (1, 2, 3): 6, 10: 11, 'one': 1, 'new': 10, 12: 6} \n",
      "\n",
      "{'key1': 0, 'key2': 0}\n",
      "{1: 0, 2: 0, 5: 0}\n",
      "[1, 2, 5]\n",
      "\n",
      " {'1': 1}\n",
      "{'1': 1, '2': 0}\n"
     ]
    }
   ],
   "source": [
    "#Словари\n",
    "\n",
    "'''\n",
    "Все ключи уникальны\n",
    "{'key1':value1}\n",
    "Ключ - любой неизменяемый тип данных\n",
    "\n",
    "'''\n",
    "\n",
    "\n",
    "keys = ['key1','key2']\n",
    "values = 0\n",
    "set_keys ={1,2,5,5}\n",
    "\n",
    "a = {'key1':1,'key2':2,'key3':3,(1,2,3):6,10:11}\n",
    "\n",
    "print(a['key1']) #если ключа нет, будет ошибка\n",
    "print(a.get('key1')) #альтернатива\n",
    "print(a.get('key4','Ничего нет'),'\\n') #если нет, вернет None или то, что указано как параметр\n",
    "\n",
    "print(a.keys()) #все ключи, список\n",
    "print(a.values()) #список\n",
    "print(a.items(),'\\n')#все пары ключ-значение\n",
    "\n",
    "print(list(zip(a.keys(),a.values()))) #из словаря в zip-список\n",
    "b = dict(zip(a.keys(),a.values())) #и обратно\n",
    "print('b from zip: ', b, '\\n')\n",
    "\n",
    "a['one'] = 1 #добавляем так\n",
    "a.update({'new':10}) #добавляем и так\n",
    "a.update(dict.fromkeys([12],6)) #добавить в словарь еще так можно\n",
    "print('update a: ', a,'\\n')\n",
    "\n",
    "c = dict.fromkeys(keys,values) #взять кучу ключей и одно значение\n",
    "d = dict.fromkeys(set_keys,values) #то же самое из множества\n",
    "\n",
    "print(c)\n",
    "print(d)\n",
    "\n",
    "print(sorted(d)) #сортировка только если все элементы одного типа\n",
    "\n",
    "#setdefault\n",
    "a = {'1':1}\n",
    "a.setdefault('1', 0) #если указан имеющийся ключ, ничего не происходит, значение не затирается\n",
    "print('\\n',a)\n",
    "\n",
    "a.setdefault('2', 0)\n",
    "print(a)"
   ]
  }
 ],
 "metadata": {
  "kernelspec": {
   "display_name": "Python 3",
   "language": "python",
   "name": "python3"
  },
  "language_info": {
   "codemirror_mode": {
    "name": "ipython",
    "version": 3
   },
   "file_extension": ".py",
   "mimetype": "text/x-python",
   "name": "python",
   "nbconvert_exporter": "python",
   "pygments_lexer": "ipython3",
   "version": "3.8.8"
  }
 },
 "nbformat": 4,
 "nbformat_minor": 5
}
