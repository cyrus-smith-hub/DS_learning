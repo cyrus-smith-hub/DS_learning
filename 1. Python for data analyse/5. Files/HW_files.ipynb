{
 "cells": [
  {
   "cell_type": "code",
   "execution_count": 62,
   "id": "4134a578",
   "metadata": {},
   "outputs": [
    {
     "name": "stdout",
     "output_type": "stream",
     "text": [
      "{\"user_id\": \"user_id\", \"category\": \"category\"}\n",
      "\n",
      "{\"user_id\": \"1840e0b9d4\", \"category\": \"Продукты\"}\n",
      "\n",
      "{\"user_id\": \"4e4f90fcfb\", \"category\": \"Электроника\"}\n",
      "\n",
      "{\"user_id\": \"afea8d72fc\", \"category\": \"Электроника\"}\n",
      "\n",
      "{\"user_id\": \"373a6055fe\", \"category\": \"Бытовая техника\"}\n",
      "\n",
      "{\"user_id\": \"9b2ab046f3\", \"category\": \"Электроника\"}\n",
      "\n",
      "{\"user_id\": \"9f39d307c3\", \"category\": \"Электроника\"}\n",
      "\n"
     ]
    }
   ],
   "source": [
    "#Задание 1\n",
    "#Переведите содержимое файла purchase_log.txt в словарь purchases вида:\n",
    "#{‘1840e0b9d4’: ‘Продукты’, …}\n",
    "\n",
    "\n",
    "import json\n",
    "\n",
    "file_name = 'purchase_log.txt'\n",
    "out_dict = {}\n",
    "\n",
    "f = open(file_name, encoding='UTF-8')\n",
    "\n",
    "#необязательно, но интересно\n",
    "for i,line in enumerate(f):\n",
    "    print(line)\n",
    "    \n",
    "    if i>5: break\n",
    "        \n",
    "#непосредственно перевод\n",
    "for i, line in enumerate(f):\n",
    "    user_id_val = json.loads(line)['user_id'] #значение по ключу user_id\n",
    "    category_val = json.loads(line)['category'] #значение по ключу category\n",
    "    out_dict[user_id_val] = category_val\n",
    "    #if i>100: break\n",
    "        \n",
    "#print(out_dict)"
   ]
  },
  {
   "cell_type": "code",
   "execution_count": 63,
   "id": "daa7ed01",
   "metadata": {},
   "outputs": [
    {
     "name": "stdout",
     "output_type": "stream",
     "text": [
      "['user_id', 'source']\n",
      "['6450655ae8', 'other']\n",
      "['b4ea53e670', 'other']\n",
      "['0e37347152', 'other']\n",
      "['96064ae9e0', 'other']\n",
      "['e1bd168161', 'context']\n",
      "['71bcf169b4', 'other']\n",
      "\n",
      " 13792 из 99511 \n",
      "\n",
      "['2824221f38', 'email', 'Продукты']\n",
      "['44edeffc91', 'context', 'Продукты']\n",
      "['704474fa2d', 'other', 'Продукты']\n",
      "['1de31be403', 'other', 'Бытовая техника']\n",
      "['5da0dedf13', 'context', 'Досуг']\n",
      "['b71f36a5e4', 'other', 'Продукты']\n",
      "['79843a685a', 'context', 'Продукты']\n"
     ]
    }
   ],
   "source": [
    "#Задание 2\n",
    "#Для каждого user_id в файле visit_log.csv определите третий столбец с категорией покупки \n",
    "#(если покупка была, сам файл visit_log.csv изменять не надо). \n",
    "#Запишите в файл funnel.csv визиты из файла visit_log.csv, в которых были покупки с указанием категории.\n",
    "#Учтите условия на данные:\n",
    "#содержимое purchase_log.txt помещается в оперативную память компьютера\n",
    "#содержимое visit_log.csv - нет; используйте только построчную обработку этого файла\n",
    "\n",
    "f = open('visit_log.csv')\n",
    "\n",
    "#просмотр\n",
    "for i,line in enumerate(f):\n",
    "    print(line.strip().split(','))\n",
    "    \n",
    "    if i>5: break\n",
    "        \n",
    "#ест ли там вообще user_id из первого файла и сколько их\n",
    "count = 0\n",
    "for i,line in enumerate(f):\n",
    "    #print(line.strip().split(','))\n",
    "    \n",
    "    if line.strip().split(',')[0] in out_dict:\n",
    "        count += 1\n",
    "        \n",
    "print('\\n',count, 'из',len(out_dict), '\\n')\n",
    "\n",
    "f.close()\n",
    "\n",
    "#выполнение задания\n",
    "with open('visit_log.csv') as f:\n",
    "    with open('funnel.csv', 'w') as f4out:\n",
    "        for line in f:\n",
    "            user_id = line.strip().split(',')[0] #user_id это первый элемент списка\n",
    "            #если среди ключей словаря есть рассматриваемый, добавляем в файл все данные и категорию из словаря по user_id\n",
    "            if user_id in out_dict:\n",
    "                f4out.write(line.strip() + ',' + out_dict[user_id] + '\\n')\n",
    "                \n",
    "\n",
    "#проверим что получилось\n",
    "f = open('funnel.csv')\n",
    "\n",
    "for i, line in enumerate(f):\n",
    "    print(line.strip().split(','))\n",
    "    \n",
    "    if i>5:break\n"
   ]
  }
 ],
 "metadata": {
  "kernelspec": {
   "display_name": "Python 3",
   "language": "python",
   "name": "python3"
  },
  "language_info": {
   "codemirror_mode": {
    "name": "ipython",
    "version": 3
   },
   "file_extension": ".py",
   "mimetype": "text/x-python",
   "name": "python",
   "nbconvert_exporter": "python",
   "pygments_lexer": "ipython3",
   "version": "3.8.8"
  }
 },
 "nbformat": 4,
 "nbformat_minor": 5
}
