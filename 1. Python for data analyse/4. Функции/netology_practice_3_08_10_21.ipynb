{
  "nbformat": 4,
  "nbformat_minor": 0,
  "metadata": {
    "colab": {
      "name": "netology_practice_3_08_10_21.ipynb",
      "provenance": [],
      "collapsed_sections": []
    },
    "kernelspec": {
      "name": "python3",
      "display_name": "Python 3"
    },
    "language_info": {
      "name": "python"
    }
  },
  "cells": [
    {
      "cell_type": "markdown",
      "metadata": {
        "id": "edQI-m-cCgpV"
      },
      "source": [
        "# Практика 3\n",
        "Теория: Функции\n",
        "\n",
        "Булыгин Олег:  \n",
        "* [LinkedIn](linkedin.com/in/obulygin)  \n",
        "* [Telegram](https://t.me/obulygin91)  \n",
        "* [facebook](fb.com/obulygin91)  \n",
        "* [Vk](vk.com/obulygin91)  \n",
        "* email: obulygin91@ya.ru  \n",
        "\n",
        "[Сообщество по Python](https://yandex.ru/q/loves/pythontalk/) на Кью  \n",
        "[Сообщество по Data Science и анализу данных](https://yandex.ru/q/loves/datatalk/) на Кью "
      ]
    },
    {
      "cell_type": "markdown",
      "metadata": {
        "id": "U72FhsNpDhxX"
      },
      "source": [
        "\n",
        "\n",
        "1.   Вспомним lambda-функции\n",
        "2.   Вспомним args\n",
        "3.   Напишем программу в процедурном стиле на основе функций\n",
        "\n",
        "\n"
      ]
    },
    {
      "cell_type": "markdown",
      "metadata": {
        "id": "XOY7VKI357LA"
      },
      "source": [
        "### Практика. Напишем функцию, которая определяет является ли слово палиндромом"
      ]
    },
    {
      "cell_type": "code",
      "metadata": {
        "id": "idXHoa_6Eqml",
        "colab": {
          "base_uri": "https://localhost:8080/"
        },
        "outputId": "26b596d1-97c5-4b2d-d6f0-2a212feb0092"
      },
      "source": [
        "def polyndrome(word):\n",
        "  print(word)\n",
        "  print(str(reversed(word)))\n",
        "  if word == reversed(word):\n",
        "    return True\n",
        "  else:\n",
        "    return False\n",
        "\n",
        "print(polyndrome('радар'))"
      ],
      "execution_count": null,
      "outputs": [
        {
          "output_type": "stream",
          "name": "stdout",
          "text": [
            "радар\n",
            "<reversed object at 0x7f1ce3465050>\n",
            "False\n"
          ]
        }
      ]
    },
    {
      "cell_type": "code",
      "metadata": {
        "colab": {
          "base_uri": "https://localhost:8080/"
        },
        "id": "JRNWyT7sp3wW",
        "outputId": "730f3d22-5c6e-4aa8-fdd0-6c2dca1886e6"
      },
      "source": [
        "def is_pal(s):\n",
        "  s = s.lower()\n",
        "  return s[::-1] == s\n",
        "\n",
        "print(is_pal('вкрвар'))"
      ],
      "execution_count": null,
      "outputs": [
        {
          "output_type": "stream",
          "name": "stdout",
          "text": [
            "False\n"
          ]
        }
      ]
    },
    {
      "cell_type": "markdown",
      "metadata": {
        "id": "BF7EhPbcSVBV"
      },
      "source": [
        "## args and kwargs\n",
        "Иногда возникает ситуация, когда вы заранее не знаете, какое количество аргументов будет необходимо принять функции. В этом случае следует использовать аргументы произвольной длины ([args и kwargs](https://habr.com/ru/company/ruvds/blog/482464/)). Они задаются произвольным именем переменной, перед которой ставится звездочка (args) или две здездочки (kwargs)."
      ]
    },
    {
      "cell_type": "code",
      "metadata": {
        "colab": {
          "base_uri": "https://localhost:8080/"
        },
        "id": "pB2ZV3BEqWQH",
        "outputId": "03abc12f-6ea6-4710-caae-33659c153078"
      },
      "source": [
        "def sum_division(*numbers, **kwargs):\n",
        "    print(numbers)\n",
        "    print(kwargs)\n",
        "    return round(sum(numbers) / kwargs['divisor'], kwargs['accuracy'])\n",
        "\n",
        "print(sum_division(1, 2, 3, 4, 5, 6, 7, 8, 1, 2, 3, 5, 6, divisor=3, accuracy=3))"
      ],
      "execution_count": null,
      "outputs": [
        {
          "output_type": "stream",
          "name": "stdout",
          "text": [
            "(1, 2, 3, 4, 5, 6, 7, 8, 1, 2, 3, 5, 6)\n",
            "{'divisor': 3, 'accuracy': 3}\n",
            "17.667\n"
          ]
        }
      ]
    },
    {
      "cell_type": "code",
      "metadata": {
        "colab": {
          "base_uri": "https://localhost:8080/"
        },
        "id": "hfonJb-hrMHy",
        "outputId": "29b50671-5af3-43d8-9666-3e0b58305557"
      },
      "source": [
        "numbers = [1, 2, 3, 4, 5, 6, 7, 8, 1, 2, 3, 5, 6]\n",
        "params = {'divisor': 3, 'accuracy': 2}\n",
        "\n",
        "print(sum_division(*numbers, **params))"
      ],
      "execution_count": null,
      "outputs": [
        {
          "output_type": "stream",
          "name": "stdout",
          "text": [
            "(1, 2, 3, 4, 5, 6, 7, 8, 1, 2, 3, 5, 6)\n",
            "{'divisor': 3, 'accuracy': 2}\n",
            "17.67\n"
          ]
        }
      ]
    },
    {
      "cell_type": "markdown",
      "metadata": {
        "id": "6GGM5SzuRYl3"
      },
      "source": [
        "### Практика. Напишем функцию, которая будет находить среднюю цену квартиры по всем переданным в нее районам города"
      ]
    },
    {
      "cell_type": "code",
      "metadata": {
        "id": "lpNZta4HrjPP"
      },
      "source": [
        "district_1 = {'flat_1': 10500, 'flat_2': 11000}\n",
        "district_2 = {'flat_3': 15000}\n",
        "district_3 = {'flat_4': 6500, 'flat_5': 7000, 'flat_6': 6000}   "
      ],
      "execution_count": null,
      "outputs": []
    },
    {
      "cell_type": "code",
      "metadata": {
        "colab": {
          "base_uri": "https://localhost:8080/"
        },
        "id": "0TgwVur7s9w5",
        "outputId": "13556947-a134-4f8c-97f7-f1a7589da773"
      },
      "source": [
        "district_1 = {'flat_1': 10500, 'flat_2': 11000}\n",
        "district_2 = {'flat_3': 15000}\n",
        "district_3 = {'flat_4': 6500, 'flat_5': 7000, 'flat_6': 6000} \n",
        "\n",
        "def med_price(*args):\n",
        "  #print(args)\n",
        "  s = 0\n",
        "  for el in args:\n",
        "    for item in el.values():\n",
        "      s = s + item/len(el.values())\n",
        "\n",
        "  s = s/len(args)\n",
        "  return s\n",
        "\n",
        "\n",
        "print(med_price(district_2))"
      ],
      "execution_count": null,
      "outputs": [
        {
          "output_type": "stream",
          "name": "stdout",
          "text": [
            "15000.0\n"
          ]
        }
      ]
    },
    {
      "cell_type": "code",
      "metadata": {
        "colab": {
          "base_uri": "https://localhost:8080/"
        },
        "id": "u5NTX-NktFqB",
        "outputId": "954c9b7c-d783-4b10-c503-9fc01ae8900d"
      },
      "source": [
        "def med_price(*args):\n",
        "  #print(args)\n",
        "  cost = 0\n",
        "  count = 0\n",
        "  for el in args:\n",
        "    cost += sum(el.values())\n",
        "    count += len(el.values())\n",
        "  return cost / count\n",
        "\n",
        "print(med_price(district_1, district_2, district_3))"
      ],
      "execution_count": null,
      "outputs": [
        {
          "output_type": "stream",
          "name": "stdout",
          "text": [
            "9333.333333333334\n"
          ]
        }
      ]
    },
    {
      "cell_type": "markdown",
      "metadata": {
        "id": "mgMjftejd7Ph"
      },
      "source": [
        "## Анонимные функции, функции map и filter\n",
        "\n",
        "[Анонимные функции](https://habr.com/ru/post/507642/) создаются при помощи инструкции lambda и используются для более краткой записи функций с одним выражением. Выполняются быстрее обычных и не требуют инструкции return."
      ]
    },
    {
      "cell_type": "code",
      "metadata": {
        "id": "5ZfyKWPruA2R"
      },
      "source": [
        "my_dict = {\n",
        "    'id1': 654321, \n",
        "    'id2': 123456, \n",
        "    'id3': 777777\n",
        "}"
      ],
      "execution_count": null,
      "outputs": []
    },
    {
      "cell_type": "code",
      "metadata": {
        "colab": {
          "base_uri": "https://localhost:8080/"
        },
        "id": "CxSHvHRKu0Pp",
        "outputId": "15d38e66-abcf-4c6c-b244-f3df2f58f896"
      },
      "source": [
        "res = {}\n",
        "\n",
        "for sorted_values in sorted(my_dict.values()):\n",
        "    print(sorted_values)\n",
        "    for key, value in my_dict.items():\n",
        "        if sorted_values == value:\n",
        "            res[key] = value\n",
        "\n",
        "print(res)"
      ],
      "execution_count": null,
      "outputs": [
        {
          "output_type": "stream",
          "name": "stdout",
          "text": [
            "123456\n",
            "654321\n",
            "777777\n",
            "{'id2': 123456, 'id1': 654321, 'id3': 777777}\n"
          ]
        }
      ]
    },
    {
      "cell_type": "code",
      "metadata": {
        "colab": {
          "base_uri": "https://localhost:8080/"
        },
        "id": "H2_E7N51v5ly",
        "outputId": "0f3f70ea-8f43-4923-89a6-2a96c43dfe9e"
      },
      "source": [
        "print(dict(sorted(my_dict.items(), key=lambda kv: kv[1])))"
      ],
      "execution_count": null,
      "outputs": [
        {
          "output_type": "stream",
          "name": "stdout",
          "text": [
            "{'id2': 123456, 'id1': 654321, 'id3': 777777}\n"
          ]
        }
      ]
    },
    {
      "cell_type": "code",
      "metadata": {
        "id": "xFQyAOUDwAyf"
      },
      "source": [
        "?sorted"
      ],
      "execution_count": null,
      "outputs": []
    },
    {
      "cell_type": "markdown",
      "metadata": {
        "id": "1whxQleKMlLv"
      },
      "source": [
        "Получим список из средних цен в каждой категории товаров"
      ]
    },
    {
      "cell_type": "code",
      "metadata": {
        "id": "S8ou57oXwjv7"
      },
      "source": [
        "prices_by_categories = [[100, 200, 400, 600], [200, 500], [100, 200, 100, 100], [800, 900]]"
      ],
      "execution_count": null,
      "outputs": []
    },
    {
      "cell_type": "code",
      "metadata": {
        "colab": {
          "base_uri": "https://localhost:8080/"
        },
        "id": "y26_Bd6ZwlUb",
        "outputId": "44cf1e16-42d5-4d72-9fb3-eeaa93caf9c7"
      },
      "source": [
        "def get_avg_prices(prices):\n",
        "    mean_prices = []\n",
        "    for category in prices:\n",
        "        mean_prices.append(sum(category) / len(category))\n",
        "    return mean_prices\n",
        "\n",
        "print(get_avg_prices(prices_by_categories))"
      ],
      "execution_count": null,
      "outputs": [
        {
          "output_type": "stream",
          "name": "stdout",
          "text": [
            "[325.0, 350.0, 125.0, 850.0]\n"
          ]
        }
      ]
    },
    {
      "cell_type": "code",
      "metadata": {
        "colab": {
          "base_uri": "https://localhost:8080/"
        },
        "id": "m_K9ye9Yw7UJ",
        "outputId": "1dca2aa6-af7b-4917-c108-e365bea416f3"
      },
      "source": [
        "list(map(lambda x: sum(x) / len(x), prices_by_categories))"
      ],
      "execution_count": null,
      "outputs": [
        {
          "output_type": "execute_result",
          "data": {
            "text/plain": [
              "[325.0, 350.0, 125.0, 850.0]"
            ]
          },
          "metadata": {},
          "execution_count": 31
        }
      ]
    },
    {
      "cell_type": "markdown",
      "metadata": {
        "id": "yH-gS2ATQesE"
      },
      "source": [
        "Решим задачу с фильтрацией структуры по гордам без цикла"
      ]
    },
    {
      "cell_type": "code",
      "metadata": {
        "id": "kYWRLmeazV6H"
      },
      "source": [
        "geo_logs = [\n",
        "    {'visit1': ['Москва', 'Россия']},\n",
        "    {'visit2': ['Дели', 'Индия']},\n",
        "    {'visit3': ['Владимир', 'Россия']},\n",
        "    {'visit4': ['Лиссабон', 'Португалия']},\n",
        "    {'visit5': ['Париж', 'Франция']},\n",
        "    {'visit7': ['Тула', 'Россия']},\n",
        "    {'visit9': ['Курск', 'Россия']},\n",
        "    {'visit10': ['Архангельск', 'Россия']}\n",
        "]"
      ],
      "execution_count": null,
      "outputs": []
    },
    {
      "cell_type": "code",
      "metadata": {
        "colab": {
          "base_uri": "https://localhost:8080/"
        },
        "id": "jNFKcBVjzbT1",
        "outputId": "49a329f2-d52c-4ce0-dd00-e5a9970d1bf3"
      },
      "source": [
        "result = []\n",
        "for log in geo_logs:\n",
        "    if 'Россия' == list(log.values())[0][1]:\n",
        "        result.append(log)\n",
        "        \n",
        "print(result)"
      ],
      "execution_count": null,
      "outputs": [
        {
          "output_type": "stream",
          "name": "stdout",
          "text": [
            "[{'visit1': ['Москва', 'Россия']}, {'visit3': ['Владимир', 'Россия']}, {'visit7': ['Тула', 'Россия']}, {'visit9': ['Курск', 'Россия']}, {'visit10': ['Архангельск', 'Россия']}]\n"
          ]
        }
      ]
    },
    {
      "cell_type": "code",
      "metadata": {
        "colab": {
          "base_uri": "https://localhost:8080/"
        },
        "id": "NlZtu1H6zgpM",
        "outputId": "7f22ef5c-9351-47b8-fb3e-d5c33e6d7409"
      },
      "source": [
        "list(filter(lambda log: 'Россия' == list(log.values())[0][1], geo_logs))"
      ],
      "execution_count": null,
      "outputs": [
        {
          "output_type": "execute_result",
          "data": {
            "text/plain": [
              "[{'visit1': ['Москва', 'Россия']},\n",
              " {'visit3': ['Владимир', 'Россия']},\n",
              " {'visit7': ['Тула', 'Россия']},\n",
              " {'visit9': ['Курск', 'Россия']},\n",
              " {'visit10': ['Архангельск', 'Россия']}]"
            ]
          },
          "metadata": {},
          "execution_count": 36
        }
      ]
    },
    {
      "cell_type": "code",
      "metadata": {
        "id": "TruIus_XzpQ2"
      },
      "source": [
        "?filter"
      ],
      "execution_count": null,
      "outputs": []
    },
    {
      "cell_type": "markdown",
      "metadata": {
        "id": "_mY3dvurRsd4"
      },
      "source": [
        "## Комплексный пример"
      ]
    },
    {
      "cell_type": "code",
      "metadata": {
        "id": "W_aILf2t0ZRG"
      },
      "source": [
        "students_list = [\n",
        "    {\"name\": \"Василий\", \"surname\": \"Теркин\", \"gender\": \"м\", \"program_exp\": True, \"grade\": [8, 8, 9, 10], \"exam\": 8},\n",
        "    {\"name\": \"Мария\", \"surname\": \"Павлова\", \"gender\": \"ж\", \"program_exp\": True, \"grade\": [7, 8, 9, 7, 9], \"exam\": 9},\n",
        "    {\"name\": \"Ирина\", \"surname\": \"Андреева\", \"gender\": \"ж\", \"program_exp\": False, \"grade\": [10, 9, 8, 10], \"exam\": 7},\n",
        "    {\"name\": \"Татьяна\", \"surname\": \"Сидорова\", \"gender\": \"ж\", \"program_exp\": False, \"grade\": [7, 8, 8, 9, 8],\"exam\": 10},\n",
        "    {\"name\": \"Иван\", \"surname\": \"Васильев\", \"gender\": \"м\", \"program_exp\": True, \"grade\": [9, 8, 9, 6, 9, 4], \"exam\": 5},\n",
        "    {\"name\": \"Роман\", \"surname\": \"Золотарев\", \"gender\": \"м\", \"program_exp\": False, \"grade\": [8, 9, 9, 6, 9], \"exam\": 6}\n",
        "]"
      ],
      "execution_count": null,
      "outputs": []
    },
    {
      "cell_type": "code",
      "metadata": {
        "colab": {
          "base_uri": "https://localhost:8080/"
        },
        "id": "4tJfzA7z0jk_",
        "outputId": "4dac0f08-0422-4784-b0cf-effad6e58a51"
      },
      "source": [
        "def get_avg_exam_grade(students):\n",
        "    sum_ex = 0\n",
        "    for student in students:\n",
        "        sum_ex += student['exam']\n",
        "    return round(sum_ex / len(students), 2)\n",
        "\n",
        "print(get_avg_exam_grade(students_list))"
      ],
      "execution_count": null,
      "outputs": [
        {
          "output_type": "stream",
          "name": "stdout",
          "text": [
            "7.5\n"
          ]
        }
      ]
    },
    {
      "cell_type": "code",
      "metadata": {
        "colab": {
          "base_uri": "https://localhost:8080/"
        },
        "id": "vN17qcej2DJi",
        "outputId": "071d9234-4a7b-45e9-a3d5-937577c39e9e"
      },
      "source": [
        "def get_avg_hw_grade(students, exp=None, gender=None):\n",
        "    sum_hw = 0\n",
        "    counter = 0\n",
        "    for student in students:\n",
        "        if (student['program_exp'] == exp or exp is None) and (student['gender'] == gender or gender is None):\n",
        "            sum_hw += sum(student['grade']) / len(student['grade'])\n",
        "            counter += 1\n",
        "    return round(sum_hw / counter, 2)\n",
        "\n",
        "print(get_avg_hw_grade(students_list, True))\n",
        "print(get_avg_hw_grade(students_list, False))\n",
        "print(get_avg_hw_grade(students_list))\n",
        "\n",
        "print(get_avg_hw_grade(students_list, True, 'м'))\n",
        "print(get_avg_hw_grade(students_list, False, 'ж'))\n",
        "\n",
        "print(get_avg_hw_grade(students_list, gender='м'))\n",
        "print(get_avg_hw_grade(students_list, gender='ж'))\n",
        "print(get_avg_hw_grade(students_list, None, 'м'))\n",
        "print(get_avg_hw_grade(students_list, None, 'ж'))"
      ],
      "execution_count": null,
      "outputs": [
        {
          "output_type": "stream",
          "name": "stdout",
          "text": [
            "8.08\n",
            "8.48\n",
            "8.28\n",
            "8.12\n",
            "8.62\n",
            "8.15\n",
            "8.42\n",
            "8.15\n",
            "8.42\n"
          ]
        }
      ]
    },
    {
      "cell_type": "code",
      "metadata": {
        "colab": {
          "base_uri": "https://localhost:8080/"
        },
        "id": "BcVnX0WV6cSa",
        "outputId": "3732f7ba-3e89-4450-c14d-e2be53262aa6"
      },
      "source": [
        "def main(students):\n",
        "    while True:\n",
        "        user_input = input('Введите команду')\n",
        "        if user_input == '1':\n",
        "            print(get_avg_exam_grade(students))\n",
        "        elif user_input == '2':\n",
        "            print(get_avg_hw_grade(students, True))\n",
        "        elif user_input == '3':\n",
        "            print(get_avg_hw_grade(students, True, 'м'))\n",
        "        elif user_input == '4':\n",
        "            print(get_avg_hw_grade(students, gender='ж'))\n",
        "        elif user_input == 'q':\n",
        "            print('До свидания!')\n",
        "            break\n",
        "\n",
        "main(students_list)"
      ],
      "execution_count": null,
      "outputs": [
        {
          "output_type": "stream",
          "name": "stdout",
          "text": [
            "Введите команду1\n",
            "7.5\n",
            "Введите команду2\n",
            "8.08\n",
            "Введите команду3\n",
            "8.12\n",
            "Введите команду4\n",
            "8.42\n",
            "Введите командуq\n",
            "До свидания!\n"
          ]
        }
      ]
    },
    {
      "cell_type": "markdown",
      "metadata": {
        "id": "bkinutWn7ge_"
      },
      "source": [
        "Напишем функцию, преобразующую произвольный список вида `['2018-01-01', 'yandex', 'cpc', 100]` (он может быть любой длины) в словарь `{'2018-01-01': {'yandex': {'cpc': 100}}}`"
      ]
    },
    {
      "cell_type": "code",
      "metadata": {
        "colab": {
          "base_uri": "https://localhost:8080/"
        },
        "id": "bLXwN0d37gvV",
        "outputId": "c1248430-8e86-4319-a989-f6989dbd52ee"
      },
      "source": [
        "crazy_list = ['2018-01-01', 'yandex', 'cpc', 100]\n",
        "%time\n",
        "def get_crazy_nested_dict(some_list):\n",
        "    some_var = some_list[-1]\n",
        "    for i in some_list[-2::-1]:\n",
        "        some_var = {i : some_var}\n",
        "    \n",
        "    return some_var\n",
        "    \n",
        "print(get_crazy_nested_dict(crazy_list))"
      ],
      "execution_count": null,
      "outputs": [
        {
          "output_type": "stream",
          "name": "stdout",
          "text": [
            "CPU times: user 3 µs, sys: 0 ns, total: 3 µs\n",
            "Wall time: 6.44 µs\n",
            "{'2018-01-01': {'yandex': {'cpc': 100}}}\n"
          ]
        }
      ]
    },
    {
      "cell_type": "code",
      "metadata": {
        "colab": {
          "base_uri": "https://localhost:8080/"
        },
        "id": "oKdXv6Rs8IbO",
        "outputId": "b0107852-807a-452e-a55f-fe48e5114b60"
      },
      "source": [
        "def recursion_list(some_list):\n",
        "    if len(some_list) == 1:\n",
        "        return some_list[0]\n",
        "    return {some_list[0]:recursion_list(some_list[1:])}\n",
        "\n",
        "print(recursion_list(crazy_list))"
      ],
      "execution_count": null,
      "outputs": [
        {
          "output_type": "stream",
          "name": "stdout",
          "text": [
            "{'2018-01-01': {'yandex': {'cpc': 100}}}\n"
          ]
        }
      ]
    },
    {
      "cell_type": "code",
      "metadata": {
        "colab": {
          "base_uri": "https://localhost:8080/"
        },
        "id": "jRBIwd-i96BV",
        "outputId": "c887a04e-c4e6-45b8-f5a3-030d8e64b63a"
      },
      "source": [
        "\n",
        "from functools import reduce\n",
        "%time\n",
        "print(reduce(lambda value, key: {key:value}, reversed(crazy_list)))"
      ],
      "execution_count": null,
      "outputs": [
        {
          "output_type": "stream",
          "name": "stdout",
          "text": [
            "CPU times: user 3 µs, sys: 1 µs, total: 4 µs\n",
            "Wall time: 6.68 µs\n",
            "{'2018-01-01': {'yandex': {'cpc': 100}}}\n"
          ]
        }
      ]
    }
  ]
}