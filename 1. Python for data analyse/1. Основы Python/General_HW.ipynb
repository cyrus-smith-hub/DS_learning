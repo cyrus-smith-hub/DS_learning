{
 "cells": [
  {
   "cell_type": "code",
   "execution_count": 1,
   "id": "24620eb9",
   "metadata": {},
   "outputs": [
    {
     "name": "stdout",
     "output_type": "stream",
     "text": [
      "фраза 1 короче фразы 2\n"
     ]
    }
   ],
   "source": [
    "#Задание 1\n",
    "#Даны 2 переменных, в которых хранятся строки произвольной длины: phrase_1 и phrase_2.\n",
    "#Напишите код, который проверяет какая из этих строк длиннее.\n",
    "\n",
    "phrase_1 = 'короткая фраза'\n",
    "phrase_2 = 'фраза ,которая длиннее, чем короткая фраза'\n",
    "\n",
    "if len(phrase_1) > len(phrase_2):\n",
    "  print('фраза 1 длиннее фразы 2')\n",
    "elif len(phrase_1) == len(phrase_2):\n",
    "  print('фраза 1 равна по длине фразе 2')\n",
    "elif len(phrase_1) < len(phrase_2):\n",
    "  print('фраза 1 короче фразы 2')"
   ]
  },
  {
   "cell_type": "code",
   "execution_count": 2,
   "id": "0faae0f3",
   "metadata": {},
   "outputs": [
    {
     "name": "stdout",
     "output_type": "stream",
     "text": [
      "год 2028 високосный\n"
     ]
    }
   ],
   "source": [
    "#Задание 2\n",
    "#Дана переменная, в которой хранится четырехзначное число (год).\n",
    "#Необходимо написать программу, которая выведет, является ли данный год високосным или обычным.\n",
    "\n",
    "year=2028\n",
    "\n",
    "if year % 400 == 0:\n",
    "  year_type='високосный'\n",
    "elif year % 100 == 0:\n",
    "  year_type='невисокосный'\n",
    "elif year % 4 == 0:\n",
    "  year_type='високосный'\n",
    "else:\n",
    "  year_type='невисокосный'\n",
    "\n",
    "print('год {} {}'.format(year, year_type))"
   ]
  },
  {
   "cell_type": "code",
   "execution_count": 5,
   "id": "f7a63cb0",
   "metadata": {},
   "outputs": [
    {
     "name": "stdout",
     "output_type": "stream",
     "text": [
      "введите дату рождения: 36\n",
      "введите месяц рождения: февраль\n",
      "Вы ввели дату больше 31, пусть будет 31\n",
      "Вы -  Рыбы\n"
     ]
    }
   ],
   "source": [
    "#Задание 3\n",
    "#Необходимо написать программу, которая будет запрашивать у пользователя\n",
    "#месяц и дату рождения и выводить соответствующий знак зодиака.\n",
    "#Используются даты по западной астрологии вартанта 1, согласно Вики\n",
    "\n",
    "date = input('введите дату рождения: ')\n",
    "month = input('введите месяц рождения: ')\n",
    "\n",
    "#сопоставление текстовы значений месяцев с числовыми\n",
    "if month ==   'Январь' or month == 'январь':\n",
    "  month_num = '01'\n",
    "elif month == 'Февраль' or month == 'февраль':\n",
    "  month_num = '02'\n",
    "elif month == 'Март' or month == 'март':\n",
    "  month_num = '03'\n",
    "elif month == 'Апрель' or month == 'апрель':\n",
    "  month_num = '04'\n",
    "elif month == 'Май' or month == 'май':\n",
    "  month_num = '05'\n",
    "elif month == 'Июнь' or month == 'июнь':\n",
    "  month_num = '06'\n",
    "elif month == 'Июль' or month == 'июль':\n",
    "  month_num = '07'\n",
    "elif month == 'Август' or month == 'август':\n",
    "  month_num = '08'\n",
    "elif month == 'Сентябрь' or month == 'сентябрь':\n",
    "  month_num = '09'\n",
    "elif month == 'Октябрь' or month == 'октябрь':\n",
    "  month_num = '10'\n",
    "elif month == 'Ноябрь' or month == 'ноябрь':\n",
    "  month_num = '11'\n",
    "elif month == 'Декабрь' or month == 'декабрь':\n",
    "  month_num = '12'\n",
    "else:\n",
    "  print('попробуйте еще раз')\n",
    "\n",
    "#легкая проверка введенной даты\n",
    "if date > '31':\n",
    "  print('Вы ввели дату больше 31, пусть будет 31')\n",
    "  date = '31'\n",
    "\n",
    "full_date = month_num + '-' + date #получение даты в формате мм-дд\n",
    "#print(full_date)\n",
    "\n",
    "#Определение куда попадает дата\n",
    "if full_date >= '03-21' and full_date <= '04-19':\n",
    "  zodiac = 'Овен'\n",
    "elif full_date >= '04-20' and full_date <= '05-20':\n",
    "  zodiac = 'Телец'\n",
    "elif full_date >= '05-21' and full_date <= '06-20':\n",
    "  zodiac = 'Близнец'\n",
    "elif full_date >= '06-21' and full_date <= '07-22':\n",
    "  zodiac = 'Рак'\n",
    "elif full_date >= '07-23' and full_date <= '08-22':\n",
    "  zodiac = 'Лев'\n",
    "elif full_date >= '08-23' and full_date <= '09-22':\n",
    "  zodiac = 'Дева'\n",
    "elif full_date >= '09-23' and full_date <= '10-22':\n",
    "  zodiac = 'Весы'\n",
    "elif full_date >= '10-23' and full_date <= '11-21':\n",
    "  zodiac = 'Скорпион'\n",
    "elif full_date >= '11-22' and full_date <= '12-21':\n",
    "  zodiac = 'Стрелец'\n",
    "elif full_date >= '12-22' or full_date <= '01-19': #нет ни месяца 0, ни месяца 13\n",
    "  zodiac = 'Козерог'\n",
    "elif full_date >= '01-20' and full_date <= '02-18':\n",
    "  zodiac = 'Водолей'\n",
    "elif full_date >= '02-19' and full_date <= '03-20':\n",
    "  zodiac = 'Рыбы'\n",
    "\n",
    "print('Вы - ',zodiac)\n"
   ]
  },
  {
   "cell_type": "code",
   "execution_count": 6,
   "id": "d4c0c380",
   "metadata": {},
   "outputs": [
    {
     "name": "stdout",
     "output_type": "stream",
     "text": [
      "Стандартная коробка №3\n"
     ]
    }
   ],
   "source": [
    "#Задание 4\n",
    "#Вам нужно написать программу для подбора упаковок по размерам товара. Размеры (ширина, длина, высота) хранятся в переменных (в сантиметрах):\n",
    "#Используйте следующие правила:\n",
    "#    если каждое из трех измерений менее или равно 15 сантиметрам, то выведите на экран “Коробка №1”;\n",
    "#    если хотя бы одно из измерений больше 15 сантиметров, но менее 50 сантиметров, то выводите “Коробка №2”;\n",
    "#    если длина товара больше 2 метров, то выводите “Упаковка для лыж”;\n",
    "#    во всех остальных случаях выводите “Стандартная коробка №3”.\n",
    "\n",
    "width = 51\n",
    "length = 199\n",
    "height = 51\n",
    "\n",
    "#Выбор коробки\n",
    "if width <= 15 and length <= 15 and height <= 15:\n",
    "  selected_box = 'Коробка №1'\n",
    "elif width > 15 and width <50 and length <= 200:\n",
    "  selected_box = 'Коробка №2'\n",
    "elif length > 15 and length < 50:\n",
    "  selected_box = 'Коробка №2'\n",
    "elif height > 15 and height <50 and length <=200:\n",
    "  selected_box = 'Коробка №2'\n",
    "elif length > 200:\n",
    "  selected_box = 'Упаковка для лыж'\n",
    "else:\n",
    "  selected_box = 'Стандартная коробка №3'\n",
    "\n",
    "print(selected_box)"
   ]
  },
  {
   "cell_type": "code",
   "execution_count": 9,
   "id": "da0c076f",
   "metadata": {},
   "outputs": [
    {
     "name": "stdout",
     "output_type": "stream",
     "text": [
      "Happy ticket!\n"
     ]
    }
   ],
   "source": [
    "#Задача 5\n",
    "#Дана переменная, в которой хранится шестизначное число (номер проездного билета).\n",
    "#Напишите программу, которая будет определять, является ли данный билет “счастливым”.\n",
    "#Билет считается счастливым, если сумма первых трех цифр совпадает с суммой последних трех цифр номера.\n",
    "\n",
    "num = 632119\n",
    "left_num = num//1000\n",
    "right_num = num - left_num*1000\n",
    "\n",
    "left_one = left_num//100\n",
    "left_two = (left_num - left_one*100)//10\n",
    "left_three = left_num - left_one*100 - left_two*10\n",
    "right_one = right_num//100\n",
    "right_two = (right_num - right_one*100)//10\n",
    "right_three = right_num - right_one*100 - right_two*10\n",
    "\n",
    "if left_one + left_two + left_three == right_one + right_two + right_three:\n",
    "  print('Happy ticket!')\n",
    "else:\n",
    "  print(\"dont't worry\")"
   ]
  },
  {
   "cell_type": "code",
   "execution_count": 10,
   "id": "a2f98a7a",
   "metadata": {},
   "outputs": [
    {
     "name": "stdout",
     "output_type": "stream",
     "text": [
      "Введите фигуру: 0 - круг, 3 - треугольник, 4 - прямоугольник: 0\n",
      "введите радиус: 6\n",
      "площадь фигуры: 113.04\n"
     ]
    }
   ],
   "source": [
    "#Задача 6\n",
    "#Напишите программу, которая сможет вычислять площади трех фигур (круг, треугольник и прямоугольник).\n",
    "#Тип фигуры запрашиваем через пользовательский ввод, после чего делаем запрос характеристик фигуры:\n",
    "#    если пользователь выбрал круг, запрашиваем его радиус,\n",
    "#    если треугольник – длины трех его сторон;\n",
    "#    если прямоугольник – длины двух его сторон.\n",
    "\n",
    "square = 0 #иначе при некорректном вводе типа фигуры печатает предыдущую площадь\n",
    "fig_type = input('Введите фигуру: 0 - круг, 3 - треугольник, 4 - прямоугольник: ')\n",
    "if fig_type == '0':\n",
    "  r = float(input('введите радиус: '))\n",
    "  square = 3.14*r**2\n",
    "elif fig_type == '3':\n",
    "  a = float(input('введите первую сторону треугольника: '))\n",
    "  b = float(input('введите вторую сторону треугольника: '))\n",
    "  c = float(input('введите третью сторону треугольника: '))\n",
    "  p = 0.5*(a+b+c)\n",
    "  square = (p*(p-a)*(p-b)*(p-c))**0.5\n",
    "elif fig_type == '4':\n",
    "  a = float(input('введите первую сторону: '))\n",
    "  b = float(input('введите вторую сторону: '))\n",
    "  square = a*b\n",
    "else:\n",
    "  print('некорректный ввод!')\n",
    "\n",
    "print('площадь фигуры:', ((square*1000)//10)/100) #пока без Math"
   ]
  }
 ],
 "metadata": {
  "kernelspec": {
   "display_name": "Python 3",
   "language": "python",
   "name": "python3"
  },
  "language_info": {
   "codemirror_mode": {
    "name": "ipython",
    "version": 3
   },
   "file_extension": ".py",
   "mimetype": "text/x-python",
   "name": "python",
   "nbconvert_exporter": "python",
   "pygments_lexer": "ipython3",
   "version": "3.8.8"
  }
 },
 "nbformat": 4,
 "nbformat_minor": 5
}
