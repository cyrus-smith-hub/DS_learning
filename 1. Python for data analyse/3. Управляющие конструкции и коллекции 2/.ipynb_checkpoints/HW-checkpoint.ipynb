{
 "cells": [
  {
   "cell_type": "code",
   "execution_count": null,
   "metadata": {
    "colab": {
     "base_uri": "https://localhost:8080/"
    },
    "id": "D1K3Z6c8t3jJ",
    "outputId": "8007fc83-9c1e-48d2-9640-450106ff891d"
   },
   "outputs": [
    {
     "name": "stdout",
     "output_type": "stream",
     "text": [
      "{98, 35, 15, 213, 54, 119}\n",
      "{98, 35, 15, 213, 54, 119}\n"
     ]
    }
   ],
   "source": [
    "#Задание 1\n",
    "\n",
    "#Дана переменная, в которой хранится словарь, содержащий гео-метки для каждого пользователя (пример структуры данных приведен ниже).\n",
    "#Вам необходимо написать программу, которая выведет на экран множество уникальных гео-меток всех пользователей.\n",
    "\n",
    "ids = {\n",
    "'user1': [213, 213, 213, 15, 213],\n",
    "'user2': [54, 54, 119, 119, 119],\n",
    "'user3': [213, 98, 98, 35]}\n",
    "\n",
    "#длинно\n",
    "temp_list = []\n",
    "\n",
    "for el in ids.values():\n",
    "  #print(el)\n",
    "  temp_list += el\n",
    "\n",
    "print(set(sum([el for el in ids.values()],[]))) #когда есть решение можно и сократить\n",
    "\n",
    "print(set(temp_list))"
   ]
  },
  {
   "cell_type": "code",
   "execution_count": 1,
   "metadata": {
    "colab": {
     "base_uri": "https://localhost:8080/"
    },
    "id": "180EaIVJvumk",
    "outputId": "9f440b0b-5a46-4869-c497-40e3154b0b87"
   },
   "outputs": [
    {
     "name": "stdout",
     "output_type": "stream",
     "text": [
      "слов длиной 3: 30.8%\n",
      "слов длиной 2: 30.8%\n",
      "слов длиной 5: 15.4%\n",
      "слов длиной 1: 7.7%\n",
      "слов длиной 6: 7.7%\n",
      "слов длиной 0: 7.7%\n"
     ]
    }
   ],
   "source": [
    "#Задание 2\n",
    "\n",
    "#Дана переменная, в которой хранится список поисковых запросов пользователя (пример структуры данных приведен ниже).\n",
    "#Вам необходимо написать программу, которая выведет на экран распределение количества слов в запросах в требуемом виде.\n",
    "\n",
    "queries = [\n",
    "'смотреть сериалы онлайн',\n",
    "'новости спорта',\n",
    "'афиша кино',\n",
    "'курс доллара',\n",
    "'сериалы этим летом',\n",
    "'курс по питону',\n",
    "'сериалы про спорт',\n",
    "'python уроки без смс и ',\n",
    "'что такое осень это камни',\n",
    "'он?',\n",
    "'как сортировать словарь python по ключам',\n",
    "'',\n",
    "'где я'\n",
    "]\n",
    "\n",
    "res={}\n",
    "\n",
    "for el in queries:\n",
    "  word_count = len(el.split())\n",
    "\n",
    "  if word_count in res:\n",
    "    res[word_count] += round(100/len(queries),1)\n",
    "  else:\n",
    "    res.setdefault(word_count,round(100/len(queries),1))\n",
    "\n",
    "for el in res:\n",
    "  print(f'слов длиной {el}: {res.get(el)}%')"
   ]
  },
  {
   "cell_type": "code",
   "execution_count": null,
   "metadata": {
    "colab": {
     "base_uri": "https://localhost:8080/"
    },
    "id": "N1JY2Ca3z7dz",
    "outputId": "948b24de-8d88-47f8-8f1c-83139b6dfc14"
   },
   "outputs": [
    {
     "name": "stdout",
     "output_type": "stream",
     "text": [
      "{'vk': {'revenue': 103, 'cost': 98, 'ROI': 5.1}, 'yandex': {'revenue': 179, 'cost': 153, 'ROI': 16.99}, 'facebook': {'revenue': 103, 'cost': 110, 'ROI': -6.36}, 'adwords': {'revenue': 35, 'cost': 34, 'ROI': 2.94}, 'twitter': {'revenue': 11, 'cost': 24, 'ROI': -54.17}}\n"
     ]
    }
   ],
   "source": [
    "#Задание 3\n",
    "\n",
    "#Дана переменная, в которой хранится информация о затратах и доходе рекламных кампаний по различным источникам.\n",
    "#Необходимо дополнить исходную структуру показателем ROI, который рассчитаем по формуле: (revenue / cost - 1) * 100\n",
    "\n",
    "results = {\n",
    "'vk': {'revenue': 103, 'cost': 98},\n",
    "'yandex': {'revenue': 179, 'cost': 153},\n",
    "'facebook': {'revenue': 103, 'cost': 110},\n",
    "'adwords': {'revenue': 35, 'cost': 34},\n",
    "'twitter': {'revenue': 11, 'cost': 24},\n",
    "}\n",
    "\n",
    "for el in results:\n",
    "  revenue = results.get(el).get('revenue')\n",
    "  cost = results.get(el).get('cost')\n",
    "  results.get(el)['ROI'] = round((revenue/cost-1)*100,2)\n",
    "\n",
    "print(results) #красиво вывести задачи не было"
   ]
  },
  {
   "cell_type": "code",
   "execution_count": null,
   "metadata": {
    "colab": {
     "base_uri": "https://localhost:8080/"
    },
    "id": "W3-kp_SZ2OoU",
    "outputId": "f3b3a0fd-839f-4ff9-f263-4a63ba2d5a66"
   },
   "outputs": [
    {
     "name": "stdout",
     "output_type": "stream",
     "text": [
      "Максимальный объем продаж у vk\n",
      "Максимальный объем продаж у habr\n"
     ]
    }
   ],
   "source": [
    "#Задание 4\n",
    "\n",
    "#Дана переменная, в которой хранится статистика рекламных каналов по объемам продаж (пример структуры данных приведен ниже).\n",
    "#Напишите программу, которая возвращает название канала с максимальным объемом продаж.\n",
    "\n",
    "stats = {'facebook': 55, 'yandex': 115, 'vk': 120, 'google': 99, 'email': 42, 'ok': 98,'habr':120}\n",
    "max_val = max(stats.values())\n",
    "\n",
    "for el in stats:\n",
    "  if int(stats.get(el)) == max_val:\n",
    "    print(f'Максимальный объем продаж у {el}')"
   ]
  },
  {
   "cell_type": "code",
   "execution_count": null,
   "metadata": {
    "colab": {
     "base_uri": "https://localhost:8080/"
    },
    "id": "znlAFba04eIW",
    "outputId": "e66acefa-0cca-409e-cabb-9475f310e6e6"
   },
   "outputs": [
    {
     "name": "stdout",
     "output_type": "stream",
     "text": [
      "{1: {2: {3: {4: {5: {6: {7: {8: 9}}}}}}}}\n"
     ]
    }
   ],
   "source": [
    "#Задание 5\n",
    "\n",
    "#Дан список произвольной длины.\n",
    "#Необходимо написать код, который на основе исходного списка составит словарь такого уровня вложенности, какова длина исхондого списка.\n",
    "\n",
    "my_list = [1,2,3,4,5,6,7,8,9]\n",
    "my_dict = {}\n",
    "\n",
    "end_el = my_list[-1]\n",
    "\n",
    "#постарался сделать хоть немного отлично от способа из вебинара)\n",
    "for el in my_list[-2::-1]:\n",
    "  my_dict.clear()\n",
    "  my_dict.setdefault(el,end_el)\n",
    "  end_el = dict(my_dict)\n",
    "\n",
    "print(my_dict)"
   ]
  },
  {
   "cell_type": "code",
   "execution_count": null,
   "metadata": {
    "colab": {
     "base_uri": "https://localhost:8080/"
    },
    "id": "RFMkkRNU9QKx",
    "outputId": "42f639d8-60e3-4207-ae38-a7f9716f52bb"
   },
   "outputs": [
    {
     "name": "stdout",
     "output_type": "stream",
     "text": [
      "Сыр: 210 гр\n",
      "Томаты: 6 шт\n",
      "Огурцы: 60 гр\n",
      "Маслины: 30 гр\n",
      "Оливковое: 60 масло\n",
      "Салат: 30 гр\n",
      "Перец: 60 гр\n",
      "Колбаса: 90 гр\n",
      "Бекон: 90 гр\n",
      "Оливки: 30 гр\n",
      "Томаты: 60 гр\n",
      "Тесто: 300 гр\n",
      "Лимон: 3 шт\n",
      "Вода: 600 мл\n",
      "Сахар: 30 гр\n",
      "Лайм: 60 гр\n"
     ]
    }
   ],
   "source": [
    "#Задание 6\n",
    "\n",
    "#Дана книга рецептов ецептов с информацией о том, сколько ингредиентов нужно для приготовления блюда в расчете на одну порцию (пример данных представлен ниже).\n",
    "#Напишите программу, которая будет запрашивать у пользователя количество порций для приготовления этих блюд и отображать информацию о суммарном количестве требуемых ингредиентов в указанном виде.\n",
    "#Внимание! Одинаковые ингридиенты с разными размерностями нужно считать раздельно!\n",
    "\n",
    "cook_book = {\n",
    "'салат': [\n",
    "{'ingridient_name': 'сыр', 'quantity': 50, 'measure': 'гр'},\n",
    "{'ingridient_name': 'томаты', 'quantity': 2, 'measure': 'шт'},\n",
    "{'ingridient_name': 'огурцы', 'quantity': 20, 'measure': 'гр'},\n",
    "{'ingridient_name': 'маслины', 'quantity': 10, 'measure': 'гр'},\n",
    "{'ingridient_name': 'оливковое масло', 'quantity': 20, 'measure': 'мл'},\n",
    "{'ingridient_name': 'салат', 'quantity': 10, 'measure': 'гр'},\n",
    "{'ingridient_name': 'перец', 'quantity': 20, 'measure': 'гр'}\n",
    "],\n",
    "'пицца': [\n",
    "{'ingridient_name': 'сыр', 'quantity': 20, 'measure': 'гр'},\n",
    "{'ingridient_name': 'колбаса', 'quantity': 30, 'measure': 'гр'},\n",
    "{'ingridient_name': 'бекон', 'quantity': 30, 'measure': 'гр'},\n",
    "{'ingridient_name': 'оливки', 'quantity': 10, 'measure': 'гр'},\n",
    "{'ingridient_name': 'томаты', 'quantity': 20, 'measure': 'гр'},\n",
    "{'ingridient_name': 'тесто', 'quantity': 100, 'measure': 'гр'},\n",
    "],\n",
    "'лимонад': [\n",
    "{'ingridient_name': 'лимон', 'quantity': 1, 'measure': 'шт'},\n",
    "{'ingridient_name': 'вода', 'quantity': 200, 'measure': 'мл'},\n",
    "{'ingridient_name': 'сахар', 'quantity': 10, 'measure': 'гр'},\n",
    "{'ingridient_name': 'лайм', 'quantity': 20, 'measure': 'гр'},\n",
    "]\n",
    "}\n",
    "\n",
    "res = {}\n",
    "person_count = 3\n",
    "\n",
    "for el in cook_book.values():\n",
    "  for item in el:\n",
    "    name = str(item.get('ingridient_name') + ' ' + item.get('measure')) #без вебинара использовать кортежи как ключи я точно бы не догадался, а до строк - да)\n",
    "    need_quantity = item.get('quantity')*person_count\n",
    "    \n",
    "    if name in res:\n",
    "      res[name] += need_quantity\n",
    "    else:\n",
    "      res[name] = need_quantity\n",
    "\n",
    "for el in res:\n",
    "  print(el.split()[0].capitalize() + ': ' + str(res.get(el)) + ' ' + el.split()[1])"
   ]
  }
 ],
 "metadata": {
  "colab": {
   "collapsed_sections": [],
   "name": "ДЗ-3.ipynb",
   "provenance": []
  },
  "kernelspec": {
   "display_name": "Python 3",
   "language": "python",
   "name": "python3"
  },
  "language_info": {
   "codemirror_mode": {
    "name": "ipython",
    "version": 3
   },
   "file_extension": ".py",
   "mimetype": "text/x-python",
   "name": "python",
   "nbconvert_exporter": "python",
   "pygments_lexer": "ipython3",
   "version": "3.8.8"
  }
 },
 "nbformat": 4,
 "nbformat_minor": 1
}
