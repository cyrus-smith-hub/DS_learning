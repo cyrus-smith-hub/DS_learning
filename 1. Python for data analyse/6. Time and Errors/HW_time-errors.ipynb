{
 "cells": [
  {
   "cell_type": "code",
   "execution_count": 1,
   "id": "8f2522d7",
   "metadata": {},
   "outputs": [],
   "source": [
    "#Задание 1\n",
    "\n",
    "#Печатные газеты использовали свой формат дат для каждого выпуска. \n",
    "#Для каждой газеты из списка напишите формат указанной даты для перевода в объект datetime:\n",
    "#The Moscow Times - Wednesday, October 2, 2002\n",
    "#The Guardian - Friday, 11.10.13\n",
    "#Daily News - Thursday, 18 August 1977\n",
    "\n",
    "\n",
    "from datetime import datetime\n",
    "\n",
    "moscow_times = 'Wednesday, October 2, 2002'\n",
    "the_guardian = 'Friday, 11.10.13'\n",
    "daily_news = 'Thursday, 18 August 1977'\n",
    "\n",
    "moscow_times = datetime.strptime(moscow_times, \"%A, %B %d, %Y\")\n",
    "the_guardian = datetime.strptime(the_guardian, \"%A, %d.%m.%y\")\n",
    "daily_news = datetime.strptime(daily_news, \"%A, %d %B %Y\")"
   ]
  },
  {
   "cell_type": "code",
   "execution_count": 2,
   "id": "b2a1911b",
   "metadata": {},
   "outputs": [
    {
     "name": "stdout",
     "output_type": "stream",
     "text": [
      "20l8-04-02 False\n",
      "2018-02-29 False\n",
      "2018-19-02 False\n",
      "20-11-02 False\n",
      "2020-02-14 True\n",
      "1998-11-44 False\n",
      "1902-13-01 False\n",
      "2021-03-14 True\n"
     ]
    }
   ],
   "source": [
    "#Задание 2\n",
    "\n",
    "#Дан поток дат в формате YYYY-MM-DD, в которых встречаются некорректные значения:\n",
    "#stream = [‘2018-04-02’, ‘2018-02-29’, ‘2018-19-02’]\n",
    "#Напишите функцию, которая проверяет эти даты на корректность.\n",
    "#Т. е. для каждой даты возвращает True (дата корректна) или False (некорректная дата).\n",
    "\n",
    "stream = ['20l8-04-02', '2018-02-29', '2018-19-02', '20-11-02', '2020-02-14', '1998-11-44', '1902-13-01', '2021-03-14']\n",
    "\n",
    "from datetime import datetime\n",
    "\n",
    "\n",
    "def date_test(date):\n",
    "    try:\n",
    "        a = datetime.strptime(date,'%Y-%m-%d')\n",
    "        return True\n",
    "    except:\n",
    "        return False\n",
    "    \n",
    "\n",
    "for el in stream:\n",
    "    print(el, date_test(el))\n"
   ]
  },
  {
   "cell_type": "code",
   "execution_count": 79,
   "id": "4a07a776",
   "metadata": {},
   "outputs": [
    {
     "name": "stdout",
     "output_type": "stream",
     "text": [
      "['2021-02-16', '2021-02-17', '2021-02-18', '2021-02-19', '2021-02-20', '2021-02-21', '2021-02-22', '2021-02-23', '2021-02-24', '2021-02-25', '2021-02-26', '2021-02-27', '2021-02-28', '2021-03-01', '2021-03-02', '2021-03-03', '2021-03-04', '2021-03-05', '2021-03-06', '2021-03-07', '2021-03-08', '2021-03-09', '2021-03-10', '2021-03-11', '2021-03-12', '2021-03-13', '2021-03-14', '2021-03-15', '2021-03-16', '2021-03-17', '2021-03-18']\n"
     ]
    }
   ],
   "source": [
    "#Задание 3\n",
    "\n",
    "#Напишите функцию date_range, которая возвращает список дат за период от start_date до end_date.\n",
    "#Даты должны вводиться в формате YYYY-MM-DD.\n",
    "#В случае неверного формата или при start_date > end_date должен возвращаться пустой список.\n",
    "\n",
    "from datetime import datetime\n",
    "from datetime import timedelta\n",
    "\n",
    "start_date = '2021-02-16'\n",
    "end_date = '2021-03-18'\n",
    "\n",
    "def date_range(start_date, end_date):\n",
    "    try:\n",
    "        start_date = datetime.strptime(start_date, '%Y-%m-%d')\n",
    "        end_date = datetime.strptime(end_date, '%Y-%m-%d')\n",
    "    except:\n",
    "        return []\n",
    "    \n",
    "    if start_date > end_date:\n",
    "        return []\n",
    "    \n",
    "    date_list = []\n",
    "    while start_date <= end_date:\n",
    "        date_list.append(str(start_date).split(' ')[0])\n",
    "        start_date = start_date + timedelta(days = 1)\n",
    "    \n",
    "    return date_list\n",
    "print(date_range(start_date, end_date))"
   ]
  },
  {
   "cell_type": "code",
   "execution_count": 16,
   "id": "5d45c4c5",
   "metadata": {},
   "outputs": [
    {
     "name": "stdout",
     "output_type": "stream",
     "text": [
      "A101\n",
      "A100\n",
      "None\n"
     ]
    }
   ],
   "source": [
    "#Задание 4\n",
    "\n",
    "#Ответ\n",
    "#хз что такое region, пусть 1\n",
    "#Причина ошибки - при повторном вызове происходит обращение к элементу списка по индексу, которого нет\n",
    "#Происхходит это потому что индекс рассчитывается через фиксированное число, а не фактическую длину списка\n",
    "\n",
    "\n",
    "#DEFAULT_USER_COUNT = 3 #нет необходимости\n",
    "\n",
    "def delete_and_return_last_user(region, default_list=['A100', 'A101', 'A102']):\n",
    "    '''\n",
    "    Удаляет из списка default_list последнего пользователя\n",
    "    и возвращает ID нового последнего пользователя.\n",
    "    '''\n",
    "    element_to_delete = default_list[-1]\n",
    "    default_list.remove(element_to_delete)\n",
    "    #return default_list[DEFAULT_USER_COUNT-2] #не нужно\n",
    "    if len(default_list) >=1:\n",
    "        return default_list[-1]\n",
    "        #так тоже не очень, но задачи предусмотреть все не было)\n",
    "    \n",
    "\n",
    "\n",
    "print(delete_and_return_last_user(1))\n",
    "print(delete_and_return_last_user(1))\n",
    "print(delete_and_return_last_user(1))"
   ]
  }
 ],
 "metadata": {
  "kernelspec": {
   "display_name": "Python 3",
   "language": "python",
   "name": "python3"
  },
  "language_info": {
   "codemirror_mode": {
    "name": "ipython",
    "version": 3
   },
   "file_extension": ".py",
   "mimetype": "text/x-python",
   "name": "python",
   "nbconvert_exporter": "python",
   "pygments_lexer": "ipython3",
   "version": "3.8.8"
  }
 },
 "nbformat": 4,
 "nbformat_minor": 5
}
