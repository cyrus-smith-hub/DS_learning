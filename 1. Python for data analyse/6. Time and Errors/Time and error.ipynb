{
 "cells": [
  {
   "cell_type": "code",
   "execution_count": 2,
   "id": "30cac364",
   "metadata": {},
   "outputs": [
    {
     "name": "stdout",
     "output_type": "stream",
     "text": [
      "other error\n"
     ]
    },
    {
     "ename": "ZeroDivisionError",
     "evalue": "division by zero",
     "output_type": "error",
     "traceback": [
      "\u001b[1;31m---------------------------------------------------------------------------\u001b[0m",
      "\u001b[1;31mZeroDivisionError\u001b[0m                         Traceback (most recent call last)",
      "\u001b[1;32m<ipython-input-2-8a870f6c2a0f>\u001b[0m in \u001b[0;36m<module>\u001b[1;34m\u001b[0m\n\u001b[0;32m      4\u001b[0m \u001b[1;33m\u001b[0m\u001b[0m\n\u001b[0;32m      5\u001b[0m \u001b[1;32mtry\u001b[0m\u001b[1;33m:\u001b[0m\u001b[1;33m\u001b[0m\u001b[1;33m\u001b[0m\u001b[0m\n\u001b[1;32m----> 6\u001b[1;33m     \u001b[0ma\u001b[0m \u001b[1;33m=\u001b[0m \u001b[1;36m4\u001b[0m\u001b[1;33m/\u001b[0m\u001b[1;36m0\u001b[0m\u001b[1;33m\u001b[0m\u001b[1;33m\u001b[0m\u001b[0m\n\u001b[0m\u001b[0;32m      7\u001b[0m \u001b[1;32mexcept\u001b[0m \u001b[0mValueError\u001b[0m\u001b[1;33m:\u001b[0m \u001b[1;31m#указан тип ошибки, для каждого тиап можно сделать свой обработчик\u001b[0m\u001b[1;33m\u001b[0m\u001b[1;33m\u001b[0m\u001b[0m\n\u001b[0;32m      8\u001b[0m     \u001b[0mprint\u001b[0m\u001b[1;33m(\u001b[0m\u001b[1;34m'error'\u001b[0m\u001b[1;33m)\u001b[0m\u001b[1;33m\u001b[0m\u001b[1;33m\u001b[0m\u001b[0m\n",
      "\u001b[1;31mZeroDivisionError\u001b[0m: division by zero"
     ]
    }
   ],
   "source": [
    "#Ошибки читать с конца\n",
    "\n",
    "import traceback #для доступа к тексту ошибки из програмы\n",
    "\n",
    "try:\n",
    "    a = 4/0\n",
    "except ValueError: #указан тип ошибки, для каждого тиап можно сделать свой обработчик\n",
    "    print('error')\n",
    "    #print(traceback.print_exc())\n",
    "    traceback.print_exc()\n",
    "finally:\n",
    "    print('other error') #будет выполнен всегда, даже при ошибке, напрмиер закрыть файл или соединение\n"
   ]
  },
  {
   "cell_type": "code",
   "execution_count": 23,
   "id": "ca0fbede",
   "metadata": {},
   "outputs": [
    {
     "name": "stdout",
     "output_type": "stream",
     "text": [
      "11 16\n",
      "5\n",
      "2020-01-30 12:00:00\n"
     ]
    }
   ],
   "source": [
    "#Даты и время\n",
    "\n",
    "from datetime import datetime #модуль и класс названы одинаково исторически\n",
    "\n",
    "d = '2020 05 09 11:16'\n",
    "\n",
    "date = datetime.strptime(d, '%Y %m %d %H:%M') #парсинг строки\n",
    "\n",
    "date_1 = datetime(2020,1,30,12) #указать руками\n",
    "\n",
    "print(date.hour, date.minute)\n",
    "print(date.weekday())\n",
    "\n",
    "print(date_1)"
   ]
  },
  {
   "cell_type": "code",
   "execution_count": 7,
   "id": "208785bc",
   "metadata": {},
   "outputs": [
    {
     "name": "stdout",
     "output_type": "stream",
     "text": [
      "2020-03-18 00:00:00 2021-04-01 00:00:00\n",
      "18\n",
      "2020-03-19 00:00:00 2021-03-30 23:54:00\n"
     ]
    }
   ],
   "source": [
    "#Timedelta\n",
    "from datetime import datetime\n",
    "from datetime import timedelta\n",
    "\n",
    "date_1 = '2020-03-18'\n",
    "date_2 = '2021-04-01'\n",
    "\n",
    "date_1 = datetime.strptime(date_1, '%Y-%m-%d')\n",
    "date_2 = datetime.strptime(date_2, '%Y-%m-%d')\n",
    "print(date_1, date_2)\n",
    "print(date_1.day)\n",
    "\n",
    "date_3 = date_1 + timedelta(days = 1)\n",
    "date_4 = date_2 + timedelta(days = -1,minutes = -6)\n",
    "print(date_3, date_4)\n"
   ]
  },
  {
   "cell_type": "code",
   "execution_count": 25,
   "id": "530c018e",
   "metadata": {},
   "outputs": [
    {
     "name": "stdout",
     "output_type": "stream",
     "text": [
      "2020-01-16 00:00:00\n",
      "2020-01-17 00:00:00\n",
      "2020-01-18 00:00:00\n",
      "2020-01-19 00:00:00\n",
      "2020-01-20 00:00:00\n",
      "2020-01-21 00:00:00\n",
      "2020-01-22 00:00:00\n",
      "2020-01-23 00:00:00\n",
      "2020-01-24 00:00:00\n",
      "2020-01-25 00:00:00\n",
      "2020-01-26 00:00:00\n",
      "2020-01-27 00:00:00\n",
      "2020-01-28 00:00:00\n",
      "2020-01-29 00:00:00\n",
      "2020-01-30 00:00:00\n",
      "2020-01-31 00:00:00\n",
      "2020-02-01 00:00:00\n",
      "2020-02-02 00:00:00\n"
     ]
    }
   ],
   "source": [
    "#Цикл по датам\n",
    "\n",
    "date_1 = datetime(2020,1,16)\n",
    "date_2 = datetime(2020,2,2)\n",
    "\n",
    "while date_1 <= date_2:\n",
    "    print(date_1)\n",
    "    date_1 = date_1 + timedelta(days = 1)"
   ]
  },
  {
   "cell_type": "code",
   "execution_count": null,
   "id": "d948d9c4",
   "metadata": {},
   "outputs": [],
   "source": [
    "#UnixTime"
   ]
  },
  {
   "cell_type": "code",
   "execution_count": 16,
   "id": "4162070a",
   "metadata": {},
   "outputs": [
    {
     "name": "stdout",
     "output_type": "stream",
     "text": [
      "Wall time: 181 ms\n"
     ]
    }
   ],
   "source": [
    "%%time\n",
    "\n",
    "a = list(range(100000))\n",
    "\n",
    "for i in a:\n",
    "    100 in a\n",
    "    "
   ]
  },
  {
   "cell_type": "code",
   "execution_count": 4,
   "id": "5df58ba3",
   "metadata": {},
   "outputs": [
    {
     "name": "stdout",
     "output_type": "stream",
     "text": [
      "Wall time: 21.1 ms\n"
     ]
    }
   ],
   "source": [
    "%%time\n",
    "\n",
    "b = set(range(100000))\n",
    "\n",
    "for i in b:\n",
    "    100 in b\n",
    "    "
   ]
  },
  {
   "cell_type": "code",
   "execution_count": null,
   "id": "b6bea321",
   "metadata": {},
   "outputs": [],
   "source": [
    "#Инициация ошибки самостоятельно\n",
    "\n",
    "a = -100\n",
    "\n",
    "if a<0:\n",
    "    raise ValueError"
   ]
  },
  {
   "cell_type": "code",
   "execution_count": null,
   "id": "2a4531d8",
   "metadata": {},
   "outputs": [],
   "source": [
    "#Свои типы ошибок"
   ]
  }
 ],
 "metadata": {
  "kernelspec": {
   "display_name": "Python 3",
   "language": "python",
   "name": "python3"
  },
  "language_info": {
   "codemirror_mode": {
    "name": "ipython",
    "version": 3
   },
   "file_extension": ".py",
   "mimetype": "text/x-python",
   "name": "python",
   "nbconvert_exporter": "python",
   "pygments_lexer": "ipython3",
   "version": "3.8.8"
  }
 },
 "nbformat": 4,
 "nbformat_minor": 5
}
