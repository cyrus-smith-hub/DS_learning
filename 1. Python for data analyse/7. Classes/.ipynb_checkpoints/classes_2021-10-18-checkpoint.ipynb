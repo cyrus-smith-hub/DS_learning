{
 "cells": [
  {
   "cell_type": "code",
   "execution_count": 1,
   "metadata": {},
   "outputs": [
    {
     "ename": "ImportError",
     "evalue": "cannot import name 'AnyClass' from 'libs' (unknown location)",
     "output_type": "error",
     "traceback": [
      "\u001b[1;31m---------------------------------------------------------------------------\u001b[0m",
      "\u001b[1;31mImportError\u001b[0m                               Traceback (most recent call last)",
      "\u001b[1;32m<ipython-input-1-ef8261544974>\u001b[0m in \u001b[0;36m<module>\u001b[1;34m\u001b[0m\n\u001b[1;32m----> 1\u001b[1;33m \u001b[1;32mfrom\u001b[0m \u001b[0mlibs\u001b[0m \u001b[1;32mimport\u001b[0m \u001b[0mAnyClass\u001b[0m\u001b[1;33m\u001b[0m\u001b[1;33m\u001b[0m\u001b[0m\n\u001b[0m",
      "\u001b[1;31mImportError\u001b[0m: cannot import name 'AnyClass' from 'libs' (unknown location)"
     ]
    }
   ],
   "source": [
    "from libs import AnyClass"
   ]
  },
  {
   "cell_type": "code",
   "execution_count": 52,
   "metadata": {},
   "outputs": [],
   "source": [
    "class AnyClass:\n",
    "    def __init__(self, currency='USD'):\n",
    "        self.currency = currency\n",
    "        self._private = 123\n",
    "        self.__secret_attr = 456\n",
    "    \n",
    "    bank = 'CBR'\n",
    "    \n",
    "    def method_1(self):\n",
    "        self.currency = 'RUB'\n",
    "        print(self.__secret_attr)\n",
    "        \n",
    "    def method_2(self):\n",
    "        print(self.currency)\n",
    "        \n",
    "    @staticmethod\n",
    "    def method_like_function(x, y):\n",
    "        vat = 1.2\n",
    "        return (x + y) * vat"
   ]
  },
  {
   "cell_type": "code",
   "execution_count": 53,
   "metadata": {},
   "outputs": [],
   "source": [
    "a = AnyClass()"
   ]
  },
  {
   "cell_type": "code",
   "execution_count": 54,
   "metadata": {},
   "outputs": [
    {
     "data": {
      "text/plain": [
       "3.5999999999999996"
      ]
     },
     "execution_count": 54,
     "metadata": {},
     "output_type": "execute_result"
    }
   ],
   "source": [
    "a.method_like_function(1, 2)"
   ]
  },
  {
   "cell_type": "code",
   "execution_count": 51,
   "metadata": {},
   "outputs": [
    {
     "name": "stdout",
     "output_type": "stream",
     "text": [
      "456\n"
     ]
    }
   ],
   "source": [
    "a.method_1()"
   ]
  },
  {
   "cell_type": "code",
   "execution_count": 48,
   "metadata": {},
   "outputs": [
    {
     "ename": "AttributeError",
     "evalue": "'AnyClass' object has no attribute '__secret_attr'",
     "output_type": "error",
     "traceback": [
      "\u001b[0;31m---------------------------------------------------------------------------\u001b[0m",
      "\u001b[0;31mAttributeError\u001b[0m                            Traceback (most recent call last)",
      "\u001b[0;32m<ipython-input-48-c4ac2513fc27>\u001b[0m in \u001b[0;36m<module>\u001b[0;34m\u001b[0m\n\u001b[0;32m----> 1\u001b[0;31m \u001b[0ma\u001b[0m\u001b[0;34m.\u001b[0m\u001b[0m__secret_attr\u001b[0m\u001b[0;34m\u001b[0m\u001b[0;34m\u001b[0m\u001b[0m\n\u001b[0m",
      "\u001b[0;31mAttributeError\u001b[0m: 'AnyClass' object has no attribute '__secret_attr'"
     ]
    }
   ],
   "source": [
    "a.__secret_attr"
   ]
  },
  {
   "cell_type": "code",
   "execution_count": 45,
   "metadata": {},
   "outputs": [
    {
     "data": {
      "text/plain": [
       "123"
      ]
     },
     "execution_count": 45,
     "metadata": {},
     "output_type": "execute_result"
    }
   ],
   "source": [
    "a._private"
   ]
  },
  {
   "cell_type": "code",
   "execution_count": 42,
   "metadata": {},
   "outputs": [
    {
     "data": {
      "text/plain": [
       "'RUB'"
      ]
     },
     "execution_count": 42,
     "metadata": {},
     "output_type": "execute_result"
    }
   ],
   "source": [
    "a.currency = 'RUB'\n",
    "a.currency"
   ]
  },
  {
   "cell_type": "code",
   "execution_count": 32,
   "metadata": {},
   "outputs": [
    {
     "name": "stdout",
     "output_type": "stream",
     "text": [
      "\n"
     ]
    }
   ],
   "source": [
    "a.method_2()"
   ]
  },
  {
   "cell_type": "code",
   "execution_count": 19,
   "metadata": {},
   "outputs": [],
   "source": [
    "def func_1():\n",
    "    currency = 'RUB'\n",
    "    return currency\n",
    "    \n",
    "def func_2(currency):\n",
    "    print(currency)"
   ]
  },
  {
   "cell_type": "code",
   "execution_count": 20,
   "metadata": {},
   "outputs": [],
   "source": [
    "currency = func_1()"
   ]
  },
  {
   "cell_type": "code",
   "execution_count": 21,
   "metadata": {},
   "outputs": [
    {
     "name": "stdout",
     "output_type": "stream",
     "text": [
      "RUB\n"
     ]
    }
   ],
   "source": [
    "func_2(currency)"
   ]
  },
  {
   "cell_type": "code",
   "execution_count": 14,
   "metadata": {},
   "outputs": [
    {
     "data": {
      "text/plain": [
       "'CBR'"
      ]
     },
     "execution_count": 14,
     "metadata": {},
     "output_type": "execute_result"
    }
   ],
   "source": [
    "a.bank"
   ]
  },
  {
   "cell_type": "code",
   "execution_count": 24,
   "metadata": {},
   "outputs": [],
   "source": [
    "a.method_1()"
   ]
  },
  {
   "cell_type": "code",
   "execution_count": 25,
   "metadata": {},
   "outputs": [
    {
     "data": {
      "text/plain": [
       "'RUB'"
      ]
     },
     "execution_count": 25,
     "metadata": {},
     "output_type": "execute_result"
    }
   ],
   "source": [
    "a.currency"
   ]
  },
  {
   "cell_type": "code",
   "execution_count": 6,
   "metadata": {},
   "outputs": [
    {
     "data": {
      "text/plain": [
       "'RUB'"
      ]
     },
     "execution_count": 6,
     "metadata": {},
     "output_type": "execute_result"
    }
   ],
   "source": [
    "a.currency"
   ]
  },
  {
   "cell_type": "code",
   "execution_count": 7,
   "metadata": {},
   "outputs": [],
   "source": [
    "a.currency = 'EUR'"
   ]
  },
  {
   "cell_type": "code",
   "execution_count": 26,
   "metadata": {},
   "outputs": [
    {
     "name": "stdout",
     "output_type": "stream",
     "text": [
      "RUB\n"
     ]
    }
   ],
   "source": [
    "a.method_2()"
   ]
  },
  {
   "cell_type": "code",
   "execution_count": 8,
   "metadata": {},
   "outputs": [
    {
     "data": {
      "text/plain": [
       "'EUR'"
      ]
     },
     "execution_count": 8,
     "metadata": {},
     "output_type": "execute_result"
    }
   ],
   "source": [
    "a.currency"
   ]
  },
  {
   "cell_type": "markdown",
   "metadata": {},
   "source": [
    "# PEP-8"
   ]
  },
  {
   "cell_type": "code",
   "execution_count": null,
   "metadata": {},
   "outputs": [],
   "source": [
    "CamelCase  # классы, константы"
   ]
  },
  {
   "cell_type": "code",
   "execution_count": null,
   "metadata": {},
   "outputs": [],
   "source": [
    "snake_case  # функции, переменные"
   ]
  },
  {
   "cell_type": "code",
   "execution_count": null,
   "metadata": {},
   "outputs": [],
   "source": []
  },
  {
   "cell_type": "code",
   "execution_count": null,
   "metadata": {},
   "outputs": [],
   "source": []
  },
  {
   "cell_type": "code",
   "execution_count": null,
   "metadata": {},
   "outputs": [],
   "source": []
  },
  {
   "cell_type": "code",
   "execution_count": null,
   "metadata": {},
   "outputs": [],
   "source": []
  },
  {
   "cell_type": "code",
   "execution_count": null,
   "metadata": {},
   "outputs": [],
   "source": []
  },
  {
   "cell_type": "code",
   "execution_count": null,
   "metadata": {},
   "outputs": [],
   "source": []
  },
  {
   "cell_type": "markdown",
   "metadata": {},
   "source": [
    "# Требования к отчету\n",
    "(в хронологическом порядке)\n",
    "\n",
    "1. Нужен отчет по трафику (визиты по дням)\n",
    "2. Сделайте таблицу попроще\n",
    "3. А можно сразу очень много строк получить?\n",
    "\n",
    "[Демо-счетчик](https://metrika.yandex.ru/stat/traffic?sort=-ym%3As%3Avisits&period=2020-08-01%3A2020-09-06&accuracy=1&id=44147844&stateHash=5d3ee51607d6bde783131e11) Яндекс.Метрики\n"
   ]
  },
  {
   "cell_type": "code",
   "execution_count": 55,
   "metadata": {},
   "outputs": [],
   "source": [
    "import requests"
   ]
  },
  {
   "cell_type": "code",
   "execution_count": null,
   "metadata": {},
   "outputs": [],
   "source": [
    "token = 'AACIQ-9yfpr3whfihuewpg9rgwp3rg'"
   ]
  },
  {
   "cell_type": "code",
   "execution_count": 56,
   "metadata": {},
   "outputs": [],
   "source": [
    "API_URL = 'https://api-metrika.yandex.ru/stat/v1/data'\n",
    "METRIKA_ROWS_LIMIT = 5\n",
    "\n",
    "DEMO_COUNTER = 44147844"
   ]
  },
  {
   "cell_type": "code",
   "execution_count": 2,
   "metadata": {},
   "outputs": [
    {
     "ename": "NameError",
     "evalue": "name 'DEMO_COUNTER' is not defined",
     "output_type": "error",
     "traceback": [
      "\u001b[1;31m---------------------------------------------------------------------------\u001b[0m",
      "\u001b[1;31mNameError\u001b[0m                                 Traceback (most recent call last)",
      "\u001b[1;32m<ipython-input-2-0d24f1679512>\u001b[0m in \u001b[0;36m<module>\u001b[1;34m\u001b[0m\n\u001b[1;32m----> 1\u001b[1;33m \u001b[1;32mclass\u001b[0m \u001b[0mMetrika\u001b[0m\u001b[1;33m:\u001b[0m\u001b[1;33m\u001b[0m\u001b[1;33m\u001b[0m\u001b[0m\n\u001b[0m\u001b[0;32m      2\u001b[0m     \u001b[1;32mdef\u001b[0m \u001b[0m__init__\u001b[0m\u001b[1;33m(\u001b[0m\u001b[0mself\u001b[0m\u001b[1;33m,\u001b[0m \u001b[0mtoken\u001b[0m\u001b[1;33m=\u001b[0m\u001b[1;34m''\u001b[0m\u001b[1;33m,\u001b[0m \u001b[0mcounter\u001b[0m\u001b[1;33m=\u001b[0m\u001b[0mDEMO_COUNTER\u001b[0m\u001b[1;33m,\u001b[0m \u001b[0mstart_date\u001b[0m\u001b[1;33m=\u001b[0m\u001b[1;34m'2020-09-01'\u001b[0m\u001b[1;33m,\u001b[0m \u001b[0mend_date\u001b[0m\u001b[1;33m=\u001b[0m\u001b[1;34m'2020-09-10'\u001b[0m\u001b[1;33m)\u001b[0m\u001b[1;33m:\u001b[0m\u001b[1;33m\u001b[0m\u001b[1;33m\u001b[0m\u001b[0m\n\u001b[0;32m      3\u001b[0m         \u001b[0mself\u001b[0m\u001b[1;33m.\u001b[0m\u001b[0mcounter\u001b[0m \u001b[1;33m=\u001b[0m \u001b[0mcounter\u001b[0m\u001b[1;33m\u001b[0m\u001b[1;33m\u001b[0m\u001b[0m\n\u001b[0;32m      4\u001b[0m         \u001b[0mself\u001b[0m\u001b[1;33m.\u001b[0m\u001b[0mlimit\u001b[0m \u001b[1;33m=\u001b[0m \u001b[0mMETRIKA_ROWS_LIMIT\u001b[0m\u001b[1;33m\u001b[0m\u001b[1;33m\u001b[0m\u001b[0m\n\u001b[0;32m      5\u001b[0m         \u001b[0mself\u001b[0m\u001b[1;33m.\u001b[0m\u001b[0mstart_date\u001b[0m \u001b[1;33m=\u001b[0m \u001b[0mstart_date\u001b[0m\u001b[1;33m\u001b[0m\u001b[1;33m\u001b[0m\u001b[0m\n",
      "\u001b[1;32m<ipython-input-2-0d24f1679512>\u001b[0m in \u001b[0;36mMetrika\u001b[1;34m()\u001b[0m\n\u001b[0;32m      1\u001b[0m \u001b[1;32mclass\u001b[0m \u001b[0mMetrika\u001b[0m\u001b[1;33m:\u001b[0m\u001b[1;33m\u001b[0m\u001b[1;33m\u001b[0m\u001b[0m\n\u001b[1;32m----> 2\u001b[1;33m     \u001b[1;32mdef\u001b[0m \u001b[0m__init__\u001b[0m\u001b[1;33m(\u001b[0m\u001b[0mself\u001b[0m\u001b[1;33m,\u001b[0m \u001b[0mtoken\u001b[0m\u001b[1;33m=\u001b[0m\u001b[1;34m''\u001b[0m\u001b[1;33m,\u001b[0m \u001b[0mcounter\u001b[0m\u001b[1;33m=\u001b[0m\u001b[0mDEMO_COUNTER\u001b[0m\u001b[1;33m,\u001b[0m \u001b[0mstart_date\u001b[0m\u001b[1;33m=\u001b[0m\u001b[1;34m'2020-09-01'\u001b[0m\u001b[1;33m,\u001b[0m \u001b[0mend_date\u001b[0m\u001b[1;33m=\u001b[0m\u001b[1;34m'2020-09-10'\u001b[0m\u001b[1;33m)\u001b[0m\u001b[1;33m:\u001b[0m\u001b[1;33m\u001b[0m\u001b[1;33m\u001b[0m\u001b[0m\n\u001b[0m\u001b[0;32m      3\u001b[0m         \u001b[0mself\u001b[0m\u001b[1;33m.\u001b[0m\u001b[0mcounter\u001b[0m \u001b[1;33m=\u001b[0m \u001b[0mcounter\u001b[0m\u001b[1;33m\u001b[0m\u001b[1;33m\u001b[0m\u001b[0m\n\u001b[0;32m      4\u001b[0m         \u001b[0mself\u001b[0m\u001b[1;33m.\u001b[0m\u001b[0mlimit\u001b[0m \u001b[1;33m=\u001b[0m \u001b[0mMETRIKA_ROWS_LIMIT\u001b[0m\u001b[1;33m\u001b[0m\u001b[1;33m\u001b[0m\u001b[0m\n\u001b[0;32m      5\u001b[0m         \u001b[0mself\u001b[0m\u001b[1;33m.\u001b[0m\u001b[0mstart_date\u001b[0m \u001b[1;33m=\u001b[0m \u001b[0mstart_date\u001b[0m\u001b[1;33m\u001b[0m\u001b[1;33m\u001b[0m\u001b[0m\n",
      "\u001b[1;31mNameError\u001b[0m: name 'DEMO_COUNTER' is not defined"
     ]
    }
   ],
   "source": [
    "class Metrika:\n",
    "    def __init__(self, token='', counter=DEMO_COUNTER, start_date='2020-09-01', end_date='2020-09-10'):\n",
    "        self.counter = counter\n",
    "        self.limit = METRIKA_ROWS_LIMIT\n",
    "        self.start_date = start_date\n",
    "        self.end_date = end_date\n",
    "        \n",
    "        if token:\n",
    "            self.headers = {'Authorization': 'OAuth ' + token}\n",
    "        else:\n",
    "            self.headers = ''  # для демо-счетчика заголовок запроса должен быть пустым\n",
    "        \n",
    "        self.dimensions = ''\n",
    "        self.metrics = ''\n",
    "        self.report = []\n",
    "        \n",
    "    def api_request(self, offset=1):\n",
    "        params = {\n",
    "            'id': self.counter,\n",
    "            'date1': self.start_date,\n",
    "            'date2': self.end_date,\n",
    "            'metrics': self.metrics,\n",
    "            'dimensions': self.dimensions,\n",
    "            'limit': self.limit,\n",
    "            'offset': offset,\n",
    "            'accuracy': 1,\n",
    "        }\n",
    "        \n",
    "        response = requests.get(API_URL, params=params, headers=self.headers)\n",
    "        return response.json()['data']\n",
    "    \n",
    "    def traffic(self):\n",
    "        self.metrics = 'ym:s:visits'\n",
    "        self.dimensions = 'ym:s:date'\n",
    "        \n",
    "        report = self.full_report()\n",
    "        print('Report', report)\n",
    "        self.report = report\n",
    "    \n",
    "    def reformat_api_report(self):\n",
    "        reformatted_report = []\n",
    "\n",
    "        for line in self.report:\n",
    "            dimensions = [x['name'] for x in line['dimensions']]\n",
    "            reformatted_report.append(dimensions + line['metrics'])\n",
    "\n",
    "        self.report = reformatted_report\n",
    "    \n",
    "    def full_report(self):\n",
    "        full_data = []\n",
    "        offset = 1\n",
    "        \n",
    "        while True:\n",
    "            print('Starting offset {}'.format(offset))\n",
    "            data = self.api_request(offset=offset)\n",
    "            full_data += data\n",
    "            \n",
    "            offset += self.limit\n",
    "            if not data or len(data) < self.limit:\n",
    "                break\n",
    "        \n",
    "        return full_data"
   ]
  },
  {
   "cell_type": "code",
   "execution_count": 78,
   "metadata": {},
   "outputs": [],
   "source": [
    "m = Metrika(start_date='2021-01-01', end_date='2021-10-17')"
   ]
  },
  {
   "cell_type": "code",
   "execution_count": 79,
   "metadata": {},
   "outputs": [
    {
     "name": "stdout",
     "output_type": "stream",
     "text": [
      "Starting offset 1\n",
      "Starting offset 6\n",
      "Starting offset 11\n",
      "Starting offset 16\n",
      "Starting offset 21\n",
      "Starting offset 26\n",
      "Starting offset 31\n",
      "Starting offset 36\n",
      "Starting offset 41\n",
      "Starting offset 46\n",
      "Starting offset 51\n",
      "Starting offset 56\n",
      "Starting offset 61\n",
      "Starting offset 66\n",
      "Starting offset 71\n",
      "Starting offset 76\n",
      "Starting offset 81\n",
      "Starting offset 86\n",
      "Starting offset 91\n",
      "Starting offset 96\n",
      "Starting offset 101\n",
      "Starting offset 106\n",
      "Starting offset 111\n",
      "Starting offset 116\n",
      "Starting offset 121\n",
      "Starting offset 126\n",
      "Starting offset 131\n",
      "Starting offset 136\n",
      "Starting offset 141\n",
      "Starting offset 146\n",
      "Starting offset 151\n",
      "Starting offset 156\n",
      "Starting offset 161\n",
      "Starting offset 166\n",
      "Starting offset 171\n",
      "Starting offset 176\n",
      "Starting offset 181\n",
      "Starting offset 186\n",
      "Starting offset 191\n",
      "Starting offset 196\n",
      "Starting offset 201\n",
      "Starting offset 206\n",
      "Starting offset 211\n",
      "Starting offset 216\n",
      "Starting offset 221\n",
      "Starting offset 226\n",
      "Starting offset 231\n",
      "Starting offset 236\n",
      "Starting offset 241\n",
      "Starting offset 246\n",
      "Starting offset 251\n",
      "Starting offset 256\n",
      "Starting offset 261\n",
      "Starting offset 266\n",
      "Starting offset 271\n",
      "Starting offset 276\n",
      "Starting offset 281\n",
      "Starting offset 286\n",
      "Starting offset 291\n",
      "Report [{'dimensions': [{'name': '2021-08-31'}], 'metrics': [599.0]}, {'dimensions': [{'name': '2021-09-01'}], 'metrics': [595.0]}, {'dimensions': [{'name': '2021-08-30'}], 'metrics': [587.0]}, {'dimensions': [{'name': '2021-06-29'}], 'metrics': [571.0]}, {'dimensions': [{'name': '2021-09-27'}], 'metrics': [569.0]}, {'dimensions': [{'name': '2021-07-13'}], 'metrics': [564.0]}, {'dimensions': [{'name': '2021-07-15'}], 'metrics': [560.0]}, {'dimensions': [{'name': '2021-09-28'}], 'metrics': [560.0]}, {'dimensions': [{'name': '2021-04-06'}], 'metrics': [548.0]}, {'dimensions': [{'name': '2021-06-09'}], 'metrics': [548.0]}, {'dimensions': [{'name': '2021-10-14'}], 'metrics': [545.0]}, {'dimensions': [{'name': '2021-06-30'}], 'metrics': [544.0]}, {'dimensions': [{'name': '2021-06-02'}], 'metrics': [543.0]}, {'dimensions': [{'name': '2021-10-12'}], 'metrics': [537.0]}, {'dimensions': [{'name': '2021-04-22'}], 'metrics': [535.0]}, {'dimensions': [{'name': '2021-05-25'}], 'metrics': [534.0]}, {'dimensions': [{'name': '2021-05-26'}], 'metrics': [533.0]}, {'dimensions': [{'name': '2021-04-07'}], 'metrics': [532.0]}, {'dimensions': [{'name': '2021-05-31'}], 'metrics': [527.0]}, {'dimensions': [{'name': '2021-01-19'}], 'metrics': [524.0]}, {'dimensions': [{'name': '2021-10-04'}], 'metrics': [524.0]}, {'dimensions': [{'name': '2021-04-21'}], 'metrics': [523.0]}, {'dimensions': [{'name': '2021-07-08'}], 'metrics': [522.0]}, {'dimensions': [{'name': '2021-10-11'}], 'metrics': [520.0]}, {'dimensions': [{'name': '2021-10-13'}], 'metrics': [516.0]}, {'dimensions': [{'name': '2021-06-28'}], 'metrics': [514.0]}, {'dimensions': [{'name': '2021-06-16'}], 'metrics': [511.0]}, {'dimensions': [{'name': '2021-07-14'}], 'metrics': [511.0]}, {'dimensions': [{'name': '2021-09-14'}], 'metrics': [510.0]}, {'dimensions': [{'name': '2021-09-30'}], 'metrics': [509.0]}, {'dimensions': [{'name': '2021-07-22'}], 'metrics': [508.0]}, {'dimensions': [{'name': '2021-09-16'}], 'metrics': [508.0]}, {'dimensions': [{'name': '2021-01-13'}], 'metrics': [507.0]}, {'dimensions': [{'name': '2021-04-13'}], 'metrics': [507.0]}, {'dimensions': [{'name': '2021-09-02'}], 'metrics': [507.0]}, {'dimensions': [{'name': '2021-04-20'}], 'metrics': [506.0]}, {'dimensions': [{'name': '2021-07-02'}], 'metrics': [506.0]}, {'dimensions': [{'name': '2021-09-13'}], 'metrics': [506.0]}, {'dimensions': [{'name': '2021-04-12'}], 'metrics': [502.0]}, {'dimensions': [{'name': '2021-04-26'}], 'metrics': [502.0]}, {'dimensions': [{'name': '2021-10-15'}], 'metrics': [502.0]}, {'dimensions': [{'name': '2021-10-07'}], 'metrics': [501.0]}, {'dimensions': [{'name': '2021-01-12'}], 'metrics': [500.0]}, {'dimensions': [{'name': '2021-05-27'}], 'metrics': [499.0]}, {'dimensions': [{'name': '2021-09-06'}], 'metrics': [499.0]}, {'dimensions': [{'name': '2021-05-19'}], 'metrics': [498.0]}, {'dimensions': [{'name': '2021-07-29'}], 'metrics': [497.0]}, {'dimensions': [{'name': '2021-07-06'}], 'metrics': [495.0]}, {'dimensions': [{'name': '2021-08-05'}], 'metrics': [495.0]}, {'dimensions': [{'name': '2021-09-29'}], 'metrics': [494.0]}, {'dimensions': [{'name': '2021-04-27'}], 'metrics': [487.0]}, {'dimensions': [{'name': '2021-08-04'}], 'metrics': [487.0]}, {'dimensions': [{'name': '2021-10-08'}], 'metrics': [486.0]}, {'dimensions': [{'name': '2021-04-28'}], 'metrics': [483.0]}, {'dimensions': [{'name': '2021-08-23'}], 'metrics': [483.0]}, {'dimensions': [{'name': '2021-04-19'}], 'metrics': [482.0]}, {'dimensions': [{'name': '2021-07-12'}], 'metrics': [482.0]}, {'dimensions': [{'name': '2021-06-24'}], 'metrics': [480.0]}, {'dimensions': [{'name': '2021-09-09'}], 'metrics': [479.0]}, {'dimensions': [{'name': '2021-06-08'}], 'metrics': [478.0]}, {'dimensions': [{'name': '2021-07-07'}], 'metrics': [478.0]}, {'dimensions': [{'name': '2021-07-30'}], 'metrics': [476.0]}, {'dimensions': [{'name': '2021-09-08'}], 'metrics': [476.0]}, {'dimensions': [{'name': '2021-10-01'}], 'metrics': [476.0]}, {'dimensions': [{'name': '2021-04-15'}], 'metrics': [475.0]}, {'dimensions': [{'name': '2021-08-10'}], 'metrics': [475.0]}, {'dimensions': [{'name': '2021-07-20'}], 'metrics': [474.0]}, {'dimensions': [{'name': '2021-08-25'}], 'metrics': [472.0]}, {'dimensions': [{'name': '2021-10-05'}], 'metrics': [472.0]}, {'dimensions': [{'name': '2021-06-10'}], 'metrics': [471.0]}, {'dimensions': [{'name': '2021-09-23'}], 'metrics': [471.0]}, {'dimensions': [{'name': '2021-01-18'}], 'metrics': [470.0]}, {'dimensions': [{'name': '2021-08-02'}], 'metrics': [470.0]}, {'dimensions': [{'name': '2021-10-06'}], 'metrics': [470.0]}, {'dimensions': [{'name': '2021-04-29'}], 'metrics': [469.0]}, {'dimensions': [{'name': '2021-07-01'}], 'metrics': [469.0]}, {'dimensions': [{'name': '2021-07-19'}], 'metrics': [466.0]}, {'dimensions': [{'name': '2021-09-15'}], 'metrics': [466.0]}, {'dimensions': [{'name': '2021-07-05'}], 'metrics': [465.0]}, {'dimensions': [{'name': '2021-01-20'}], 'metrics': [463.0]}, {'dimensions': [{'name': '2021-06-07'}], 'metrics': [463.0]}, {'dimensions': [{'name': '2021-06-15'}], 'metrics': [463.0]}, {'dimensions': [{'name': '2021-06-04'}], 'metrics': [462.0]}, {'dimensions': [{'name': '2021-06-21'}], 'metrics': [461.0]}, {'dimensions': [{'name': '2021-09-21'}], 'metrics': [461.0]}, {'dimensions': [{'name': '2021-01-25'}], 'metrics': [460.0]}, {'dimensions': [{'name': '2021-04-08'}], 'metrics': [459.0]}, {'dimensions': [{'name': '2021-07-26'}], 'metrics': [459.0]}, {'dimensions': [{'name': '2021-01-14'}], 'metrics': [458.0]}, {'dimensions': [{'name': '2021-09-17'}], 'metrics': [458.0]}, {'dimensions': [{'name': '2021-08-24'}], 'metrics': [455.0]}, {'dimensions': [{'name': '2021-05-20'}], 'metrics': [454.0]}, {'dimensions': [{'name': '2021-01-27'}], 'metrics': [453.0]}, {'dimensions': [{'name': '2021-08-03'}], 'metrics': [453.0]}, {'dimensions': [{'name': '2021-03-24'}], 'metrics': [451.0]}, {'dimensions': [{'name': '2021-06-03'}], 'metrics': [451.0]}, {'dimensions': [{'name': '2021-02-02'}], 'metrics': [450.0]}, {'dimensions': [{'name': '2021-05-17'}], 'metrics': [450.0]}, {'dimensions': [{'name': '2021-07-21'}], 'metrics': [450.0]}, {'dimensions': [{'name': '2021-08-11'}], 'metrics': [450.0]}, {'dimensions': [{'name': '2021-01-26'}], 'metrics': [449.0]}, {'dimensions': [{'name': '2021-06-17'}], 'metrics': [448.0]}, {'dimensions': [{'name': '2021-08-26'}], 'metrics': [448.0]}, {'dimensions': [{'name': '2021-05-11'}], 'metrics': [446.0]}, {'dimensions': [{'name': '2021-06-01'}], 'metrics': [445.0]}, {'dimensions': [{'name': '2021-04-01'}], 'metrics': [444.0]}, {'dimensions': [{'name': '2021-09-03'}], 'metrics': [443.0]}, {'dimensions': [{'name': '2021-09-22'}], 'metrics': [441.0]}, {'dimensions': [{'name': '2021-09-07'}], 'metrics': [440.0]}, {'dimensions': [{'name': '2021-01-11'}], 'metrics': [439.0]}, {'dimensions': [{'name': '2021-04-16'}], 'metrics': [439.0]}, {'dimensions': [{'name': '2021-08-12'}], 'metrics': [438.0]}, {'dimensions': [{'name': '2021-04-14'}], 'metrics': [437.0]}, {'dimensions': [{'name': '2021-06-23'}], 'metrics': [437.0]}, {'dimensions': [{'name': '2021-05-12'}], 'metrics': [435.0]}, {'dimensions': [{'name': '2021-05-18'}], 'metrics': [435.0]}, {'dimensions': [{'name': '2021-06-22'}], 'metrics': [434.0]}, {'dimensions': [{'name': '2021-04-23'}], 'metrics': [431.0]}, {'dimensions': [{'name': '2021-01-15'}], 'metrics': [430.0]}, {'dimensions': [{'name': '2021-07-09'}], 'metrics': [430.0]}, {'dimensions': [{'name': '2021-01-21'}], 'metrics': [429.0]}, {'dimensions': [{'name': '2021-06-25'}], 'metrics': [429.0]}, {'dimensions': [{'name': '2021-07-27'}], 'metrics': [429.0]}, {'dimensions': [{'name': '2021-08-09'}], 'metrics': [429.0]}, {'dimensions': [{'name': '2021-09-20'}], 'metrics': [428.0]}, {'dimensions': [{'name': '2021-07-16'}], 'metrics': [426.0]}, {'dimensions': [{'name': '2021-04-09'}], 'metrics': [425.0]}, {'dimensions': [{'name': '2021-05-05'}], 'metrics': [425.0]}, {'dimensions': [{'name': '2021-08-17'}], 'metrics': [425.0]}, {'dimensions': [{'name': '2021-04-02'}], 'metrics': [424.0]}, {'dimensions': [{'name': '2021-05-13'}], 'metrics': [424.0]}, {'dimensions': [{'name': '2021-08-20'}], 'metrics': [421.0]}, {'dimensions': [{'name': '2021-01-22'}], 'metrics': [420.0]}, {'dimensions': [{'name': '2021-07-28'}], 'metrics': [420.0]}, {'dimensions': [{'name': '2021-08-18'}], 'metrics': [420.0]}, {'dimensions': [{'name': '2021-01-05'}], 'metrics': [419.0]}, {'dimensions': [{'name': '2021-05-28'}], 'metrics': [419.0]}, {'dimensions': [{'name': '2021-09-10'}], 'metrics': [419.0]}, {'dimensions': [{'name': '2021-01-28'}], 'metrics': [418.0]}, {'dimensions': [{'name': '2021-05-21'}], 'metrics': [417.0]}, {'dimensions': [{'name': '2021-08-16'}], 'metrics': [416.0]}, {'dimensions': [{'name': '2021-04-30'}], 'metrics': [414.0]}, {'dimensions': [{'name': '2021-01-04'}], 'metrics': [408.0]}, {'dimensions': [{'name': '2021-05-04'}], 'metrics': [406.0]}, {'dimensions': [{'name': '2021-07-23'}], 'metrics': [406.0]}, {'dimensions': [{'name': '2021-04-05'}], 'metrics': [404.0]}, {'dimensions': [{'name': '2021-08-13'}], 'metrics': [401.0]}, {'dimensions': [{'name': '2021-06-14'}], 'metrics': [399.0]}, {'dimensions': [{'name': '2021-08-29'}], 'metrics': [398.0]}, {'dimensions': [{'name': '2021-01-06'}], 'metrics': [395.0]}, {'dimensions': [{'name': '2021-05-24'}], 'metrics': [395.0]}, {'dimensions': [{'name': '2021-06-18'}], 'metrics': [395.0]}, {'dimensions': [{'name': '2021-08-19'}], 'metrics': [395.0]}, {'dimensions': [{'name': '2021-05-14'}], 'metrics': [394.0]}, {'dimensions': [{'name': '2021-01-29'}], 'metrics': [391.0]}, {'dimensions': [{'name': '2021-03-11'}], 'metrics': [391.0]}, {'dimensions': [{'name': '2021-05-06'}], 'metrics': [391.0]}, {'dimensions': [{'name': '2021-05-07'}], 'metrics': [391.0]}, {'dimensions': [{'name': '2021-03-10'}], 'metrics': [376.0]}, {'dimensions': [{'name': '2021-06-11'}], 'metrics': [373.0]}, {'dimensions': [{'name': '2021-08-06'}], 'metrics': [373.0]}, {'dimensions': [{'name': '2021-03-16'}], 'metrics': [371.0]}, {'dimensions': [{'name': '2021-03-30'}], 'metrics': [366.0]}, {'dimensions': [{'name': '2021-01-07'}], 'metrics': [365.0]}, {'dimensions': [{'name': '2021-02-25'}], 'metrics': [365.0]}, {'dimensions': [{'name': '2021-01-08'}], 'metrics': [364.0]}, {'dimensions': [{'name': '2021-09-24'}], 'metrics': [364.0]}, {'dimensions': [{'name': '2021-03-02'}], 'metrics': [360.0]}, {'dimensions': [{'name': '2021-02-24'}], 'metrics': [358.0]}, {'dimensions': [{'name': '2021-03-15'}], 'metrics': [358.0]}, {'dimensions': [{'name': '2021-03-17'}], 'metrics': [358.0]}, {'dimensions': [{'name': '2021-03-25'}], 'metrics': [358.0]}, {'dimensions': [{'name': '2021-03-29'}], 'metrics': [354.0]}, {'dimensions': [{'name': '2021-10-02'}], 'metrics': [354.0]}, {'dimensions': [{'name': '2021-08-27'}], 'metrics': [351.0]}, {'dimensions': [{'name': '2021-03-09'}], 'metrics': [349.0]}, {'dimensions': [{'name': '2021-03-04'}], 'metrics': [346.0]}, {'dimensions': [{'name': '2021-03-18'}], 'metrics': [344.0]}, {'dimensions': [{'name': '2021-05-10'}], 'metrics': [341.0]}, {'dimensions': [{'name': '2021-02-22'}], 'metrics': [336.0]}, {'dimensions': [{'name': '2021-02-03'}], 'metrics': [333.0]}, {'dimensions': [{'name': '2021-02-09'}], 'metrics': [333.0]}, {'dimensions': [{'name': '2021-02-01'}], 'metrics': [332.0]}, {'dimensions': [{'name': '2021-03-23'}], 'metrics': [331.0]}, {'dimensions': [{'name': '2021-03-22'}], 'metrics': [327.0]}, {'dimensions': [{'name': '2021-02-23'}], 'metrics': [326.0]}, {'dimensions': [{'name': '2021-07-03'}], 'metrics': [321.0]}, {'dimensions': [{'name': '2021-09-05'}], 'metrics': [319.0]}, {'dimensions': [{'name': '2021-03-03'}], 'metrics': [318.0]}, {'dimensions': [{'name': '2021-03-12'}], 'metrics': [317.0]}, {'dimensions': [{'name': '2021-02-15'}], 'metrics': [316.0]}, {'dimensions': [{'name': '2021-05-03'}], 'metrics': [316.0]}, {'dimensions': [{'name': '2021-03-31'}], 'metrics': [314.0]}, {'dimensions': [{'name': '2021-06-27'}], 'metrics': [312.0]}, {'dimensions': [{'name': '2021-09-11'}], 'metrics': [312.0]}, {'dimensions': [{'name': '2021-02-04'}], 'metrics': [309.0]}, {'dimensions': [{'name': '2021-03-19'}], 'metrics': [309.0]}, {'dimensions': [{'name': '2021-09-04'}], 'metrics': [309.0]}, {'dimensions': [{'name': '2021-09-12'}], 'metrics': [309.0]}, {'dimensions': [{'name': '2021-02-11'}], 'metrics': [308.0]}, {'dimensions': [{'name': '2021-01-17'}], 'metrics': [307.0]}, {'dimensions': [{'name': '2021-10-17'}], 'metrics': [307.0]}, {'dimensions': [{'name': '2021-03-26'}], 'metrics': [306.0]}, {'dimensions': [{'name': '2021-07-11'}], 'metrics': [306.0]}, {'dimensions': [{'name': '2021-02-16'}], 'metrics': [304.0]}, {'dimensions': [{'name': '2021-02-10'}], 'metrics': [302.0]}, {'dimensions': [{'name': '2021-03-01'}], 'metrics': [302.0]}, {'dimensions': [{'name': '2021-07-18'}], 'metrics': [302.0]}, {'dimensions': [{'name': '2021-07-31'}], 'metrics': [301.0]}, {'dimensions': [{'name': '2021-10-03'}], 'metrics': [301.0]}, {'dimensions': [{'name': '2021-02-19'}], 'metrics': [299.0]}, {'dimensions': [{'name': '2021-01-16'}], 'metrics': [297.0]}, {'dimensions': [{'name': '2021-02-05'}], 'metrics': [297.0]}, {'dimensions': [{'name': '2021-01-09'}], 'metrics': [296.0]}, {'dimensions': [{'name': '2021-07-17'}], 'metrics': [295.0]}, {'dimensions': [{'name': '2021-02-17'}], 'metrics': [293.0]}, {'dimensions': [{'name': '2021-10-16'}], 'metrics': [291.0]}, {'dimensions': [{'name': '2021-02-18'}], 'metrics': [287.0]}, {'dimensions': [{'name': '2021-04-24'}], 'metrics': [286.0]}, {'dimensions': [{'name': '2021-03-05'}], 'metrics': [284.0]}, {'dimensions': [{'name': '2021-02-26'}], 'metrics': [283.0]}, {'dimensions': [{'name': '2021-02-08'}], 'metrics': [282.0]}, {'dimensions': [{'name': '2021-09-25'}], 'metrics': [279.0]}, {'dimensions': [{'name': '2021-09-26'}], 'metrics': [279.0]}, {'dimensions': [{'name': '2021-10-09'}], 'metrics': [279.0]}, {'dimensions': [{'name': '2021-04-04'}], 'metrics': [278.0]}, {'dimensions': [{'name': '2021-09-18'}], 'metrics': [278.0]}, {'dimensions': [{'name': '2021-06-12'}], 'metrics': [277.0]}, {'dimensions': [{'name': '2021-05-29'}], 'metrics': [276.0]}, {'dimensions': [{'name': '2021-09-19'}], 'metrics': [275.0]}, {'dimensions': [{'name': '2021-04-10'}], 'metrics': [273.0]}, {'dimensions': [{'name': '2021-05-30'}], 'metrics': [273.0]}, {'dimensions': [{'name': '2021-02-12'}], 'metrics': [272.0]}, {'dimensions': [{'name': '2021-04-03'}], 'metrics': [272.0]}, {'dimensions': [{'name': '2021-05-15'}], 'metrics': [272.0]}, {'dimensions': [{'name': '2021-06-26'}], 'metrics': [271.0]}, {'dimensions': [{'name': '2021-08-15'}], 'metrics': [271.0]}, {'dimensions': [{'name': '2021-10-10'}], 'metrics': [271.0]}, {'dimensions': [{'name': '2021-06-05'}], 'metrics': [270.0]}, {'dimensions': [{'name': '2021-07-25'}], 'metrics': [270.0]}, {'dimensions': [{'name': '2021-04-11'}], 'metrics': [266.0]}, {'dimensions': [{'name': '2021-06-19'}], 'metrics': [265.0]}, {'dimensions': [{'name': '2021-07-24'}], 'metrics': [265.0]}, {'dimensions': [{'name': '2021-08-01'}], 'metrics': [265.0]}, {'dimensions': [{'name': '2021-04-25'}], 'metrics': [264.0]}, {'dimensions': [{'name': '2021-05-23'}], 'metrics': [264.0]}, {'dimensions': [{'name': '2021-01-23'}], 'metrics': [263.0]}, {'dimensions': [{'name': '2021-04-17'}], 'metrics': [260.0]}, {'dimensions': [{'name': '2021-05-08'}], 'metrics': [257.0]}, {'dimensions': [{'name': '2021-07-10'}], 'metrics': [257.0]}, {'dimensions': [{'name': '2021-08-22'}], 'metrics': [256.0]}, {'dimensions': [{'name': '2021-01-24'}], 'metrics': [252.0]}, {'dimensions': [{'name': '2021-08-21'}], 'metrics': [252.0]}, {'dimensions': [{'name': '2021-08-07'}], 'metrics': [250.0]}, {'dimensions': [{'name': '2021-05-16'}], 'metrics': [249.0]}, {'dimensions': [{'name': '2021-06-20'}], 'metrics': [249.0]}, {'dimensions': [{'name': '2021-05-09'}], 'metrics': [248.0]}, {'dimensions': [{'name': '2021-04-18'}], 'metrics': [247.0]}, {'dimensions': [{'name': '2021-03-08'}], 'metrics': [245.0]}, {'dimensions': [{'name': '2021-01-10'}], 'metrics': [242.0]}, {'dimensions': [{'name': '2021-08-28'}], 'metrics': [241.0]}, {'dimensions': [{'name': '2021-02-20'}], 'metrics': [240.0]}, {'dimensions': [{'name': '2021-06-06'}], 'metrics': [239.0]}, {'dimensions': [{'name': '2021-05-22'}], 'metrics': [238.0]}, {'dimensions': [{'name': '2021-07-04'}], 'metrics': [237.0]}, {'dimensions': [{'name': '2021-05-01'}], 'metrics': [236.0]}, {'dimensions': [{'name': '2021-01-03'}], 'metrics': [233.0]}, {'dimensions': [{'name': '2021-06-13'}], 'metrics': [233.0]}, {'dimensions': [{'name': '2021-08-14'}], 'metrics': [233.0]}, {'dimensions': [{'name': '2021-01-02'}], 'metrics': [230.0]}, {'dimensions': [{'name': '2021-01-30'}], 'metrics': [227.0]}, {'dimensions': [{'name': '2021-01-31'}], 'metrics': [219.0]}, {'dimensions': [{'name': '2021-08-08'}], 'metrics': [217.0]}, {'dimensions': [{'name': '2021-03-14'}], 'metrics': [202.0]}, {'dimensions': [{'name': '2021-03-20'}], 'metrics': [199.0]}, {'dimensions': [{'name': '2021-02-07'}], 'metrics': [196.0]}, {'dimensions': [{'name': '2021-05-02'}], 'metrics': [193.0]}, {'dimensions': [{'name': '2021-02-06'}], 'metrics': [185.0]}, {'dimensions': [{'name': '2021-02-13'}], 'metrics': [185.0]}, {'dimensions': [{'name': '2021-02-21'}], 'metrics': [184.0]}, {'dimensions': [{'name': '2021-03-27'}], 'metrics': [183.0]}, {'dimensions': [{'name': '2021-03-28'}], 'metrics': [182.0]}, {'dimensions': [{'name': '2021-02-28'}], 'metrics': [179.0]}, {'dimensions': [{'name': '2021-03-06'}], 'metrics': [179.0]}, {'dimensions': [{'name': '2021-03-07'}], 'metrics': [173.0]}, {'dimensions': [{'name': '2021-03-13'}], 'metrics': [170.0]}, {'dimensions': [{'name': '2021-02-27'}], 'metrics': [167.0]}, {'dimensions': [{'name': '2021-01-01'}], 'metrics': [158.0]}, {'dimensions': [{'name': '2021-03-21'}], 'metrics': [156.0]}, {'dimensions': [{'name': '2021-02-14'}], 'metrics': [146.0]}]\n"
     ]
    }
   ],
   "source": [
    "m.traffic()"
   ]
  },
  {
   "cell_type": "code",
   "execution_count": 80,
   "metadata": {},
   "outputs": [],
   "source": [
    "m.reformat_api_report()"
   ]
  },
  {
   "cell_type": "code",
   "execution_count": 81,
   "metadata": {},
   "outputs": [
    {
     "data": {
      "text/plain": [
       "[['2021-08-31', 599.0],\n",
       " ['2021-09-01', 595.0],\n",
       " ['2021-08-30', 587.0],\n",
       " ['2021-06-29', 571.0],\n",
       " ['2021-09-27', 569.0],\n",
       " ['2021-07-13', 564.0],\n",
       " ['2021-07-15', 560.0],\n",
       " ['2021-09-28', 560.0],\n",
       " ['2021-04-06', 548.0],\n",
       " ['2021-06-09', 548.0],\n",
       " ['2021-10-14', 545.0],\n",
       " ['2021-06-30', 544.0],\n",
       " ['2021-06-02', 543.0],\n",
       " ['2021-10-12', 537.0],\n",
       " ['2021-04-22', 535.0],\n",
       " ['2021-05-25', 534.0],\n",
       " ['2021-05-26', 533.0],\n",
       " ['2021-04-07', 532.0],\n",
       " ['2021-05-31', 527.0],\n",
       " ['2021-01-19', 524.0],\n",
       " ['2021-10-04', 524.0],\n",
       " ['2021-04-21', 523.0],\n",
       " ['2021-07-08', 522.0],\n",
       " ['2021-10-11', 520.0],\n",
       " ['2021-10-13', 516.0],\n",
       " ['2021-06-28', 514.0],\n",
       " ['2021-06-16', 511.0],\n",
       " ['2021-07-14', 511.0],\n",
       " ['2021-09-14', 510.0],\n",
       " ['2021-09-30', 509.0],\n",
       " ['2021-07-22', 508.0],\n",
       " ['2021-09-16', 508.0],\n",
       " ['2021-01-13', 507.0],\n",
       " ['2021-04-13', 507.0],\n",
       " ['2021-09-02', 507.0],\n",
       " ['2021-04-20', 506.0],\n",
       " ['2021-07-02', 506.0],\n",
       " ['2021-09-13', 506.0],\n",
       " ['2021-04-12', 502.0],\n",
       " ['2021-04-26', 502.0],\n",
       " ['2021-10-15', 502.0],\n",
       " ['2021-10-07', 501.0],\n",
       " ['2021-01-12', 500.0],\n",
       " ['2021-05-27', 499.0],\n",
       " ['2021-09-06', 499.0],\n",
       " ['2021-05-19', 498.0],\n",
       " ['2021-07-29', 497.0],\n",
       " ['2021-07-06', 495.0],\n",
       " ['2021-08-05', 495.0],\n",
       " ['2021-09-29', 494.0],\n",
       " ['2021-04-27', 487.0],\n",
       " ['2021-08-04', 487.0],\n",
       " ['2021-10-08', 486.0],\n",
       " ['2021-04-28', 483.0],\n",
       " ['2021-08-23', 483.0],\n",
       " ['2021-04-19', 482.0],\n",
       " ['2021-07-12', 482.0],\n",
       " ['2021-06-24', 480.0],\n",
       " ['2021-09-09', 479.0],\n",
       " ['2021-06-08', 478.0],\n",
       " ['2021-07-07', 478.0],\n",
       " ['2021-07-30', 476.0],\n",
       " ['2021-09-08', 476.0],\n",
       " ['2021-10-01', 476.0],\n",
       " ['2021-04-15', 475.0],\n",
       " ['2021-08-10', 475.0],\n",
       " ['2021-07-20', 474.0],\n",
       " ['2021-08-25', 472.0],\n",
       " ['2021-10-05', 472.0],\n",
       " ['2021-06-10', 471.0],\n",
       " ['2021-09-23', 471.0],\n",
       " ['2021-01-18', 470.0],\n",
       " ['2021-08-02', 470.0],\n",
       " ['2021-10-06', 470.0],\n",
       " ['2021-04-29', 469.0],\n",
       " ['2021-07-01', 469.0],\n",
       " ['2021-07-19', 466.0],\n",
       " ['2021-09-15', 466.0],\n",
       " ['2021-07-05', 465.0],\n",
       " ['2021-01-20', 463.0],\n",
       " ['2021-06-07', 463.0],\n",
       " ['2021-06-15', 463.0],\n",
       " ['2021-06-04', 462.0],\n",
       " ['2021-06-21', 461.0],\n",
       " ['2021-09-21', 461.0],\n",
       " ['2021-01-25', 460.0],\n",
       " ['2021-04-08', 459.0],\n",
       " ['2021-07-26', 459.0],\n",
       " ['2021-01-14', 458.0],\n",
       " ['2021-09-17', 458.0],\n",
       " ['2021-08-24', 455.0],\n",
       " ['2021-05-20', 454.0],\n",
       " ['2021-01-27', 453.0],\n",
       " ['2021-08-03', 453.0],\n",
       " ['2021-03-24', 451.0],\n",
       " ['2021-06-03', 451.0],\n",
       " ['2021-02-02', 450.0],\n",
       " ['2021-05-17', 450.0],\n",
       " ['2021-07-21', 450.0],\n",
       " ['2021-08-11', 450.0],\n",
       " ['2021-01-26', 449.0],\n",
       " ['2021-06-17', 448.0],\n",
       " ['2021-08-26', 448.0],\n",
       " ['2021-05-11', 446.0],\n",
       " ['2021-06-01', 445.0],\n",
       " ['2021-04-01', 444.0],\n",
       " ['2021-09-03', 443.0],\n",
       " ['2021-09-22', 441.0],\n",
       " ['2021-09-07', 440.0],\n",
       " ['2021-01-11', 439.0],\n",
       " ['2021-04-16', 439.0],\n",
       " ['2021-08-12', 438.0],\n",
       " ['2021-04-14', 437.0],\n",
       " ['2021-06-23', 437.0],\n",
       " ['2021-05-12', 435.0],\n",
       " ['2021-05-18', 435.0],\n",
       " ['2021-06-22', 434.0],\n",
       " ['2021-04-23', 431.0],\n",
       " ['2021-01-15', 430.0],\n",
       " ['2021-07-09', 430.0],\n",
       " ['2021-01-21', 429.0],\n",
       " ['2021-06-25', 429.0],\n",
       " ['2021-07-27', 429.0],\n",
       " ['2021-08-09', 429.0],\n",
       " ['2021-09-20', 428.0],\n",
       " ['2021-07-16', 426.0],\n",
       " ['2021-04-09', 425.0],\n",
       " ['2021-05-05', 425.0],\n",
       " ['2021-08-17', 425.0],\n",
       " ['2021-04-02', 424.0],\n",
       " ['2021-05-13', 424.0],\n",
       " ['2021-08-20', 421.0],\n",
       " ['2021-01-22', 420.0],\n",
       " ['2021-07-28', 420.0],\n",
       " ['2021-08-18', 420.0],\n",
       " ['2021-01-05', 419.0],\n",
       " ['2021-05-28', 419.0],\n",
       " ['2021-09-10', 419.0],\n",
       " ['2021-01-28', 418.0],\n",
       " ['2021-05-21', 417.0],\n",
       " ['2021-08-16', 416.0],\n",
       " ['2021-04-30', 414.0],\n",
       " ['2021-01-04', 408.0],\n",
       " ['2021-05-04', 406.0],\n",
       " ['2021-07-23', 406.0],\n",
       " ['2021-04-05', 404.0],\n",
       " ['2021-08-13', 401.0],\n",
       " ['2021-06-14', 399.0],\n",
       " ['2021-08-29', 398.0],\n",
       " ['2021-01-06', 395.0],\n",
       " ['2021-05-24', 395.0],\n",
       " ['2021-06-18', 395.0],\n",
       " ['2021-08-19', 395.0],\n",
       " ['2021-05-14', 394.0],\n",
       " ['2021-01-29', 391.0],\n",
       " ['2021-03-11', 391.0],\n",
       " ['2021-05-06', 391.0],\n",
       " ['2021-05-07', 391.0],\n",
       " ['2021-03-10', 376.0],\n",
       " ['2021-06-11', 373.0],\n",
       " ['2021-08-06', 373.0],\n",
       " ['2021-03-16', 371.0],\n",
       " ['2021-03-30', 366.0],\n",
       " ['2021-01-07', 365.0],\n",
       " ['2021-02-25', 365.0],\n",
       " ['2021-01-08', 364.0],\n",
       " ['2021-09-24', 364.0],\n",
       " ['2021-03-02', 360.0],\n",
       " ['2021-02-24', 358.0],\n",
       " ['2021-03-15', 358.0],\n",
       " ['2021-03-17', 358.0],\n",
       " ['2021-03-25', 358.0],\n",
       " ['2021-03-29', 354.0],\n",
       " ['2021-10-02', 354.0],\n",
       " ['2021-08-27', 351.0],\n",
       " ['2021-03-09', 349.0],\n",
       " ['2021-03-04', 346.0],\n",
       " ['2021-03-18', 344.0],\n",
       " ['2021-05-10', 341.0],\n",
       " ['2021-02-22', 336.0],\n",
       " ['2021-02-03', 333.0],\n",
       " ['2021-02-09', 333.0],\n",
       " ['2021-02-01', 332.0],\n",
       " ['2021-03-23', 331.0],\n",
       " ['2021-03-22', 327.0],\n",
       " ['2021-02-23', 326.0],\n",
       " ['2021-07-03', 321.0],\n",
       " ['2021-09-05', 319.0],\n",
       " ['2021-03-03', 318.0],\n",
       " ['2021-03-12', 317.0],\n",
       " ['2021-02-15', 316.0],\n",
       " ['2021-05-03', 316.0],\n",
       " ['2021-03-31', 314.0],\n",
       " ['2021-06-27', 312.0],\n",
       " ['2021-09-11', 312.0],\n",
       " ['2021-02-04', 309.0],\n",
       " ['2021-03-19', 309.0],\n",
       " ['2021-09-04', 309.0],\n",
       " ['2021-09-12', 309.0],\n",
       " ['2021-02-11', 308.0],\n",
       " ['2021-01-17', 307.0],\n",
       " ['2021-10-17', 307.0],\n",
       " ['2021-03-26', 306.0],\n",
       " ['2021-07-11', 306.0],\n",
       " ['2021-02-16', 304.0],\n",
       " ['2021-02-10', 302.0],\n",
       " ['2021-03-01', 302.0],\n",
       " ['2021-07-18', 302.0],\n",
       " ['2021-07-31', 301.0],\n",
       " ['2021-10-03', 301.0],\n",
       " ['2021-02-19', 299.0],\n",
       " ['2021-01-16', 297.0],\n",
       " ['2021-02-05', 297.0],\n",
       " ['2021-01-09', 296.0],\n",
       " ['2021-07-17', 295.0],\n",
       " ['2021-02-17', 293.0],\n",
       " ['2021-10-16', 291.0],\n",
       " ['2021-02-18', 287.0],\n",
       " ['2021-04-24', 286.0],\n",
       " ['2021-03-05', 284.0],\n",
       " ['2021-02-26', 283.0],\n",
       " ['2021-02-08', 282.0],\n",
       " ['2021-09-25', 279.0],\n",
       " ['2021-09-26', 279.0],\n",
       " ['2021-10-09', 279.0],\n",
       " ['2021-04-04', 278.0],\n",
       " ['2021-09-18', 278.0],\n",
       " ['2021-06-12', 277.0],\n",
       " ['2021-05-29', 276.0],\n",
       " ['2021-09-19', 275.0],\n",
       " ['2021-04-10', 273.0],\n",
       " ['2021-05-30', 273.0],\n",
       " ['2021-02-12', 272.0],\n",
       " ['2021-04-03', 272.0],\n",
       " ['2021-05-15', 272.0],\n",
       " ['2021-06-26', 271.0],\n",
       " ['2021-08-15', 271.0],\n",
       " ['2021-10-10', 271.0],\n",
       " ['2021-06-05', 270.0],\n",
       " ['2021-07-25', 270.0],\n",
       " ['2021-04-11', 266.0],\n",
       " ['2021-06-19', 265.0],\n",
       " ['2021-07-24', 265.0],\n",
       " ['2021-08-01', 265.0],\n",
       " ['2021-04-25', 264.0],\n",
       " ['2021-05-23', 264.0],\n",
       " ['2021-01-23', 263.0],\n",
       " ['2021-04-17', 260.0],\n",
       " ['2021-05-08', 257.0],\n",
       " ['2021-07-10', 257.0],\n",
       " ['2021-08-22', 256.0],\n",
       " ['2021-01-24', 252.0],\n",
       " ['2021-08-21', 252.0],\n",
       " ['2021-08-07', 250.0],\n",
       " ['2021-05-16', 249.0],\n",
       " ['2021-06-20', 249.0],\n",
       " ['2021-05-09', 248.0],\n",
       " ['2021-04-18', 247.0],\n",
       " ['2021-03-08', 245.0],\n",
       " ['2021-01-10', 242.0],\n",
       " ['2021-08-28', 241.0],\n",
       " ['2021-02-20', 240.0],\n",
       " ['2021-06-06', 239.0],\n",
       " ['2021-05-22', 238.0],\n",
       " ['2021-07-04', 237.0],\n",
       " ['2021-05-01', 236.0],\n",
       " ['2021-01-03', 233.0],\n",
       " ['2021-06-13', 233.0],\n",
       " ['2021-08-14', 233.0],\n",
       " ['2021-01-02', 230.0],\n",
       " ['2021-01-30', 227.0],\n",
       " ['2021-01-31', 219.0],\n",
       " ['2021-08-08', 217.0],\n",
       " ['2021-03-14', 202.0],\n",
       " ['2021-03-20', 199.0],\n",
       " ['2021-02-07', 196.0],\n",
       " ['2021-05-02', 193.0],\n",
       " ['2021-02-06', 185.0],\n",
       " ['2021-02-13', 185.0],\n",
       " ['2021-02-21', 184.0],\n",
       " ['2021-03-27', 183.0],\n",
       " ['2021-03-28', 182.0],\n",
       " ['2021-02-28', 179.0],\n",
       " ['2021-03-06', 179.0],\n",
       " ['2021-03-07', 173.0],\n",
       " ['2021-03-13', 170.0],\n",
       " ['2021-02-27', 167.0],\n",
       " ['2021-01-01', 158.0],\n",
       " ['2021-03-21', 156.0],\n",
       " ['2021-02-14', 146.0]]"
      ]
     },
     "execution_count": 81,
     "metadata": {},
     "output_type": "execute_result"
    }
   ],
   "source": [
    "m.report"
   ]
  },
  {
   "cell_type": "code",
   "execution_count": 70,
   "metadata": {
    "scrolled": true
   },
   "outputs": [
    {
     "data": {
      "text/plain": [
       "[{'dimensions': [{'name': '2020-09-08'},\n",
       "   {'icon_id': '6',\n",
       "    'icon_type': 'browser',\n",
       "    'name': 'Google Chrome',\n",
       "    'id': '6'}],\n",
       "  'metrics': [329.0, 307.0]},\n",
       " {'dimensions': [{'name': '2020-09-09'},\n",
       "   {'icon_id': '6',\n",
       "    'icon_type': 'browser',\n",
       "    'name': 'Google Chrome',\n",
       "    'id': '6'}],\n",
       "  'metrics': [318.0, 289.0]},\n",
       " {'dimensions': [{'name': '2020-09-03'},\n",
       "   {'icon_id': '6',\n",
       "    'icon_type': 'browser',\n",
       "    'name': 'Google Chrome',\n",
       "    'id': '6'}],\n",
       "  'metrics': [310.0, 292.0]},\n",
       " {'dimensions': [{'name': '2020-09-07'},\n",
       "   {'icon_id': '6',\n",
       "    'icon_type': 'browser',\n",
       "    'name': 'Google Chrome',\n",
       "    'id': '6'}],\n",
       "  'metrics': [299.0, 271.0]},\n",
       " {'dimensions': [{'name': '2020-09-02'},\n",
       "   {'icon_id': '6',\n",
       "    'icon_type': 'browser',\n",
       "    'name': 'Google Chrome',\n",
       "    'id': '6'}],\n",
       "  'metrics': [298.0, 279.0]}]"
      ]
     },
     "execution_count": 70,
     "metadata": {},
     "output_type": "execute_result"
    }
   ],
   "source": [
    "m.browser()"
   ]
  },
  {
   "cell_type": "code",
   "execution_count": 63,
   "metadata": {},
   "outputs": [
    {
     "data": {
      "text/plain": [
       "[{'dimensions': [{'name': '2020-09-08'}], 'metrics': [530.0]},\n",
       " {'dimensions': [{'name': '2020-09-09'}], 'metrics': [526.0]},\n",
       " {'dimensions': [{'name': '2020-09-07'}], 'metrics': [511.0]},\n",
       " {'dimensions': [{'name': '2020-09-01'}], 'metrics': [505.0]},\n",
       " {'dimensions': [{'name': '2020-09-02'}], 'metrics': [505.0]}]"
      ]
     },
     "execution_count": 63,
     "metadata": {},
     "output_type": "execute_result"
    }
   ],
   "source": [
    "m.traffic()"
   ]
  },
  {
   "cell_type": "code",
   "execution_count": 59,
   "metadata": {},
   "outputs": [],
   "source": [
    "m.dimensions = 'ym:s:date'\n",
    "m.metrics = 'ym:s:visits'"
   ]
  },
  {
   "cell_type": "code",
   "execution_count": 60,
   "metadata": {},
   "outputs": [
    {
     "data": {
      "text/plain": [
       "[{'dimensions': [{'name': '2020-09-08'}], 'metrics': [530.0]},\n",
       " {'dimensions': [{'name': '2020-09-09'}], 'metrics': [526.0]},\n",
       " {'dimensions': [{'name': '2020-09-07'}], 'metrics': [511.0]},\n",
       " {'dimensions': [{'name': '2020-09-01'}], 'metrics': [505.0]},\n",
       " {'dimensions': [{'name': '2020-09-02'}], 'metrics': [505.0]}]"
      ]
     },
     "execution_count": 60,
     "metadata": {},
     "output_type": "execute_result"
    }
   ],
   "source": [
    "m.api_request()"
   ]
  },
  {
   "cell_type": "code",
   "execution_count": null,
   "metadata": {},
   "outputs": [],
   "source": []
  }
 ],
 "metadata": {
  "kernelspec": {
   "display_name": "Python 3",
   "language": "python",
   "name": "python3"
  },
  "language_info": {
   "codemirror_mode": {
    "name": "ipython",
    "version": 3
   },
   "file_extension": ".py",
   "mimetype": "text/x-python",
   "name": "python",
   "nbconvert_exporter": "python",
   "pygments_lexer": "ipython3",
   "version": "3.8.8"
  }
 },
 "nbformat": 4,
 "nbformat_minor": 4
}
