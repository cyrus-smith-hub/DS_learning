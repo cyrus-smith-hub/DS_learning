{
 "cells": [
  {
   "cell_type": "markdown",
   "id": "a48c5e03",
   "metadata": {},
   "source": [
    "# Генераторы и Монте-Карло"
   ]
  },
  {
   "cell_type": "code",
   "execution_count": 352,
   "id": "266100f0",
   "metadata": {},
   "outputs": [],
   "source": [
    "import pandas as pd\n",
    "import numpy as np\n",
    "import seaborn as sns"
   ]
  },
  {
   "cell_type": "markdown",
   "id": "f879a537",
   "metadata": {},
   "source": [
    "### Итоги:\n",
    " - генерировать дискретную СВ можно средствами np и собственными с задаными характеристиками, получается нагляднее\n",
    " - .sample(n, replace = True) - генерирует из чего угодно\n",
    " - бросаем монетку и тп - с помощью биномиального распределения\n",
    " - генерирование непрерывной СВ - только средствами np и тп\n",
    " - есть несколько различных законов распределений непрерывной СВ - равномерное, нормальное, паретто, в т.ч. с жирым хвостом, что выидно на гистограммах\n",
    " - bootstrap - берем большую выборку \"настоящей\" СВ и используем ее для генерации своих распределений\n",
    " - sns.kdeplot - гистограмма в виде линии\n",
    " - PDF - функция плотности распределения, то же самое что и гистограмма\n",
    " - CDF - интеграл PDF по x, или площадь, по ее форме можно судить и законе распределения\n",
    " - qq plot - сранивает квантили фактического распределения и заранее заданного закона на графике, так можно понять закон распределения на фактическом графике, потом изучу.."
   ]
  },
  {
   "cell_type": "markdown",
   "id": "3d9bfe54",
   "metadata": {},
   "source": [
    "### Генерация дискретной СВ"
   ]
  },
  {
   "cell_type": "code",
   "execution_count": 353,
   "id": "03568533",
   "metadata": {},
   "outputs": [
    {
     "data": {
      "text/plain": [
       "0"
      ]
     },
     "execution_count": 353,
     "metadata": {},
     "output_type": "execute_result"
    }
   ],
   "source": [
    "#монетка\n",
    "np.random.binomial(1,0.5)"
   ]
  },
  {
   "cell_type": "code",
   "execution_count": 354,
   "id": "7c94106f",
   "metadata": {},
   "outputs": [
    {
     "data": {
      "text/plain": [
       "[0, 0, 1]"
      ]
     },
     "execution_count": 354,
     "metadata": {},
     "output_type": "execute_result"
    }
   ],
   "source": [
    "#цикл\n",
    "res = []\n",
    "for _ in range(3):\n",
    "    res.append(np.random.binomial(1,0.5))\n",
    "\n",
    "res"
   ]
  },
  {
   "cell_type": "code",
   "execution_count": 355,
   "id": "46140210",
   "metadata": {},
   "outputs": [
    {
     "data": {
      "text/plain": [
       "[0, 1, 1]"
      ]
     },
     "execution_count": 355,
     "metadata": {},
     "output_type": "execute_result"
    }
   ],
   "source": [
    "#list comrehension\n",
    "[np.random.binomial(1,0.5) for _ in range(3)]"
   ]
  },
  {
   "cell_type": "code",
   "execution_count": 356,
   "id": "a9c2b9af",
   "metadata": {},
   "outputs": [
    {
     "data": {
      "text/plain": [
       "array([0, 0, 0])"
      ]
     },
     "execution_count": 356,
     "metadata": {},
     "output_type": "execute_result"
    }
   ],
   "source": [
    "#numpy\n",
    "np.random.binomial(1,0.5, size = 3)"
   ]
  },
  {
   "cell_type": "code",
   "execution_count": 357,
   "id": "7dfd3697",
   "metadata": {},
   "outputs": [
    {
     "data": {
      "text/plain": [
       "<AxesSubplot:>"
      ]
     },
     "execution_count": 357,
     "metadata": {},
     "output_type": "execute_result"
    },
    {
     "data": {
      "image/png": "[encoded data removed]",
      "text/plain": [
       "<Figure size 432x288 with 1 Axes>"
      ]
     },
     "metadata": {
      "needs_background": "light"
     },
     "output_type": "display_data"
    }
   ],
   "source": [
    "#смещенная к какому то числу, 90% единица\n",
    "pd.Series(np.random.binomial(1,0.9, size = 10000)).hist()"
   ]
  },
  {
   "cell_type": "code",
   "execution_count": 358,
   "id": "cc4d833e",
   "metadata": {},
   "outputs": [
    {
     "data": {
      "text/plain": [
       "1"
      ]
     },
     "execution_count": 358,
     "metadata": {},
     "output_type": "execute_result"
    }
   ],
   "source": [
    "#Pandas\n",
    "pd.Series([0,1]).sample(1).values[0]"
   ]
  },
  {
   "cell_type": "code",
   "execution_count": 359,
   "id": "d9ec54b0",
   "metadata": {},
   "outputs": [
    {
     "data": {
      "text/plain": [
       "array([0, 0, 0, 0, 0, 0, 0, 1, 1, 0], dtype=int64)"
      ]
     },
     "execution_count": 359,
     "metadata": {},
     "output_type": "execute_result"
    }
   ],
   "source": [
    "#Pandas генератор через семпл с возвращением\n",
    "pd.Series([0,1]).sample(10, replace = True).values"
   ]
  },
  {
   "cell_type": "code",
   "execution_count": 360,
   "id": "19f7e5d4",
   "metadata": {},
   "outputs": [
    {
     "data": {
      "text/plain": [
       "<AxesSubplot:>"
      ]
     },
     "execution_count": 360,
     "metadata": {},
     "output_type": "execute_result"
    },
    {
     "data": {
      "image/png": "[encoded data removed]",
      "text/plain": [
       "<Figure size 432x288 with 1 Axes>"
      ]
     },
     "metadata": {
      "needs_background": "light"
     },
     "output_type": "display_data"
    }
   ],
   "source": [
    "#Управление вероятностью выпадения\n",
    "#Выпадение 1 с вероятностью 70%\n",
    "\n",
    "pd.Series([0]*3 + [1]*7).sample(100, replace = True).hist()"
   ]
  },
  {
   "cell_type": "code",
   "execution_count": 402,
   "id": "0019e100",
   "metadata": {},
   "outputs": [
    {
     "name": "stdout",
     "output_type": "stream",
     "text": [
      "      current_mean  all_mean\n",
      "1000        0.4375  0.499563\n"
     ]
    },
    {
     "data": {
      "image/png": "[encoded data removed]",
      "text/plain": [
       "<Figure size 432x288 with 1 Axes>"
      ]
     },
     "metadata": {
      "needs_background": "light"
     },
     "output_type": "display_data"
    }
   ],
   "source": [
    "#График стаибилизации частоты по мере увеличения экспериментов\n",
    "\n",
    "df = pd.DataFrame({'current_mean':[0.5], 'all_mean':[0.5]})\n",
    "for i in range(10**3):\n",
    "    mean = pd.Series([0]*5 + [1]*5).sample(32, replace = True).values.mean()\n",
    "    df.loc[len(df.index)] = [mean,(df['current_mean'].sum() + mean)/(len(df.index)+1)]\n",
    "\n",
    "df['all_mean'].plot(grid = True)\n",
    "print(df.tail(1))"
   ]
  },
  {
   "cell_type": "code",
   "execution_count": 403,
   "id": "dae76167",
   "metadata": {},
   "outputs": [
    {
     "data": {
      "text/plain": [
       "<AxesSubplot:>"
      ]
     },
     "execution_count": 403,
     "metadata": {},
     "output_type": "execute_result"
    },
    {
     "data": {
      "image/png": "[encoded data removed]",
      "text/plain": [
       "<Figure size 432x288 with 1 Axes>"
      ]
     },
     "metadata": {
      "needs_background": "light"
     },
     "output_type": "display_data"
    }
   ],
   "source": [
    "df['current_mean'].value_counts(bins = np.arange(0,1,0.05)).plot(kind = 'bar', rot = 75)"
   ]
  },
  {
   "cell_type": "code",
   "execution_count": null,
   "id": "777b8f6a",
   "metadata": {},
   "outputs": [],
   "source": []
  },
  {
   "cell_type": "code",
   "execution_count": 363,
   "id": "bbfdfbbd",
   "metadata": {},
   "outputs": [
    {
     "data": {
      "text/plain": [
       "array([5, 6, 5, 1, 4, 5, 2, 1, 1, 4], dtype=int64)"
      ]
     },
     "execution_count": 363,
     "metadata": {},
     "output_type": "execute_result"
    }
   ],
   "source": [
    "#Игральный кубик с Pandas\n",
    "\n",
    "pd.Series(list(range(1,7))).sample(10,replace = True).values"
   ]
  },
  {
   "cell_type": "code",
   "execution_count": 364,
   "id": "a12cd3b5",
   "metadata": {},
   "outputs": [
    {
     "data": {
      "text/plain": [
       "array([5, 4, 1, 4, 1, 1, 5, 2, 5, 5])"
      ]
     },
     "execution_count": 364,
     "metadata": {},
     "output_type": "execute_result"
    }
   ],
   "source": [
    "#с помощью np\n",
    "\n",
    "np.random.randint(1,7, size = 10)"
   ]
  },
  {
   "cell_type": "markdown",
   "id": "691697a2",
   "metadata": {},
   "source": [
    "### Генерация непрерывной СВ"
   ]
  },
  {
   "cell_type": "code",
   "execution_count": 365,
   "id": "5ddd2d2d",
   "metadata": {},
   "outputs": [
    {
     "data": {
      "text/plain": [
       "<AxesSubplot:>"
      ]
     },
     "execution_count": 365,
     "metadata": {},
     "output_type": "execute_result"
    },
    {
     "data": {
      "image/png": "[encoded data removed]",
      "text/plain": [
       "<Figure size 432x288 with 1 Axes>"
      ]
     },
     "metadata": {
      "needs_background": "light"
     },
     "output_type": "display_data"
    }
   ],
   "source": [
    "#равномерное распределение\n",
    "pd.Series(np.random.uniform(size = 10000)).hist(bins = 24)"
   ]
  },
  {
   "cell_type": "code",
   "execution_count": 366,
   "id": "4d49a8f5",
   "metadata": {},
   "outputs": [
    {
     "data": {
      "text/plain": [
       "<AxesSubplot:>"
      ]
     },
     "execution_count": 366,
     "metadata": {},
     "output_type": "execute_result"
    },
    {
     "data": {
      "image/png": "[encoded data removed]",
      "text/plain": [
       "<Figure size 432x288 with 1 Axes>"
      ]
     },
     "metadata": {
      "needs_background": "light"
     },
     "output_type": "display_data"
    }
   ],
   "source": [
    "#нормальное распределение\n",
    "pd.Series(np.random.normal(size = 1000)).hist(bins = 24)"
   ]
  },
  {
   "cell_type": "code",
   "execution_count": 367,
   "id": "e6337e78",
   "metadata": {},
   "outputs": [
    {
     "data": {
      "text/plain": [
       "<AxesSubplot:>"
      ]
     },
     "execution_count": 367,
     "metadata": {},
     "output_type": "execute_result"
    },
    {
     "data": {
      "image/png": "[encoded data removed]",
      "text/plain": [
       "<Figure size 432x288 with 1 Axes>"
      ]
     },
     "metadata": {
      "needs_background": "light"
     },
     "output_type": "display_data"
    }
   ],
   "source": [
    "#Пуассон\n",
    "\n",
    "pd.Series(np.random.poisson(5,size = 1000)).hist(bins = 12)"
   ]
  },
  {
   "cell_type": "code",
   "execution_count": 368,
   "id": "685bf2fd",
   "metadata": {},
   "outputs": [
    {
     "data": {
      "text/plain": [
       "<AxesSubplot:>"
      ]
     },
     "execution_count": 368,
     "metadata": {},
     "output_type": "execute_result"
    },
    {
     "data": {
      "image/png": "[encoded data removed]",
      "text/plain": [
       "<Figure size 432x288 with 1 Axes>"
      ]
     },
     "metadata": {
      "needs_background": "light"
     },
     "output_type": "display_data"
    }
   ],
   "source": [
    "pd.Series(np.random.chisquare(10, size = 1000)).hist()"
   ]
  },
  {
   "cell_type": "code",
   "execution_count": 369,
   "id": "17104e95",
   "metadata": {},
   "outputs": [
    {
     "data": {
      "text/plain": [
       "<AxesSubplot:>"
      ]
     },
     "execution_count": 369,
     "metadata": {},
     "output_type": "execute_result"
    },
    {
     "data": {
      "image/png": "[encoded data removed]",
      "text/plain": [
       "<Figure size 432x288 with 1 Axes>"
      ]
     },
     "metadata": {
      "needs_background": "light"
     },
     "output_type": "display_data"
    }
   ],
   "source": [
    "#Lognormal и жирный хвост\n",
    "pd.Series(np.random.lognormal(2, size = 10000)).hist(bins = 1000)"
   ]
  },
  {
   "cell_type": "code",
   "execution_count": 370,
   "id": "12e81d66",
   "metadata": {},
   "outputs": [
    {
     "data": {
      "text/plain": [
       "<AxesSubplot:>"
      ]
     },
     "execution_count": 370,
     "metadata": {},
     "output_type": "execute_result"
    },
    {
     "data": {
      "image/png": "[encoded data removed]",
      "text/plain": [
       "<Figure size 432x288 with 1 Axes>"
      ]
     },
     "metadata": {
      "needs_background": "light"
     },
     "output_type": "display_data"
    }
   ],
   "source": [
    "#Паретто и жирный хвост\n",
    "pd.Series(np.random.pareto(10, size = 100000)).hist(bins = 1000)"
   ]
  },
  {
   "cell_type": "markdown",
   "id": "6916b1a7",
   "metadata": {},
   "source": [
    "### BootStrap. Начало"
   ]
  },
  {
   "cell_type": "code",
   "execution_count": 371,
   "id": "e5f29fe0",
   "metadata": {},
   "outputs": [
    {
     "data": {
      "text/plain": [
       "0        0.622358\n",
       "1        0.027636\n",
       "2        0.318981\n",
       "3        0.508739\n",
       "4        0.891083\n",
       "           ...   \n",
       "99995    0.279015\n",
       "99996    0.792903\n",
       "99997    0.626916\n",
       "99998    0.262547\n",
       "99999    0.343496\n",
       "Length: 100000, dtype: float64"
      ]
     },
     "execution_count": 371,
     "metadata": {},
     "output_type": "execute_result"
    }
   ],
   "source": [
    "uniform = pd.Series(np.random.uniform(size = 100000))\n",
    "uniform"
   ]
  },
  {
   "cell_type": "code",
   "execution_count": 372,
   "id": "0b96c667",
   "metadata": {},
   "outputs": [
    {
     "data": {
      "text/plain": [
       "<AxesSubplot:>"
      ]
     },
     "execution_count": 372,
     "metadata": {},
     "output_type": "execute_result"
    },
    {
     "data": {
      "image/png": "[encoded data removed]",
      "text/plain": [
       "<Figure size 432x288 with 1 Axes>"
      ]
     },
     "metadata": {
      "needs_background": "light"
     },
     "output_type": "display_data"
    }
   ],
   "source": [
    "uniform.sample(10000, replace = True).hist()"
   ]
  },
  {
   "cell_type": "markdown",
   "id": "cbbcffb7",
   "metadata": {},
   "source": [
    "#### CDF PDF"
   ]
  },
  {
   "cell_type": "code",
   "execution_count": 373,
   "id": "178ae5dc",
   "metadata": {},
   "outputs": [
    {
     "data": {
      "text/plain": [
       "<AxesSubplot:ylabel='Probability'>"
      ]
     },
     "execution_count": 373,
     "metadata": {},
     "output_type": "execute_result"
    },
    {
     "data": {
      "image/png": "[encoded data removed]",
      "text/plain": [
       "<Figure size 432x288 with 1 Axes>"
      ]
     },
     "metadata": {
      "needs_background": "light"
     },
     "output_type": "display_data"
    }
   ],
   "source": [
    "#1000 бросков кубика\n",
    "u = np.random.randint(1,7, size = 1000)\n",
    "sns.histplot(u, stat = 'probability')"
   ]
  },
  {
   "cell_type": "code",
   "execution_count": 374,
   "id": "3bac78ff",
   "metadata": {},
   "outputs": [
    {
     "data": {
      "text/plain": [
       "<AxesSubplot:ylabel='Proportion'>"
      ]
     },
     "execution_count": 374,
     "metadata": {},
     "output_type": "execute_result"
    },
    {
     "data": {
      "image/png": "[encoded data removed]",
      "text/plain": [
       "<Figure size 432x288 with 1 Axes>"
      ]
     },
     "metadata": {
      "needs_background": "light"
     },
     "output_type": "display_data"
    }
   ],
   "source": [
    "#вероятность получить число и меньше его.. \n",
    "#на графике - доля данных равных или меньше числа\n",
    "sns.ecdfplot(u)"
   ]
  },
  {
   "cell_type": "code",
   "execution_count": 375,
   "id": "991a60c9",
   "metadata": {},
   "outputs": [
    {
     "data": {
      "text/plain": [
       "<AxesSubplot:ylabel='Count'>"
      ]
     },
     "execution_count": 375,
     "metadata": {},
     "output_type": "execute_result"
    },
    {
     "data": {
      "image/png": "[encoded data removed]",
      "text/plain": [
       "<Figure size 432x288 with 1 Axes>"
      ]
     },
     "metadata": {
      "needs_background": "light"
     },
     "output_type": "display_data"
    }
   ],
   "source": [
    "#пример неравномерного распределения\n",
    "sns.histplot(pd.Series([1,2,3,4,4,4,4,5,6]).sample(1000, replace = True))"
   ]
  },
  {
   "cell_type": "code",
   "execution_count": 376,
   "id": "20851e90",
   "metadata": {},
   "outputs": [
    {
     "data": {
      "text/plain": [
       "<AxesSubplot:ylabel='Proportion'>"
      ]
     },
     "execution_count": 376,
     "metadata": {},
     "output_type": "execute_result"
    },
    {
     "data": {
      "image/png": "[encoded data removed]",
      "text/plain": [
       "<Figure size 432x288 with 1 Axes>"
      ]
     },
     "metadata": {
      "needs_background": "light"
     },
     "output_type": "display_data"
    }
   ],
   "source": [
    "#CDF для неравномерного распределения\n",
    "sns.ecdfplot(pd.Series([1,2,3,4,4,4,4,4,5,6]).sample(1000, replace = True))"
   ]
  },
  {
   "cell_type": "code",
   "execution_count": 377,
   "id": "292b6fcf",
   "metadata": {},
   "outputs": [
    {
     "data": {
      "text/plain": [
       "<AxesSubplot:ylabel='Probability'>"
      ]
     },
     "execution_count": 377,
     "metadata": {},
     "output_type": "execute_result"
    },
    {
     "data": {
      "image/png": "[encoded data removed]",
      "text/plain": [
       "<Figure size 432x288 with 1 Axes>"
      ]
     },
     "metadata": {
      "needs_background": "light"
     },
     "output_type": "display_data"
    }
   ],
   "source": [
    "#PDF probability density function = гистограмма\n",
    "sns.histplot(np.random.normal(size = 10000),stat = 'probability')\n",
    "#sns.kdeplot(np.random.normal(size = 10000))"
   ]
  },
  {
   "cell_type": "code",
   "execution_count": 378,
   "id": "66e45b62",
   "metadata": {},
   "outputs": [
    {
     "data": {
      "text/plain": [
       "<AxesSubplot:ylabel='Density'>"
      ]
     },
     "execution_count": 378,
     "metadata": {},
     "output_type": "execute_result"
    },
    {
     "data": {
      "image/png": "[encoded data removed]",
      "text/plain": [
       "<Figure size 432x288 with 1 Axes>"
      ]
     },
     "metadata": {
      "needs_background": "light"
     },
     "output_type": "display_data"
    }
   ],
   "source": [
    "#форма распределения в виде линии\n",
    "\n",
    "sns.kdeplot(np.random.normal(size = 10000))"
   ]
  },
  {
   "cell_type": "code",
   "execution_count": 379,
   "id": "b9a411f4",
   "metadata": {},
   "outputs": [
    {
     "data": {
      "text/plain": [
       "<AxesSubplot:ylabel='Proportion'>"
      ]
     },
     "execution_count": 379,
     "metadata": {},
     "output_type": "execute_result"
    },
    {
     "data": {
      "image/png": "[encoded data removed]",
      "text/plain": [
       "<Figure size 432x288 with 1 Axes>"
      ]
     },
     "metadata": {
      "needs_background": "light"
     },
     "output_type": "display_data"
    }
   ],
   "source": [
    "#она же площадь под верхней кривой, интеграл по x\n",
    "sns.ecdfplot(np.random.normal(size = 10000))"
   ]
  },
  {
   "cell_type": "code",
   "execution_count": 380,
   "id": "24c341d3",
   "metadata": {},
   "outputs": [
    {
     "data": {
      "text/plain": [
       "<AxesSubplot:ylabel='Proportion'>"
      ]
     },
     "execution_count": 380,
     "metadata": {},
     "output_type": "execute_result"
    },
    {
     "data": {
      "image/png": "[encoded data removed]",
      "text/plain": [
       "<Figure size 432x288 with 1 Axes>"
      ]
     },
     "metadata": {
      "needs_background": "light"
     },
     "output_type": "display_data"
    }
   ],
   "source": [
    "#CDF для равномерного распределения\n",
    "#можжно использовать для понимания равномерности распределения\n",
    "\n",
    "sns.ecdfplot(np.random.uniform(size = 10000))"
   ]
  },
  {
   "cell_type": "code",
   "execution_count": 381,
   "id": "262e1b63",
   "metadata": {},
   "outputs": [],
   "source": [
    "#qq plot... потом"
   ]
  },
  {
   "cell_type": "code",
   "execution_count": 382,
   "id": "d94050f7",
   "metadata": {},
   "outputs": [
    {
     "name": "stdout",
     "output_type": "stream",
     "text": [
      "вероятность выпадения 4 орлов: 0.06172\n"
     ]
    }
   ],
   "source": [
    "#вероятность выпадения подряд n орлов\n",
    "\n",
    "n = 4\n",
    "res = 0\n",
    "ex_count =10**5\n",
    "\n",
    "for _ in range(ex_count):\n",
    "    if np.random.binomial(1,0.5, size = n).sum() == n:\n",
    "        res += 1\n",
    "\n",
    "res\n",
    "print(f'вероятность выпадения {n} орлов:', res/ex_count)"
   ]
  },
  {
   "cell_type": "code",
   "execution_count": 383,
   "id": "797040c6",
   "metadata": {},
   "outputs": [
    {
     "data": {
      "text/plain": [
       "2    0.369\n",
       "1    0.264\n",
       "3    0.255\n",
       "4    0.063\n",
       "0    0.049\n",
       "dtype: float64"
      ]
     },
     "execution_count": 383,
     "metadata": {},
     "output_type": "execute_result"
    }
   ],
   "source": [
    "#то же самое\n",
    "pd.Series(np.random.binomial(4,0.5,size = 1000)).value_counts(normalize = True)"
   ]
  }
 ],
 "metadata": {
  "kernelspec": {
   "display_name": "Python 3",
   "language": "python",
   "name": "python3"
  },
  "language_info": {
   "codemirror_mode": {
    "name": "ipython",
    "version": 3
   },
   "file_extension": ".py",
   "mimetype": "text/x-python",
   "name": "python",
   "nbconvert_exporter": "python",
   "pygments_lexer": "ipython3",
   "version": "3.8.8"
  }
 },
 "nbformat": 4,
 "nbformat_minor": 5
}
