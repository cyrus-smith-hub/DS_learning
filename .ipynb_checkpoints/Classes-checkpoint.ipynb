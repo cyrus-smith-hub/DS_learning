{
 "cells": [
  {
   "cell_type": "code",
   "execution_count": 3,
   "id": "73c6f472",
   "metadata": {},
   "outputs": [
    {
     "name": "stdout",
     "output_type": "stream",
     "text": [
      "func is working!\n"
     ]
    },
    {
     "ename": "AttributeError",
     "evalue": "'NoneType' object has no attribute 'subFunc'",
     "output_type": "error",
     "traceback": [
      "\u001b[1;31m---------------------------------------------------------------------------\u001b[0m",
      "\u001b[1;31mAttributeError\u001b[0m                            Traceback (most recent call last)",
      "\u001b[1;32m<ipython-input-3-b249d09548b5>\u001b[0m in \u001b[0;36m<module>\u001b[1;34m\u001b[0m\n\u001b[0;32m      7\u001b[0m         \u001b[0mprint\u001b[0m\u001b[1;33m(\u001b[0m\u001b[1;34m'subFunc is working!'\u001b[0m\u001b[1;33m)\u001b[0m\u001b[1;33m\u001b[0m\u001b[1;33m\u001b[0m\u001b[0m\n\u001b[0;32m      8\u001b[0m \u001b[1;33m\u001b[0m\u001b[0m\n\u001b[1;32m----> 9\u001b[1;33m \u001b[0mfunc\u001b[0m\u001b[1;33m(\u001b[0m\u001b[1;33m)\u001b[0m\u001b[1;33m.\u001b[0m\u001b[0msubFunc\u001b[0m\u001b[1;33m(\u001b[0m\u001b[1;33m)\u001b[0m\u001b[1;33m\u001b[0m\u001b[1;33m\u001b[0m\u001b[0m\n\u001b[0m",
      "\u001b[1;31mAttributeError\u001b[0m: 'NoneType' object has no attribute 'subFunc'"
     ]
    }
   ],
   "source": [
    "#Вызов функции из функции\n",
    "#Хер\n",
    "\n",
    "def func():\n",
    "    print('func is working!')\n",
    "    \n",
    "    def subFunc():\n",
    "        print('subFunc is working!')\n",
    "        \n",
    "func().subFunc()"
   ]
  },
  {
   "cell_type": "code",
   "execution_count": 23,
   "id": "75739244",
   "metadata": {},
   "outputs": [
    {
     "name": "stdout",
     "output_type": "stream",
     "text": [
      "Init!\n",
      "1671732231376\n",
      "thirst\n",
      "two\n",
      "Init!\n",
      "1671732229648\n",
      "<class '__main__.MyClass'>\n",
      "['__class__', '__delattr__', '__dict__', '__dir__', '__doc__', '__eq__', '__format__', '__ge__', '__getattribute__', '__gt__', '__hash__', '__init__', '__init_subclass__', '__le__', '__lt__', '__module__', '__ne__', '__new__', '__reduce__', '__reduce_ex__', '__repr__', '__setattr__', '__sizeof__', '__str__', '__subclasshook__', '__weakref__', 'second_attr', 'second_method', 'thirst_attr', 'thirst_method']\n",
      "\n",
      "    Thirst class!\n",
      "    \n"
     ]
    }
   ],
   "source": [
    "class MyClass:\n",
    "    \"\"\"\n",
    "    Thirst class!\n",
    "    \"\"\"\n",
    "    \n",
    "    def __init__(self):\n",
    "        print('Init!')\n",
    "        self.thirst_attr = 'one'\n",
    "        self.second_attr = 'two'\n",
    "        print(id(self))\n",
    "        \n",
    "        \n",
    "    def thirst_method(self):\n",
    "        print(self.thirst_attr)\n",
    "        \n",
    "    def second_method(self):\n",
    "        print(self.second_attr)\n",
    "        \n",
    "a = MyClass()\n",
    "a.thirst_attr = \"thirst\"\n",
    "a.thirst_method()\n",
    "a.second_method()\n",
    "b = MyClass()\n",
    "\n",
    "print(type(a))\n",
    "print(dir(a))\n",
    "print(a.__doc__)"
   ]
  }
 ],
 "metadata": {
  "kernelspec": {
   "display_name": "Python 3",
   "language": "python",
   "name": "python3"
  },
  "language_info": {
   "codemirror_mode": {
    "name": "ipython",
    "version": 3
   },
   "file_extension": ".py",
   "mimetype": "text/x-python",
   "name": "python",
   "nbconvert_exporter": "python",
   "pygments_lexer": "ipython3",
   "version": "3.8.8"
  }
 },
 "nbformat": 4,
 "nbformat_minor": 5
}
