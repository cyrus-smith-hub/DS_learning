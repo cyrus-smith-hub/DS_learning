{
 "cells": [
  {
   "cell_type": "code",
   "execution_count": 83,
   "id": "7c4e52e4",
   "metadata": {},
   "outputs": [
    {
     "name": "stdout",
     "output_type": "stream",
     "text": [
      "<class 'pandas.core.frame.DataFrame'>\n",
      "RangeIndex: 25000095 entries, 0 to 25000094\n",
      "Data columns (total 4 columns):\n",
      " #   Column     Dtype  \n",
      "---  ------     -----  \n",
      " 0   userId     int64  \n",
      " 1   movieId    int32  \n",
      " 2   rating     float16\n",
      " 3   timestamp  int64  \n",
      "dtypes: float16(1), int32(1), int64(2)\n",
      "memory usage: 524.5 MB\n"
     ]
    }
   ],
   "source": [
    "#Задание 1\n",
    "#Напишите функцию, которая классифицирует фильмы из материалов занятия по следующим правилам:\n",
    "#- оценка 2 и меньше - низкий рейтинг\n",
    "#- оценка 4 и меньше - средний рейтинг\n",
    "#- оценка 4.5 и 5 - высокий рейтинг\n",
    "#Результат классификации запишите в столбец class\n",
    "\n",
    "import pandas as pd\n",
    "import numpy as np\n",
    "\n",
    "data = pd.read_csv('data_samples/ml-25m/ratings.csv', dtype ={'rating':np.float16, 'movieId':np.int32})\n",
    "data.info()"
   ]
  },
  {
   "cell_type": "code",
   "execution_count": 84,
   "id": "0a9e504d",
   "metadata": {},
   "outputs": [
    {
     "name": "stdout",
     "output_type": "stream",
     "text": [
      "Wall time: 6.64 s\n"
     ]
    }
   ],
   "source": [
    "%%time\n",
    "\n",
    "#В варианте с передачей строки Wall time: 4min 10s\n",
    "#В варианте с одним стоолбцом Wall time: 10.3 s\n",
    "\n",
    "def return_movie_class(rating):\n",
    "    if rating <= 2: return 'низкий'\n",
    "    if 2 < rating <= 4.0: return 'средний'\n",
    "    if rating > 4.0: return 'высокий'\n",
    "\n",
    "data['class'] = data['rating'].apply(return_movie_class)\n"
   ]
  },
  {
   "cell_type": "code",
   "execution_count": 85,
   "id": "e752ba58",
   "metadata": {},
   "outputs": [
    {
     "data": {
      "text/html": [
       "<div>\n",
       "<style scoped>\n",
       "    .dataframe tbody tr th:only-of-type {\n",
       "        vertical-align: middle;\n",
       "    }\n",
       "\n",
       "    .dataframe tbody tr th {\n",
       "        vertical-align: top;\n",
       "    }\n",
       "\n",
       "    .dataframe thead th {\n",
       "        text-align: right;\n",
       "    }\n",
       "</style>\n",
       "<table border=\"1\" class=\"dataframe\">\n",
       "  <thead>\n",
       "    <tr style=\"text-align: right;\">\n",
       "      <th></th>\n",
       "      <th>userId</th>\n",
       "      <th>movieId</th>\n",
       "      <th>rating</th>\n",
       "      <th>timestamp</th>\n",
       "      <th>class</th>\n",
       "    </tr>\n",
       "  </thead>\n",
       "  <tbody>\n",
       "    <tr>\n",
       "      <th>6075334</th>\n",
       "      <td>39395</td>\n",
       "      <td>6874</td>\n",
       "      <td>4.0</td>\n",
       "      <td>1500174690</td>\n",
       "      <td>средний</td>\n",
       "    </tr>\n",
       "    <tr>\n",
       "      <th>10057727</th>\n",
       "      <td>65267</td>\n",
       "      <td>58295</td>\n",
       "      <td>3.0</td>\n",
       "      <td>1205144724</td>\n",
       "      <td>средний</td>\n",
       "    </tr>\n",
       "    <tr>\n",
       "      <th>22763425</th>\n",
       "      <td>147975</td>\n",
       "      <td>2947</td>\n",
       "      <td>3.0</td>\n",
       "      <td>944948188</td>\n",
       "      <td>средний</td>\n",
       "    </tr>\n",
       "    <tr>\n",
       "      <th>9798003</th>\n",
       "      <td>63613</td>\n",
       "      <td>3941</td>\n",
       "      <td>1.0</td>\n",
       "      <td>972268565</td>\n",
       "      <td>низкий</td>\n",
       "    </tr>\n",
       "    <tr>\n",
       "      <th>2666572</th>\n",
       "      <td>17723</td>\n",
       "      <td>2581</td>\n",
       "      <td>1.0</td>\n",
       "      <td>977337544</td>\n",
       "      <td>низкий</td>\n",
       "    </tr>\n",
       "    <tr>\n",
       "      <th>13291879</th>\n",
       "      <td>86012</td>\n",
       "      <td>5218</td>\n",
       "      <td>5.0</td>\n",
       "      <td>1203088024</td>\n",
       "      <td>высокий</td>\n",
       "    </tr>\n",
       "    <tr>\n",
       "      <th>1996228</th>\n",
       "      <td>13288</td>\n",
       "      <td>4546</td>\n",
       "      <td>4.0</td>\n",
       "      <td>1463092239</td>\n",
       "      <td>средний</td>\n",
       "    </tr>\n",
       "    <tr>\n",
       "      <th>10080033</th>\n",
       "      <td>65382</td>\n",
       "      <td>8713</td>\n",
       "      <td>3.0</td>\n",
       "      <td>1115976592</td>\n",
       "      <td>средний</td>\n",
       "    </tr>\n",
       "    <tr>\n",
       "      <th>17828454</th>\n",
       "      <td>115581</td>\n",
       "      <td>837</td>\n",
       "      <td>1.0</td>\n",
       "      <td>891012460</td>\n",
       "      <td>низкий</td>\n",
       "    </tr>\n",
       "    <tr>\n",
       "      <th>12412574</th>\n",
       "      <td>80368</td>\n",
       "      <td>1172</td>\n",
       "      <td>2.0</td>\n",
       "      <td>938739837</td>\n",
       "      <td>низкий</td>\n",
       "    </tr>\n",
       "  </tbody>\n",
       "</table>\n",
       "</div>"
      ],
      "text/plain": [
       "          userId  movieId  rating   timestamp    class\n",
       "6075334    39395     6874     4.0  1500174690  средний\n",
       "10057727   65267    58295     3.0  1205144724  средний\n",
       "22763425  147975     2947     3.0   944948188  средний\n",
       "9798003    63613     3941     1.0   972268565   низкий\n",
       "2666572    17723     2581     1.0   977337544   низкий\n",
       "13291879   86012     5218     5.0  1203088024  высокий\n",
       "1996228    13288     4546     4.0  1463092239  средний\n",
       "10080033   65382     8713     3.0  1115976592  средний\n",
       "17828454  115581      837     1.0   891012460   низкий\n",
       "12412574   80368     1172     2.0   938739837   низкий"
      ]
     },
     "execution_count": 85,
     "metadata": {},
     "output_type": "execute_result"
    }
   ],
   "source": [
    "data.sample(10)"
   ]
  },
  {
   "cell_type": "code",
   "execution_count": 86,
   "id": "1dc86141",
   "metadata": {},
   "outputs": [],
   "source": [
    "#Задание 2\n",
    "#Используем файл keywords.csv.\n",
    "#Необходимо написать гео-классификатор, который каждой строке сможет выставить\n",
    "#географическую принадлежность определенному региону. \n",
    "#Т. е. если поисковый запрос содержит название города региона, то в столбце ‘region’ пишется название этого региона. \n",
    "#Если поисковый запрос не содержит названия города, то ставим ‘undefined’.\n",
    "#Правила распределения по регионам Центр, Северо-Запад и Дальний Восток: в коде\n",
    "#Результат классификации запишите в отдельный столбец region.\n",
    "\n",
    "import pandas as pd\n",
    "import numpy as np\n",
    "\n",
    "#можно было перевести каждый список городов в множество, строку keyword в множество и вместо in использоать их пересечение\n",
    "#но по условиям список это список\n",
    "geo_data = {\n",
    "'Центр':['москва', 'тула', 'ярославль'],\n",
    "'Северо-Запад': ['петербург', 'псков', 'мурманск'],\n",
    "'Дальний Восток': ['владивосток', 'сахалин', 'хабаровск']\n",
    "}\n",
    "\n",
    "data = pd.read_csv('data_samples/ml-latest-small/keywords.csv')"
   ]
  },
  {
   "cell_type": "code",
   "execution_count": 87,
   "id": "f4ab2912",
   "metadata": {},
   "outputs": [
    {
     "name": "stdout",
     "output_type": "stream",
     "text": [
      "<class 'pandas.core.frame.DataFrame'>\n",
      "RangeIndex: 100000 entries, 0 to 99999\n",
      "Data columns (total 2 columns):\n",
      " #   Column   Non-Null Count   Dtype \n",
      "---  ------   --------------   ----- \n",
      " 0   keyword  100000 non-null  object\n",
      " 1   shows    100000 non-null  int64 \n",
      "dtypes: int64(1), object(1)\n",
      "memory usage: 1.5+ MB\n"
     ]
    }
   ],
   "source": [
    "data.info()"
   ]
  },
  {
   "cell_type": "code",
   "execution_count": 88,
   "id": "381a99ae",
   "metadata": {},
   "outputs": [
    {
     "data": {
      "text/html": [
       "<div>\n",
       "<style scoped>\n",
       "    .dataframe tbody tr th:only-of-type {\n",
       "        vertical-align: middle;\n",
       "    }\n",
       "\n",
       "    .dataframe tbody tr th {\n",
       "        vertical-align: top;\n",
       "    }\n",
       "\n",
       "    .dataframe thead th {\n",
       "        text-align: right;\n",
       "    }\n",
       "</style>\n",
       "<table border=\"1\" class=\"dataframe\">\n",
       "  <thead>\n",
       "    <tr style=\"text-align: right;\">\n",
       "      <th></th>\n",
       "      <th>keyword</th>\n",
       "      <th>shows</th>\n",
       "    </tr>\n",
       "  </thead>\n",
       "  <tbody>\n",
       "    <tr>\n",
       "      <th>0</th>\n",
       "      <td>вк</td>\n",
       "      <td>64292779</td>\n",
       "    </tr>\n",
       "    <tr>\n",
       "      <th>1</th>\n",
       "      <td>одноклассники</td>\n",
       "      <td>63810309</td>\n",
       "    </tr>\n",
       "    <tr>\n",
       "      <th>2</th>\n",
       "      <td>порно</td>\n",
       "      <td>41747114</td>\n",
       "    </tr>\n",
       "    <tr>\n",
       "      <th>3</th>\n",
       "      <td>ютуб</td>\n",
       "      <td>39995567</td>\n",
       "    </tr>\n",
       "    <tr>\n",
       "      <th>4</th>\n",
       "      <td>вконтакте</td>\n",
       "      <td>21014195</td>\n",
       "    </tr>\n",
       "  </tbody>\n",
       "</table>\n",
       "</div>"
      ],
      "text/plain": [
       "         keyword     shows\n",
       "0             вк  64292779\n",
       "1  одноклассники  63810309\n",
       "2          порно  41747114\n",
       "3           ютуб  39995567\n",
       "4      вконтакте  21014195"
      ]
     },
     "execution_count": 88,
     "metadata": {},
     "output_type": "execute_result"
    }
   ],
   "source": [
    "data.head()"
   ]
  },
  {
   "cell_type": "code",
   "execution_count": 89,
   "id": "3be8064c",
   "metadata": {},
   "outputs": [
    {
     "data": {
      "text/html": [
       "<div>\n",
       "<style scoped>\n",
       "    .dataframe tbody tr th:only-of-type {\n",
       "        vertical-align: middle;\n",
       "    }\n",
       "\n",
       "    .dataframe tbody tr th {\n",
       "        vertical-align: top;\n",
       "    }\n",
       "\n",
       "    .dataframe thead th {\n",
       "        text-align: right;\n",
       "    }\n",
       "</style>\n",
       "<table border=\"1\" class=\"dataframe\">\n",
       "  <thead>\n",
       "    <tr style=\"text-align: right;\">\n",
       "      <th></th>\n",
       "      <th>keyword</th>\n",
       "      <th>shows</th>\n",
       "      <th>region</th>\n",
       "    </tr>\n",
       "  </thead>\n",
       "  <tbody>\n",
       "    <tr>\n",
       "      <th>0</th>\n",
       "      <td>вк</td>\n",
       "      <td>64292779</td>\n",
       "      <td>undefined</td>\n",
       "    </tr>\n",
       "    <tr>\n",
       "      <th>1</th>\n",
       "      <td>одноклассники</td>\n",
       "      <td>63810309</td>\n",
       "      <td>undefined</td>\n",
       "    </tr>\n",
       "    <tr>\n",
       "      <th>2</th>\n",
       "      <td>порно</td>\n",
       "      <td>41747114</td>\n",
       "      <td>undefined</td>\n",
       "    </tr>\n",
       "    <tr>\n",
       "      <th>3</th>\n",
       "      <td>ютуб</td>\n",
       "      <td>39995567</td>\n",
       "      <td>undefined</td>\n",
       "    </tr>\n",
       "    <tr>\n",
       "      <th>4</th>\n",
       "      <td>вконтакте</td>\n",
       "      <td>21014195</td>\n",
       "      <td>undefined</td>\n",
       "    </tr>\n",
       "  </tbody>\n",
       "</table>\n",
       "</div>"
      ],
      "text/plain": [
       "         keyword     shows     region\n",
       "0             вк  64292779  undefined\n",
       "1  одноклассники  63810309  undefined\n",
       "2          порно  41747114  undefined\n",
       "3           ютуб  39995567  undefined\n",
       "4      вконтакте  21014195  undefined"
      ]
     },
     "execution_count": 89,
     "metadata": {},
     "output_type": "execute_result"
    }
   ],
   "source": [
    "def return_region(text):\n",
    "    region = ''\n",
    "    \n",
    "    for key, el in geo_data.items():\n",
    "        for city in el:\n",
    "            if city in text.lower():\n",
    "                return key\n",
    "            else: region = 'undefined'\n",
    "    \n",
    "    return region\n",
    "    \n",
    "\n",
    "data['region'] = data['keyword'].apply(return_region)\n",
    "data.head()"
   ]
  },
  {
   "cell_type": "code",
   "execution_count": 90,
   "id": "c664c600",
   "metadata": {},
   "outputs": [
    {
     "data": {
      "text/plain": [
       "undefined         99253\n",
       "Центр               387\n",
       "Северо-Запад        266\n",
       "Дальний Восток       94\n",
       "Name: region, dtype: int64"
      ]
     },
     "execution_count": 90,
     "metadata": {},
     "output_type": "execute_result"
    }
   ],
   "source": [
    "data['region'].value_counts()"
   ]
  },
  {
   "cell_type": "code",
   "execution_count": 91,
   "id": "aca3dcc5",
   "metadata": {},
   "outputs": [
    {
     "data": {
      "text/html": [
       "<div>\n",
       "<style scoped>\n",
       "    .dataframe tbody tr th:only-of-type {\n",
       "        vertical-align: middle;\n",
       "    }\n",
       "\n",
       "    .dataframe tbody tr th {\n",
       "        vertical-align: top;\n",
       "    }\n",
       "\n",
       "    .dataframe thead tr th {\n",
       "        text-align: left;\n",
       "    }\n",
       "\n",
       "    .dataframe thead tr:last-of-type th {\n",
       "        text-align: right;\n",
       "    }\n",
       "</style>\n",
       "<table border=\"1\" class=\"dataframe\">\n",
       "  <thead>\n",
       "    <tr>\n",
       "      <th></th>\n",
       "      <th colspan=\"2\" halign=\"left\">shows</th>\n",
       "      <th>keyword</th>\n",
       "    </tr>\n",
       "    <tr>\n",
       "      <th></th>\n",
       "      <th>max</th>\n",
       "      <th>min</th>\n",
       "      <th>count</th>\n",
       "    </tr>\n",
       "    <tr>\n",
       "      <th>region</th>\n",
       "      <th></th>\n",
       "      <th></th>\n",
       "      <th></th>\n",
       "    </tr>\n",
       "  </thead>\n",
       "  <tbody>\n",
       "    <tr>\n",
       "      <th>undefined</th>\n",
       "      <td>64292779</td>\n",
       "      <td>1942</td>\n",
       "      <td>99253</td>\n",
       "    </tr>\n",
       "    <tr>\n",
       "      <th>Дальний Восток</th>\n",
       "      <td>176951</td>\n",
       "      <td>3870</td>\n",
       "      <td>94</td>\n",
       "    </tr>\n",
       "    <tr>\n",
       "      <th>Северо-Запад</th>\n",
       "      <td>425134</td>\n",
       "      <td>3606</td>\n",
       "      <td>266</td>\n",
       "    </tr>\n",
       "    <tr>\n",
       "      <th>Центр</th>\n",
       "      <td>979292</td>\n",
       "      <td>3673</td>\n",
       "      <td>387</td>\n",
       "    </tr>\n",
       "  </tbody>\n",
       "</table>\n",
       "</div>"
      ],
      "text/plain": [
       "                   shows       keyword\n",
       "                     max   min   count\n",
       "region                                \n",
       "undefined       64292779  1942   99253\n",
       "Дальний Восток    176951  3870      94\n",
       "Северо-Запад      425134  3606     266\n",
       "Центр             979292  3673     387"
      ]
     },
     "execution_count": 91,
     "metadata": {},
     "output_type": "execute_result"
    }
   ],
   "source": [
    "#Группировка\n",
    "data.groupby('region').agg({'shows':['max', 'min'],'keyword':['count']})"
   ]
  },
  {
   "cell_type": "code",
   "execution_count": 92,
   "id": "421de374",
   "metadata": {},
   "outputs": [],
   "source": [
    "#Задание 3\n",
    "\n",
    "import pandas as pd\n",
    "import numpy as np\n",
    "\n",
    "\n",
    "data_m = pd.read_csv('data_samples/ml-latest-small/movies.csv')\n",
    "data_r = pd.read_csv('data_samples/ml-latest-small/ratings.csv')\n",
    "\n",
    "data_m.pop('genres')\n",
    "\n",
    "years = list(range(1950,2011))\n",
    "\n",
    "def production_year(title):\n",
    "    for el in years:\n",
    "        if str(el) in title:\n",
    "            return el\n",
    "    return 1950\n",
    "        \n",
    "data_m['year'] = data_m['title'].apply(production_year)"
   ]
  },
  {
   "cell_type": "code",
   "execution_count": 93,
   "id": "b1092630",
   "metadata": {},
   "outputs": [
    {
     "data": {
      "text/html": [
       "<div>\n",
       "<style scoped>\n",
       "    .dataframe tbody tr th:only-of-type {\n",
       "        vertical-align: middle;\n",
       "    }\n",
       "\n",
       "    .dataframe tbody tr th {\n",
       "        vertical-align: top;\n",
       "    }\n",
       "\n",
       "    .dataframe thead th {\n",
       "        text-align: right;\n",
       "    }\n",
       "</style>\n",
       "<table border=\"1\" class=\"dataframe\">\n",
       "  <thead>\n",
       "    <tr style=\"text-align: right;\">\n",
       "      <th></th>\n",
       "      <th>movieId</th>\n",
       "      <th>title</th>\n",
       "      <th>year</th>\n",
       "    </tr>\n",
       "  </thead>\n",
       "  <tbody>\n",
       "    <tr>\n",
       "      <th>8946</th>\n",
       "      <td>137595</td>\n",
       "      <td>Magic Mike XXL (2015)</td>\n",
       "      <td>1950</td>\n",
       "    </tr>\n",
       "    <tr>\n",
       "      <th>2996</th>\n",
       "      <td>3744</td>\n",
       "      <td>Shaft (2000)</td>\n",
       "      <td>2000</td>\n",
       "    </tr>\n",
       "    <tr>\n",
       "      <th>2919</th>\n",
       "      <td>3662</td>\n",
       "      <td>Puppet Master III: Toulon's Revenge (1991)</td>\n",
       "      <td>1991</td>\n",
       "    </tr>\n",
       "    <tr>\n",
       "      <th>8999</th>\n",
       "      <td>141866</td>\n",
       "      <td>Green Room (2015)</td>\n",
       "      <td>1950</td>\n",
       "    </tr>\n",
       "    <tr>\n",
       "      <th>1544</th>\n",
       "      <td>1982</td>\n",
       "      <td>Halloween (1978)</td>\n",
       "      <td>1978</td>\n",
       "    </tr>\n",
       "    <tr>\n",
       "      <th>6650</th>\n",
       "      <td>51418</td>\n",
       "      <td>Breaking and Entering (2006)</td>\n",
       "      <td>2006</td>\n",
       "    </tr>\n",
       "    <tr>\n",
       "      <th>3726</th>\n",
       "      <td>4753</td>\n",
       "      <td>Vamp (1986)</td>\n",
       "      <td>1986</td>\n",
       "    </tr>\n",
       "    <tr>\n",
       "      <th>8292</th>\n",
       "      <td>101362</td>\n",
       "      <td>Olympus Has Fallen (2013)</td>\n",
       "      <td>1950</td>\n",
       "    </tr>\n",
       "    <tr>\n",
       "      <th>8992</th>\n",
       "      <td>140928</td>\n",
       "      <td>Joy (2015)</td>\n",
       "      <td>1950</td>\n",
       "    </tr>\n",
       "    <tr>\n",
       "      <th>7346</th>\n",
       "      <td>71525</td>\n",
       "      <td>A-Haunting We Will Go (1942)</td>\n",
       "      <td>1950</td>\n",
       "    </tr>\n",
       "  </tbody>\n",
       "</table>\n",
       "</div>"
      ],
      "text/plain": [
       "      movieId                                       title  year\n",
       "8946   137595                       Magic Mike XXL (2015)  1950\n",
       "2996     3744                                Shaft (2000)  2000\n",
       "2919     3662  Puppet Master III: Toulon's Revenge (1991)  1991\n",
       "8999   141866                           Green Room (2015)  1950\n",
       "1544     1982                            Halloween (1978)  1978\n",
       "6650    51418                Breaking and Entering (2006)  2006\n",
       "3726     4753                                 Vamp (1986)  1986\n",
       "8292   101362                   Olympus Has Fallen (2013)  1950\n",
       "8992   140928                                  Joy (2015)  1950\n",
       "7346    71525                A-Haunting We Will Go (1942)  1950"
      ]
     },
     "execution_count": 93,
     "metadata": {},
     "output_type": "execute_result"
    }
   ],
   "source": [
    "data_m.sample(10)"
   ]
  },
  {
   "cell_type": "code",
   "execution_count": 98,
   "id": "47accf55",
   "metadata": {},
   "outputs": [
    {
     "data": {
      "text/html": [
       "<div>\n",
       "<style scoped>\n",
       "    .dataframe tbody tr th:only-of-type {\n",
       "        vertical-align: middle;\n",
       "    }\n",
       "\n",
       "    .dataframe tbody tr th {\n",
       "        vertical-align: top;\n",
       "    }\n",
       "\n",
       "    .dataframe thead th {\n",
       "        text-align: right;\n",
       "    }\n",
       "</style>\n",
       "<table border=\"1\" class=\"dataframe\">\n",
       "  <thead>\n",
       "    <tr style=\"text-align: right;\">\n",
       "      <th></th>\n",
       "      <th>year</th>\n",
       "      <th>rating</th>\n",
       "    </tr>\n",
       "  </thead>\n",
       "  <tbody>\n",
       "    <tr>\n",
       "      <th>1</th>\n",
       "      <td>1951</td>\n",
       "      <td>3.906653</td>\n",
       "    </tr>\n",
       "    <tr>\n",
       "      <th>2</th>\n",
       "      <td>1952</td>\n",
       "      <td>3.802318</td>\n",
       "    </tr>\n",
       "    <tr>\n",
       "      <th>12</th>\n",
       "      <td>1962</td>\n",
       "      <td>3.772962</td>\n",
       "    </tr>\n",
       "    <tr>\n",
       "      <th>3</th>\n",
       "      <td>1953</td>\n",
       "      <td>3.738878</td>\n",
       "    </tr>\n",
       "    <tr>\n",
       "      <th>7</th>\n",
       "      <td>1957</td>\n",
       "      <td>3.693322</td>\n",
       "    </tr>\n",
       "  </tbody>\n",
       "</table>\n",
       "</div>"
      ],
      "text/plain": [
       "    year    rating\n",
       "1   1951  3.906653\n",
       "2   1952  3.802318\n",
       "12  1962  3.772962\n",
       "3   1953  3.738878\n",
       "7   1957  3.693322"
      ]
     },
     "execution_count": 98,
     "metadata": {},
     "output_type": "execute_result"
    }
   ],
   "source": [
    "#merge\n",
    "data_m_r = pd.merge(data_r.groupby('movieId')['rating'].mean().reset_index(),data_m, on=('movieId'))\n",
    "\n",
    "result_data = data_m_r.groupby('year')['rating'].mean().reset_index().sort_values('rating', ascending = False)\n",
    "result_data.head()"
   ]
  },
  {
   "cell_type": "code",
   "execution_count": 106,
   "id": "5ed4b862",
   "metadata": {},
   "outputs": [
    {
     "data": {
      "text/plain": [
       "<AxesSubplot:xlabel='year', ylabel='rating'>"
      ]
     },
     "execution_count": 106,
     "metadata": {},
     "output_type": "execute_result"
    },
    {
     "data": {
      "image/png": "[encoded data removed]",
      "text/plain": [
       "<Figure size 432x288 with 1 Axes>"
      ]
     },
     "metadata": {
      "needs_background": "light"
     },
     "output_type": "display_data"
    }
   ],
   "source": [
    "result_data[['year','rating']].plot.scatter(x = 'year', y = 'rating', alpha = 0.7)"
   ]
  },
  {
   "cell_type": "code",
   "execution_count": 108,
   "id": "bea68c74",
   "metadata": {},
   "outputs": [
    {
     "data": {
      "text/plain": [
       "<AxesSubplot:xlabel='year', ylabel='rating'>"
      ]
     },
     "execution_count": 108,
     "metadata": {},
     "output_type": "execute_result"
    },
    {
     "data": {
      "image/png": "[encoded data removed]",
      "text/plain": [
       "<Figure size 432x288 with 1 Axes>"
      ]
     },
     "metadata": {
      "needs_background": "light"
     },
     "output_type": "display_data"
    }
   ],
   "source": [
    "#Было видно даже без сортировки ((\n",
    "\n",
    "data_m_r[['year','rating']].plot.scatter(x = 'year', y = 'rating', alpha = 0.15)"
   ]
  }
 ],
 "metadata": {
  "kernelspec": {
   "display_name": "Python 3",
   "language": "python",
   "name": "python3"
  },
  "language_info": {
   "codemirror_mode": {
    "name": "ipython",
    "version": 3
   },
   "file_extension": ".py",
   "mimetype": "text/x-python",
   "name": "python",
   "nbconvert_exporter": "python",
   "pygments_lexer": "ipython3",
   "version": "3.8.8"
  }
 },
 "nbformat": 4,
 "nbformat_minor": 5
}
