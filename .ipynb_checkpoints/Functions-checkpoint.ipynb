{
 "cells": [
  {
   "cell_type": "code",
   "execution_count": 62,
   "id": "e1d58f46",
   "metadata": {},
   "outputs": [
    {
     "name": "stdout",
     "output_type": "stream",
     "text": [
      "11\n",
      "val: 8\n",
      "4 7\n",
      "1 17\n",
      "28 9\n",
      "12 -14\n",
      "(1, 2, 3, 4, 5) {'data': 5, 'moon': 'middle'}\n",
      "((1, 2, 3, 4, 5, 6, 7, 8, 9),) {'trace': 4}\n"
     ]
    }
   ],
   "source": [
    "val = 6\n",
    "\n",
    "def func():\n",
    "    '''\n",
    "    this print hello\n",
    "    '''\n",
    "    print('hello')\n",
    "    \n",
    "    \n",
    "def summ(num):\n",
    "    global val, b #присвоить сразу нельзя\n",
    "    b = 6\n",
    "    val = 8\n",
    "    \n",
    "    if type(num) != list:\n",
    "        print('not list')\n",
    "        return\n",
    "    else:\n",
    "        return sum(num)\n",
    "    \n",
    "def non_changed_arg(a,b=7):\n",
    "    print(a,b)\n",
    "    \n",
    "def unknow_len(*line,**kwargs): #первые пойдут в кортеж, вторые - в словарь\n",
    "    print(line,kwargs)\n",
    "\n",
    "a = [1,2,3,5]\n",
    "print(summ(a))\n",
    "print('val:',val)\n",
    "\n",
    "non_changed_arg(4)\n",
    "non_changed_arg(1,17)\n",
    "non_changed_arg(a = 28, b = 9) #задание по позиции\n",
    "non_changed_arg(b = -14, a = 12) #задание по имени\n",
    "\n",
    "unknow_len(1,2,3,4,5, data = 5, moon = 'middle')\n",
    "unknow_len(tuple(range(1,10)),trace = 4)"
   ]
  },
  {
   "cell_type": "code",
   "execution_count": 64,
   "id": "cef7a56e",
   "metadata": {},
   "outputs": [
    {
     "name": "stdout",
     "output_type": "stream",
     "text": [
      "None\n",
      "None\n"
     ]
    }
   ],
   "source": [
    "def a():\n",
    "    r=9\n",
    "    return\n",
    "\n",
    "def b():\n",
    "    r=9\n",
    "\n",
    "print(a())\n",
    "print(b())"
   ]
  },
  {
   "cell_type": "code",
   "execution_count": null,
   "id": "b5239587",
   "metadata": {},
   "outputs": [],
   "source": [
    "#lambda, map reduse, filter"
   ]
  }
 ],
 "metadata": {
  "kernelspec": {
   "display_name": "Python 3",
   "language": "python",
   "name": "python3"
  },
  "language_info": {
   "codemirror_mode": {
    "name": "ipython",
    "version": 3
   },
   "file_extension": ".py",
   "mimetype": "text/x-python",
   "name": "python",
   "nbconvert_exporter": "python",
   "pygments_lexer": "ipython3",
   "version": "3.8.8"
  }
 },
 "nbformat": 4,
 "nbformat_minor": 5
}
