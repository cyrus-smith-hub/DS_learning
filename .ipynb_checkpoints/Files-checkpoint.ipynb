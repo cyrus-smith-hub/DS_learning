{
 "cells": [
  {
   "cell_type": "code",
   "execution_count": 78,
   "id": "9d343a70",
   "metadata": {},
   "outputs": [],
   "source": [
    "#открытие файла и запись/дозапись\n",
    "\n",
    "lines = 1000000 #количество строк для генерации данных в файл\n",
    "file_name = 'test_file.txt'\n",
    "\n",
    "\n",
    "f = open(file_name,'w') #открываем на запись и закрываем чтобы стереть\n",
    "f.close() #закрыть чтобы применить изменения\n",
    "\n",
    "f = open(file_name,'a') #открываем на дозапись\n",
    "\n",
    "for i in range(lines):\n",
    "    f.write('i,' + str(i) + ',i**2,' + str(i**2) + '\\n') #пишем херню всякую\n",
    "\n",
    "f.close()\n",
    "\n"
   ]
  },
  {
   "cell_type": "code",
   "execution_count": 84,
   "id": "eef3e411",
   "metadata": {},
   "outputs": [
    {
     "name": "stdout",
     "output_type": "stream",
     "text": [
      "type(f): <class '_io.TextIOWrapper'>\n",
      "f.__sizeof__: 192\n",
      "\n",
      "type(file_content): <class 'list'>\n",
      "['i,0,i**2,0\\n', 'i,1,i**2,1\\n', 'i,2,i**2,4\\n', 'i,3,i**2,9\\n', 'i,4,i**2,16\\n']\n",
      "\n",
      "i,0,i**2,0\n",
      "\n",
      "i,1,i**2,1\n",
      "\n",
      "i,2,i**2,4\n",
      "\n",
      "i,3,i**2,9\n",
      "\n"
     ]
    }
   ],
   "source": [
    "#чтение файла\n",
    "f = open(file_name) #вообще должен быть атрибут 'r', но он по-умолчанию\n",
    "print('type(f): ' + str(type(f))) #f - просто объект, как ссылка, почти ничего не занимает\n",
    "print('f.__sizeof__: ' + str(f.__sizeof__()), end='\\n\\n')\n",
    "\n",
    "file_content = f.readlines() #чтение всего файла в список в оперативную память, занимает время\n",
    "print('type(file_content): ' + str(type(file_content)))\n",
    "print(file_content[:5], end = '\\n\\n') #выведем первые 5 для демонтраци, что он реально прочитан\n",
    "\n",
    "f.seek(0) #сместить невидимый курсор в начало\n",
    "\n",
    "print(f.readline()) #прочитать строку\n",
    "print(f.readline()) #прочитат следующую строку, при это движется невидимый курсор по файлу\n",
    "print(next(f)) #и так можно\n",
    "print(next(f))\n",
    "\n",
    "f.seek(0)\n",
    "f.close()"
   ]
  },
  {
   "cell_type": "code",
   "execution_count": 81,
   "id": "17570a0c",
   "metadata": {},
   "outputs": [
    {
     "name": "stdout",
     "output_type": "stream",
     "text": [
      "0 ['i', '0', 'i**2', '0']\n",
      "1 ['i', '1', 'i**2', '1']\n",
      "2 ['i', '2', 'i**2', '4']\n",
      "3 ['i', '3', 'i**2', '9']\n",
      "4 ['i', '4', 'i**2', '16']\n",
      "5 ['i', '5', 'i**2', '25']\n"
     ]
    }
   ],
   "source": [
    "#чтение куска файла\n",
    "f = open(file_name)\n",
    "\n",
    "for i,line in enumerate(f):\n",
    "    if i > 5:\n",
    "        break\n",
    "    \n",
    "    print(i, line.strip().split(',')) #сразу обрезаем фигню по краям и делим по разделителю, превращая в список\n",
    "\n",
    "f.close()"
   ]
  },
  {
   "cell_type": "code",
   "execution_count": 67,
   "id": "0eb617aa",
   "metadata": {},
   "outputs": [],
   "source": [
    "#запись файла через контекстный менеджер\n",
    "#Никакой другой процесс не пролучит доступ к нему\n",
    "\n",
    "\n",
    "with open('new_file.txt', 'w') as f:\n",
    "    f.write('write')\n",
    "    \n",
    "f.close()"
   ]
  },
  {
   "cell_type": "code",
   "execution_count": 86,
   "id": "32095103",
   "metadata": {},
   "outputs": [],
   "source": [
    "#Чтение и запись одновременно (фильтрация в файл)\n",
    "\n",
    "with open(file_name,'r') as f:\n",
    "    with open('results.txt','w') as f2w:\n",
    "        for line in f:\n",
    "            if int(line.split(',')[1]) % 27 == 0: #если i в файле делится без остатка на 27, то пишем в файл результатов\n",
    "                f2w.write(line)\n",
    "    f2w.close()\n",
    "f.close()"
   ]
  },
  {
   "cell_type": "code",
   "execution_count": 102,
   "id": "bfacaccf",
   "metadata": {},
   "outputs": [
    {
     "name": "stdout",
     "output_type": "stream",
     "text": [
      "<class 'dict'>\n",
      "{'one': 1, 'two': 2, 'three': 3}\n",
      "[1, 2, 3, 4, 5, 6]\n"
     ]
    }
   ],
   "source": [
    "#JSON, чтение словарей и списков\n",
    "\n",
    "import json\n",
    "\n",
    "#сначала создадим такой файл пока без json\n",
    "dict2file = '{\"one\": 1, \"two\": 2, \"three\":3}\\n' #снаружи одинарные, внутри - двойные\n",
    "list2file = '[1,2,3,4,5,6]'\n",
    "\n",
    "print(type(json.loads(dict2file))) #если уже передать в json такие данные, он вернет словарь\n",
    "\n",
    "f = open('dict_file.txt', 'w')\n",
    "f.write(dict2file)\n",
    "f.write(list2file)\n",
    "f.close()\n",
    "\n",
    "\n",
    "#прочитаем файл и используем json\n",
    "\n",
    "with open('dict_file.txt') as f:\n",
    "    for line in f:\n",
    "        print(json.loads(line.strip()))\n",
    "\n"
   ]
  },
  {
   "cell_type": "code",
   "execution_count": 106,
   "id": "d5dceb26",
   "metadata": {},
   "outputs": [
    {
     "name": "stdout",
     "output_type": "stream",
     "text": [
      "{\"one\": 1, \"two\": 2, \"three\": 3} <class 'str'>\n"
     ]
    }
   ],
   "source": [
    "#JSON, запись словарей и списков\n",
    "\n",
    "import json\n",
    "\n",
    "dict_ = {'one':1, 'two':2, 'three':3} #создаем словарь для записи\n",
    "\n",
    "print(json.dumps(dict_), type(json.dumps(dict_))) #формирует правильную строку для записи в файл"
   ]
  },
  {
   "cell_type": "code",
   "execution_count": 121,
   "id": "521c8029",
   "metadata": {},
   "outputs": [
    {
     "name": "stdout",
     "output_type": "stream",
     "text": [
      "{1: 2, 2: 3, 3: 4, 4: 5} <class 'dict'>\n",
      "{1: 2, 2: 3, 3: 4, 4: 5} <class 'dict'>\n"
     ]
    }
   ],
   "source": [
    "#Pickle\n",
    "\n",
    "import pickle\n",
    "\n",
    "data = {1:2, 2:3, 3:4, 4:5}\n",
    "print(data, type(data))\n",
    "\n",
    "with open('pickle_file.txt', 'wb') as f:\n",
    "    pickle.dump(data,f)\n",
    "\n",
    "#прочитаем что записано в файле\n",
    "with open('pickle_file.txt', 'rb') as f: #атрибут 'rb' - чтение по байтам\n",
    "    from_pickle = pickle.load(f)\n",
    "\n",
    "print(from_pickle, type(from_pickle))"
   ]
  },
  {
   "cell_type": "code",
   "execution_count": 127,
   "id": "c47b29d7",
   "metadata": {},
   "outputs": [
    {
     "name": "stdout",
     "output_type": "stream",
     "text": [
      "1\n",
      "2\n",
      "3\n",
      "5\n",
      "6\n"
     ]
    }
   ],
   "source": [
    "a = [1,2,3,5,6]\n",
    "for el in a:\n",
    "    print(el)"
   ]
  },
  {
   "cell_type": "code",
   "execution_count": 146,
   "id": "6bcc1a01",
   "metadata": {},
   "outputs": [
    {
     "name": "stdout",
     "output_type": "stream",
     "text": [
      "file_1.csv\n",
      "file_2.csv\n",
      "file_3.csv\n",
      "more_data\n",
      "\n",
      "IPYNB\\data ['more_data'] ['file_1.csv', 'file_2.csv', 'file_3.csv']\n",
      "IPYNB\\data\\more_data ['more_data'] ['file_4.csv', 'file_5.csv']\n",
      "IPYNB\\data\\more_data\\more_data ['empty_folder'] []\n",
      "IPYNB\\data\\more_data\\more_data\\empty_folder [] []\n"
     ]
    }
   ],
   "source": [
    "#Чтение наборов файлов и папок\n",
    "\n",
    "import os\n",
    "\n",
    "dir_path = 'IPYNB\\data'\n",
    "\n",
    "#Список файлов из папки + папки только в этой папке\n",
    "for el in os.listdir(dir_path): #список файлов в папке data, которая лежит в папке IPYNB\n",
    "    print(el)\n",
    "\n",
    "print()\n",
    "\n",
    "#Полный список файлов во всех папках директории\n",
    "for el in list(os.walk(dir_path)):\n",
    "    print(el[0], el[1], el[2])\n"
   ]
  }
 ],
 "metadata": {
  "kernelspec": {
   "display_name": "Python 3",
   "language": "python",
   "name": "python3"
  },
  "language_info": {
   "codemirror_mode": {
    "name": "ipython",
    "version": 3
   },
   "file_extension": ".py",
   "mimetype": "text/x-python",
   "name": "python",
   "nbconvert_exporter": "python",
   "pygments_lexer": "ipython3",
   "version": "3.8.8"
  }
 },
 "nbformat": 4,
 "nbformat_minor": 5
}
