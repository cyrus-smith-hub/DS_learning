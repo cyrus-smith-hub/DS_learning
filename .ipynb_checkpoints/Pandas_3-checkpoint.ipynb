{
 "cells": [
  {
   "cell_type": "code",
   "execution_count": 12,
   "id": "7afb5c54",
   "metadata": {},
   "outputs": [
    {
     "name": "stdout",
     "output_type": "stream",
     "text": [
      "<class 'pandas.core.frame.DataFrame'>\n",
      "RangeIndex: 1189482 entries, 0 to 1189481\n",
      "Data columns (total 4 columns):\n",
      " #   Column    Non-Null Count    Dtype  \n",
      "---  ------    --------------    -----  \n",
      " 0   country   1189482 non-null  object \n",
      " 1   year      1189482 non-null  int64  \n",
      " 2   quantity  1189482 non-null  float64\n",
      " 3   category  1189482 non-null  int64  \n",
      "dtypes: float64(1), int64(2), object(1)\n",
      "memory usage: 36.3+ MB\n",
      "Wall time: 725 ms\n"
     ]
    }
   ],
   "source": [
    "%%time\n",
    "#Импорт CSV\n",
    "\n",
    "import pandas as pd\n",
    "import numpy as np\n",
    "\n",
    "file_name = 'netology-ipynb/power.csv'\n",
    "\n",
    "#уменьшение памяти в 2 раза\n",
    "#data = pd.read_csv(file_name, dtype={'year':np.int16, 'category':np.int8, 'quantity':np.float32})\n",
    "\n",
    "data = pd.read_csv(file_name)\n",
    "\n",
    "data.info()"
   ]
  },
  {
   "cell_type": "code",
   "execution_count": 65,
   "id": "6d2bf611",
   "metadata": {},
   "outputs": [
    {
     "data": {
      "text/html": [
       "<div>\n",
       "<style scoped>\n",
       "    .dataframe tbody tr th:only-of-type {\n",
       "        vertical-align: middle;\n",
       "    }\n",
       "\n",
       "    .dataframe tbody tr th {\n",
       "        vertical-align: top;\n",
       "    }\n",
       "\n",
       "    .dataframe thead th {\n",
       "        text-align: right;\n",
       "    }\n",
       "</style>\n",
       "<table border=\"1\" class=\"dataframe\">\n",
       "  <thead>\n",
       "    <tr style=\"text-align: right;\">\n",
       "      <th></th>\n",
       "      <th>country</th>\n",
       "      <th>year</th>\n",
       "      <th>quantity</th>\n",
       "      <th>category</th>\n",
       "    </tr>\n",
       "  </thead>\n",
       "  <tbody>\n",
       "    <tr>\n",
       "      <th>0</th>\n",
       "      <td>Austria</td>\n",
       "      <td>1996</td>\n",
       "      <td>5.0</td>\n",
       "      <td>1</td>\n",
       "    </tr>\n",
       "    <tr>\n",
       "      <th>1</th>\n",
       "      <td>Austria</td>\n",
       "      <td>1995</td>\n",
       "      <td>17.0</td>\n",
       "      <td>1</td>\n",
       "    </tr>\n",
       "    <tr>\n",
       "      <th>2</th>\n",
       "      <td>Belgium</td>\n",
       "      <td>2014</td>\n",
       "      <td>0.0</td>\n",
       "      <td>1</td>\n",
       "    </tr>\n",
       "    <tr>\n",
       "      <th>3</th>\n",
       "      <td>Belgium</td>\n",
       "      <td>2013</td>\n",
       "      <td>0.0</td>\n",
       "      <td>1</td>\n",
       "    </tr>\n",
       "    <tr>\n",
       "      <th>4</th>\n",
       "      <td>Belgium</td>\n",
       "      <td>2012</td>\n",
       "      <td>35.0</td>\n",
       "      <td>1</td>\n",
       "    </tr>\n",
       "  </tbody>\n",
       "</table>\n",
       "</div>"
      ],
      "text/plain": [
       "   country  year  quantity  category\n",
       "0  Austria  1996       5.0         1\n",
       "1  Austria  1995      17.0         1\n",
       "2  Belgium  2014       0.0         1\n",
       "3  Belgium  2013       0.0         1\n",
       "4  Belgium  2012      35.0         1"
      ]
     },
     "execution_count": 65,
     "metadata": {},
     "output_type": "execute_result"
    }
   ],
   "source": [
    "data.head()"
   ]
  },
  {
   "cell_type": "code",
   "execution_count": 87,
   "id": "a5bd9b24",
   "metadata": {},
   "outputs": [
    {
     "data": {
      "text/plain": [
       "array([ 1,  2,  3,  4,  5,  6,  7,  8,  9, 10, 11, 13, 12, 14, 15, 16, 17,\n",
       "       18, 19, 20, 21, 22, 23, 24, 25, 26, 27, 28, 29, 30, 31, 32, 33, 34,\n",
       "       35, 36, 37, 38, 39, 40, 41, 42, 43, 44, 45, 46, 47, 48, 49, 50, 51,\n",
       "       52, 53, 54, 55, 56, 57, 58, 59, 60, 61, 62, 63, 64, 65, 66, 67, 68,\n",
       "       69, 70, 71], dtype=int64)"
      ]
     },
     "execution_count": 87,
     "metadata": {},
     "output_type": "execute_result"
    }
   ],
   "source": [
    "data['category'].unique()"
   ]
  },
  {
   "cell_type": "code",
   "execution_count": 89,
   "id": "2fc8cf77",
   "metadata": {},
   "outputs": [
    {
     "data": {
      "text/plain": [
       "-864348.0"
      ]
     },
     "execution_count": 89,
     "metadata": {},
     "output_type": "execute_result"
    }
   ],
   "source": [
    "data['quantity'].max()\n",
    "data['quantity'].min()"
   ]
  },
  {
   "cell_type": "code",
   "execution_count": 95,
   "id": "869e021d",
   "metadata": {},
   "outputs": [
    {
     "name": "stdout",
     "output_type": "stream",
     "text": [
      "18084 1115866\n"
     ]
    }
   ],
   "source": [
    "print(len(data[data['quantity'] < 0 ]),len(data[data['quantity'] > 0 ]))"
   ]
  },
  {
   "cell_type": "code",
   "execution_count": 5,
   "id": "fb1b54d3",
   "metadata": {},
   "outputs": [
    {
     "data": {
      "text/plain": [
       "0    1996\n",
       "1    1995\n",
       "2    2014\n",
       "3    2013\n",
       "4    2012\n",
       "Name: year, dtype: int64"
      ]
     },
     "execution_count": 5,
     "metadata": {},
     "output_type": "execute_result"
    }
   ],
   "source": [
    "#Отдельный столбец\n",
    "\n",
    "data['year'].describe()\n",
    "\n",
    "#или так\n",
    "#data.year.head()"
   ]
  },
  {
   "cell_type": "code",
   "execution_count": 60,
   "id": "277a8827",
   "metadata": {},
   "outputs": [
    {
     "name": "stdout",
     "output_type": "stream",
     "text": [
      "type: <class 'pandas.core.series.Series'>\n",
      "уникальных стран: 243\n",
      "Germany 20422\n",
      "United States 19847\n",
      "Poland 19802\n",
      "Austria 17440\n",
      "Romania 17357\n",
      "France 17236\n",
      "Japan 17037\n",
      "Czechia 16588\n",
      "Italy 16312\n",
      "Netherlands 15955\n",
      "Spain 15815\n",
      "Hungary 15778\n",
      "Australia 15652\n",
      "United Kingdom 15536\n",
      "Canada 15453\n",
      "Russian Federation 15020\n",
      "Finland 14982\n",
      "Belgium 14914\n",
      "Korea, Republic of 14849\n",
      "Slovakia 14676\n",
      "Sweden 14154\n",
      "Denmark 13127\n",
      "Norway 12664\n",
      "Turkey 12526\n",
      "Portugal 12215\n",
      "Bulgaria 12104\n",
      "Switzerland 11890\n",
      "Greece 11753\n",
      "Croatia 11607\n",
      "China 11563\n",
      "New Zealand 11270\n",
      "Mexico 11098\n",
      "Brazil 10374\n",
      "Ukraine 10084\n",
      "Ireland 10002\n",
      "Chile 9715\n",
      "Estonia 9689\n",
      "Lithuania 9313\n",
      "Other Asia 9271\n",
      "Slovenia 9112\n",
      "Belarus 8677\n",
      "Latvia 8304\n",
      "Argentina 8122\n",
      "Indonesia 8036\n",
      "Colombia 7933\n",
      "Kazakhstan 7902\n",
      "India 7775\n",
      "South Africa 7637\n",
      "Thailand 7448\n",
      "Philippines 7322\n",
      "Uruguay 6883\n",
      "T.F.Yug.Rep. Macedonia 6866\n",
      "Iran (Islamic Rep. of) 6829\n",
      "Peru 6612\n",
      "Malaysia 6575\n",
      "Venezuela (Bolivar. Rep.) 6545\n",
      "Uzbekistan 6190\n",
      "Luxembourg 6155\n",
      "Republic of Moldova 5961\n",
      "Azerbaijan 5936\n",
      "Costa Rica 5928\n",
      "Cuba 5852\n",
      "Pakistan 5815\n",
      "Egypt 5738\n",
      "Tunisia 5696\n",
      "Myanmar 5652\n",
      "Bangladesh 5546\n",
      "Algeria 5530\n",
      "Nigeria 5517\n",
      "Singapore 5418\n",
      "Israel 5365\n",
      "Serbia 5346\n",
      "Bolivia (Plur. State of) 5288\n",
      "Kenya 5057\n",
      "Morocco 5026\n",
      "Albania 5025\n",
      "Sri Lanka 5020\n",
      "Georgia 4883\n",
      "Iceland 4875\n",
      "Nicaragua 4823\n",
      "Cyprus 4821\n",
      "Syrian Arab Republic 4806\n",
      "Ecuador 4759\n",
      "Trinidad and Tobago 4749\n",
      "Senegal 4591\n",
      "Côte d'Ivoire 4524\n",
      "Jordan 4448\n",
      "Saudi Arabia 4420\n",
      "Gabon 4394\n",
      "Viet Nam 4384\n",
      "Zimbabwe 4364\n",
      "Cameroon 4283\n",
      "Dominican Republic 4269\n",
      "Angola 4168\n",
      "Guatemala 4153\n",
      "Zambia 4116\n",
      "Jamaica 4091\n",
      "El Salvador 4080\n",
      "Panama 3948\n",
      "Kyrgyzstan 3936\n",
      "Iraq 3928\n",
      "Ghana 3878\n",
      "Papua New Guinea 3811\n",
      "Kuwait 3795\n",
      "Bosnia and Herzegovina 3786\n",
      "Sudan (former) 3761\n",
      "Fiji 3727\n",
      "Brunei Darussalam 3717\n",
      "Libya 3693\n",
      "Bahrain 3684\n",
      "Korea, Dem.Ppl's.Rep. 3591\n",
      "Oman 3587\n",
      "Mauritius 3550\n",
      "Qatar 3545\n",
      "Congo 3520\n",
      "United Rep. of Tanzania 3498\n",
      "United Arab Emirates 3460\n",
      "Barbados 3460\n",
      "Paraguay 3433\n",
      "Botswana 3427\n",
      "Honduras 3409\n",
      "Suriname 3406\n",
      "Madagascar 3387\n",
      "Malawi 3386\n",
      "Nepal 3362\n",
      "Mozambique 3219\n",
      "Turkmenistan 3196\n",
      "Yemen 3116\n",
      "Swaziland 3077\n",
      "New Caledonia 3062\n",
      "Dem. Rep. of the Congo 3037\n",
      "Neth. Antilles (former) 3031\n",
      "Tajikistan 2976\n",
      "China, Hong Kong SAR 2968\n",
      "Ethiopia 2959\n",
      "Namibia 2933\n",
      "Armenia 2912\n",
      "Guyana 2867\n",
      "Réunion 2856\n",
      "Benin 2838\n",
      "Togo 2804\n",
      "Mongolia 2743\n",
      "Serbia and Montenegro 2726\n",
      "Lebanon 2719\n",
      "Afghanistan 2718\n",
      "Mauritania 2708\n",
      "Burundi 2704\n",
      "State of Palestine 2700\n",
      "Niger 2690\n",
      "Guadeloupe 2687\n",
      "Martinique 2667\n",
      "Belize 2655\n",
      "Uganda 2622\n",
      "Eritrea 2595\n",
      "Lao People's Dem. Rep. 2577\n",
      "China, Macao SAR 2576\n",
      "Liberia 2567\n",
      "Malta 2566\n",
      "Rwanda 2561\n",
      "Guinea 2516\n",
      "Burkina Faso 2507\n",
      "Haiti 2483\n",
      "Cambodia 2478\n",
      "Cabo Verde 2349\n",
      "Solomon Islands 2343\n",
      "French Polynesia 2274\n",
      "Sierra Leone 2269\n",
      "French Guiana 2246\n",
      "Equatorial Guinea 2242\n",
      "Greenland 2234\n",
      "Bahamas 2220\n",
      "Somalia 2219\n",
      "Chad 2196\n",
      "Djibouti 2190\n",
      "Bhutan 2162\n",
      "Mali 2156\n",
      "Faeroe Islands 2096\n",
      "Samoa 2078\n",
      "Grenada 1995\n",
      "Lesotho 1969\n",
      "Seychelles 1951\n",
      "Guinea-Bissau 1927\n",
      "Central African Rep. 1902\n",
      "Bermuda 1894\n",
      "Tonga 1870\n",
      "Aruba 1858\n",
      "Dominica 1846\n",
      "Antigua and Barbuda 1808\n",
      "Andorra 1785\n",
      "Maldives 1775\n",
      "Vanuatu 1764\n",
      "Falkland Is. (Malvinas) 1753\n",
      "Gambia 1752\n",
      "St. Kitts-Nevis 1751\n",
      "St. Lucia 1726\n",
      "St. Vincent-Grenadines 1690\n",
      "Sao Tome and Principe 1687\n",
      "Mayotte 1677\n",
      "Comoros 1531\n",
      "Kiribati 1514\n",
      "Niue 1512\n",
      "Micronesia (Fed. States of) 1499\n",
      "Montenegro 1492\n",
      "Palau 1426\n",
      "British Virgin Islands 1361\n",
      "Cayman Islands 1346\n",
      "Gibraltar 1294\n",
      "Nauru 1154\n",
      "St. Helena and Depend. 1136\n",
      "Montserrat 1106\n",
      "Anguilla 1069\n",
      "Turks and Caicos Islands 1022\n",
      "Tuvalu 940\n",
      "Puerto Rico 900\n",
      "Jersey 899\n",
      "St. Pierre-Miquelon 874\n",
      "Cook Islands 791\n",
      "Ethiopia, incl. Eritrea 618\n",
      "Wallis and Futuna Is. 599\n",
      "United States Virgin Is. 585\n",
      "Timor-Leste 575\n",
      "Isle of Man 572\n",
      "Sudan 519\n",
      "American Samoa 503\n",
      "Marshall Islands 468\n",
      "Curaçao 452\n",
      "Guam 435\n",
      "Liechtenstein 415\n",
      "Yugoslavia, SFR (former) 395\n",
      "Northern Mariana Islands 357\n",
      "USSR (former) 350\n",
      "Guernsey 336\n",
      "Czechoslovakia (former) 325\n",
      "South Sudan 305\n",
      "Germany, Fed. R. (former) 293\n",
      "Bonaire, St Eustatius, Saba 224\n",
      "Sint Maarten (Dutch part) 219\n",
      "German Dem. R. (former) 106\n",
      "Antarctic Fisheries 90\n",
      "Pacific Islands (former) 68\n",
      "Yemen, Dem. (former) 61\n",
      "Yemen Arab Rep. (former) 45\n",
      "Commonwealth of Independent States (CIS) 16\n",
      "Wall time: 240 ms\n"
     ]
    }
   ],
   "source": [
    "%%time\n",
    "#Series\n",
    "print('type:',type(data['year']))\n",
    "\n",
    "#Уникальные значения\n",
    "#print(data['country'].unique())\n",
    "print('уникальных стран:',len(data['country'].unique()))\n",
    "\n",
    "#Преобразование списка уникальных элементов в словарь\n",
    "unique_country = data['country'].value_counts().to_dict()\n",
    "\n",
    "#Количество каждого уникального значения - частота\n",
    "for country, count in unique_country.items():\n",
    "    print(country, count)"
   ]
  },
  {
   "cell_type": "code",
   "execution_count": 62,
   "id": "927f9980",
   "metadata": {},
   "outputs": [
    {
     "data": {
      "text/html": [
       "<div>\n",
       "<style scoped>\n",
       "    .dataframe tbody tr th:only-of-type {\n",
       "        vertical-align: middle;\n",
       "    }\n",
       "\n",
       "    .dataframe tbody tr th {\n",
       "        vertical-align: top;\n",
       "    }\n",
       "\n",
       "    .dataframe thead th {\n",
       "        text-align: right;\n",
       "    }\n",
       "</style>\n",
       "<table border=\"1\" class=\"dataframe\">\n",
       "  <thead>\n",
       "    <tr style=\"text-align: right;\">\n",
       "      <th></th>\n",
       "      <th>country</th>\n",
       "      <th>year</th>\n",
       "    </tr>\n",
       "  </thead>\n",
       "  <tbody>\n",
       "    <tr>\n",
       "      <th>0</th>\n",
       "      <td>Austria</td>\n",
       "      <td>1996</td>\n",
       "    </tr>\n",
       "    <tr>\n",
       "      <th>1</th>\n",
       "      <td>Austria</td>\n",
       "      <td>1995</td>\n",
       "    </tr>\n",
       "    <tr>\n",
       "      <th>2</th>\n",
       "      <td>Belgium</td>\n",
       "      <td>2014</td>\n",
       "    </tr>\n",
       "    <tr>\n",
       "      <th>3</th>\n",
       "      <td>Belgium</td>\n",
       "      <td>2013</td>\n",
       "    </tr>\n",
       "    <tr>\n",
       "      <th>4</th>\n",
       "      <td>Belgium</td>\n",
       "      <td>2012</td>\n",
       "    </tr>\n",
       "  </tbody>\n",
       "</table>\n",
       "</div>"
      ],
      "text/plain": [
       "   country  year\n",
       "0  Austria  1996\n",
       "1  Austria  1995\n",
       "2  Belgium  2014\n",
       "3  Belgium  2013\n",
       "4  Belgium  2012"
      ]
     },
     "execution_count": 62,
     "metadata": {},
     "output_type": "execute_result"
    }
   ],
   "source": [
    "#Фильтрация\n",
    "\n",
    "data[['country','year']].head()"
   ]
  },
  {
   "cell_type": "code",
   "execution_count": 71,
   "id": "7a7b228a",
   "metadata": {},
   "outputs": [
    {
     "data": {
      "text/html": [
       "<div>\n",
       "<style scoped>\n",
       "    .dataframe tbody tr th:only-of-type {\n",
       "        vertical-align: middle;\n",
       "    }\n",
       "\n",
       "    .dataframe tbody tr th {\n",
       "        vertical-align: top;\n",
       "    }\n",
       "\n",
       "    .dataframe thead th {\n",
       "        text-align: right;\n",
       "    }\n",
       "</style>\n",
       "<table border=\"1\" class=\"dataframe\">\n",
       "  <thead>\n",
       "    <tr style=\"text-align: right;\">\n",
       "      <th></th>\n",
       "      <th>country</th>\n",
       "      <th>year</th>\n",
       "      <th>quantity</th>\n",
       "      <th>category</th>\n",
       "    </tr>\n",
       "  </thead>\n",
       "  <tbody>\n",
       "    <tr>\n",
       "      <th>3228</th>\n",
       "      <td>United States</td>\n",
       "      <td>2014</td>\n",
       "      <td>367987.0</td>\n",
       "      <td>2</td>\n",
       "    </tr>\n",
       "    <tr>\n",
       "      <th>3229</th>\n",
       "      <td>United States</td>\n",
       "      <td>2013</td>\n",
       "      <td>384439.0</td>\n",
       "      <td>2</td>\n",
       "    </tr>\n",
       "    <tr>\n",
       "      <th>3230</th>\n",
       "      <td>United States</td>\n",
       "      <td>2012</td>\n",
       "      <td>370625.0</td>\n",
       "      <td>2</td>\n",
       "    </tr>\n",
       "    <tr>\n",
       "      <th>3231</th>\n",
       "      <td>United States</td>\n",
       "      <td>2011</td>\n",
       "      <td>310909.0</td>\n",
       "      <td>2</td>\n",
       "    </tr>\n",
       "    <tr>\n",
       "      <th>3232</th>\n",
       "      <td>United States</td>\n",
       "      <td>2010</td>\n",
       "      <td>335418.0</td>\n",
       "      <td>2</td>\n",
       "    </tr>\n",
       "  </tbody>\n",
       "</table>\n",
       "</div>"
      ],
      "text/plain": [
       "            country  year  quantity  category\n",
       "3228  United States  2014  367987.0         2\n",
       "3229  United States  2013  384439.0         2\n",
       "3230  United States  2012  370625.0         2\n",
       "3231  United States  2011  310909.0         2\n",
       "3232  United States  2010  335418.0         2"
      ]
     },
     "execution_count": 71,
     "metadata": {},
     "output_type": "execute_result"
    }
   ],
   "source": [
    "#список стран с потреблением выше среднего\n",
    "\n",
    "data.keys()\n",
    "mean_quant = data['quantity'].mean()\n",
    "\n",
    "\n",
    "data[data['quantity'] > mean_quant].head()"
   ]
  },
  {
   "cell_type": "code",
   "execution_count": 77,
   "id": "38045fa8",
   "metadata": {},
   "outputs": [
    {
     "name": "stdout",
     "output_type": "stream",
     "text": [
      "Wall time: 960 ms\n"
     ]
    },
    {
     "data": {
      "text/plain": [
       "array(['Brunei Darussalam', 'Russian Federation', 'Belarus', 'Cyprus'],\n",
       "      dtype=object)"
      ]
     },
     "execution_count": 77,
     "metadata": {},
     "output_type": "execute_result"
    }
   ],
   "source": [
    "%%time\n",
    "#Еще фильтры\n",
    "\n",
    "#оставить только строки, где в countryes есть 'us', а потом взять уникальные значения столбца countryes\n",
    "\n",
    "data[data['country'].str.contains('rus',case = False)]['country'].unique()"
   ]
  },
  {
   "cell_type": "code",
   "execution_count": 81,
   "id": "a4e6b16c",
   "metadata": {},
   "outputs": [
    {
     "data": {
      "text/plain": [
       "array(['Russian Federation'], dtype=object)"
      ]
     },
     "execution_count": 81,
     "metadata": {},
     "output_type": "execute_result"
    }
   ],
   "source": [
    "#Фильтры на несколько условий\n",
    "\n",
    "data[(data['country'] == 'Russian Federation') | (data['country'] == 'Belarus')]['country'].unique()"
   ]
  },
  {
   "cell_type": "code",
   "execution_count": 86,
   "id": "7ec00ec2",
   "metadata": {},
   "outputs": [
    {
     "data": {
      "text/plain": [
       "100    Netherlands\n",
       "101    Netherlands\n",
       "102    Netherlands\n",
       "103    Netherlands\n",
       "104    Netherlands\n",
       "Name: country, dtype: object"
      ]
     },
     "execution_count": 86,
     "metadata": {},
     "output_type": "execute_result"
    }
   ],
   "source": [
    "#Фильтр по номеру строки\n",
    "\n",
    "#data.loc[1000:1006]\n",
    "\n",
    "data['country'].loc[100:200].head()"
   ]
  }
 ],
 "metadata": {
  "kernelspec": {
   "display_name": "Python 3",
   "language": "python",
   "name": "python3"
  },
  "language_info": {
   "codemirror_mode": {
    "name": "ipython",
    "version": 3
   },
   "file_extension": ".py",
   "mimetype": "text/x-python",
   "name": "python",
   "nbconvert_exporter": "python",
   "pygments_lexer": "ipython3",
   "version": "3.8.8"
  }
 },
 "nbformat": 4,
 "nbformat_minor": 5
}
