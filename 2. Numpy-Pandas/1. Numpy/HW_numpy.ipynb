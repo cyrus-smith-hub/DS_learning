{
 "cells": [
  {
   "cell_type": "code",
   "execution_count": 7,
   "id": "eb7aba72",
   "metadata": {},
   "outputs": [
    {
     "name": "stdout",
     "output_type": "stream",
     "text": [
      "[20 19 18 17 16 15 14 13 12 11 10  9  8  7  6  5  4  3  2  1  0]\n"
     ]
    }
   ],
   "source": [
    "#Задание 1\n",
    "#Создайте numpy array с элементами от числа N до 0 \n",
    "#(например, для N = 10 это будет array([9, 8, 7, 6, 5, 4, 3, 2, 1, 0]))\n",
    "\n",
    "import numpy as np\n",
    "N = 20\n",
    "a = np.arange(N,-1,-1)\n",
    "print(a)"
   ]
  },
  {
   "cell_type": "code",
   "execution_count": 52,
   "id": "e754d9c8",
   "metadata": {},
   "outputs": [
    {
     "name": "stdout",
     "output_type": "stream",
     "text": [
      "[[10  0  0  0  0  0  0  0  0  0  0]\n",
      " [ 0  9  0  0  0  0  0  0  0  0  0]\n",
      " [ 0  0  8  0  0  0  0  0  0  0  0]\n",
      " [ 0  0  0  7  0  0  0  0  0  0  0]\n",
      " [ 0  0  0  0  6  0  0  0  0  0  0]\n",
      " [ 0  0  0  0  0  5  0  0  0  0  0]\n",
      " [ 0  0  0  0  0  0  4  0  0  0  0]\n",
      " [ 0  0  0  0  0  0  0  3  0  0  0]\n",
      " [ 0  0  0  0  0  0  0  0  2  0  0]\n",
      " [ 0  0  0  0  0  0  0  0  0  1  0]\n",
      " [ 0  0  0  0  0  0  0  0  0  0  0]]\n",
      "\n",
      " diag elements sum: 55\n"
     ]
    }
   ],
   "source": [
    "#Задание 2\n",
    "#Создайте диагональную матрицу с элементами от N до 0. \n",
    "#Посчитайте сумму ее значений на диагонали\n",
    "import numpy as np\n",
    "\n",
    "N = 10\n",
    "diag_sum = 0\n",
    "\n",
    "d = np.arange(N,-1,-1)\n",
    "a = np.diag(d)\n",
    "print(a)\n",
    "\n",
    "for i,el in enumerate(a):\n",
    "    diag_sum += el[i]\n",
    "    \n",
    "print('\\n','diag elements sum:',diag_sum)"
   ]
  },
  {
   "cell_type": "code",
   "execution_count": 54,
   "id": "2d19ea87",
   "metadata": {},
   "outputs": [
    {
     "name": "stdout",
     "output_type": "stream",
     "text": [
      "x: 0.4666666666666668 \n",
      "y: 3.844444444444444 \n",
      "z: -5.555555555555555\n"
     ]
    }
   ],
   "source": [
    "#Задание 3\n",
    "#Решите систему уравнений:\n",
    "#4x + 2y + z = 4\n",
    "#x + 3y = 12\n",
    "#5y + 4z = -3\n",
    "\n",
    "import numpy as np\n",
    "\n",
    "a = np.array([[4,2,1], [1,3,0], [0,5,4]])\n",
    "b = np.array([4,12,-3])\n",
    "\n",
    "c = np.linalg.solve(a,b)\n",
    "\n",
    "print('x:',c[0],'\\ny:', c[1],'\\nz:', c[2])"
   ]
  },
  {
   "cell_type": "code",
   "execution_count": 55,
   "id": "931fc807",
   "metadata": {},
   "outputs": [
    {
     "name": "stdout",
     "output_type": "stream",
     "text": [
      "[(0, 0.19999999999999996), (1, 0.8451542547285165), (2, 0.3999999999999999), (3, 0.7905694150420948), (4, 0.3999999999999999), (5, 0.0), (6, 0.0), (7, 0.9486832980505138), (8, 0.0), (9, 0.0), (10, 0.9087389347953037), (11, 0.9647638212377322)]\n",
      "\n",
      "user with max cos similarity: 11\n"
     ]
    }
   ],
   "source": [
    "#Задание 4\n",
    "#Найдите самого похожего пользователя. \n",
    "#Т. е. посчитайте косинусное сходство между этим пользователем и всеми пользователями из массива user_stats\n",
    "\n",
    "import numpy as np\n",
    "\n",
    "users_stats = np.array(\n",
    "    [\n",
    "        [2, 1, 0, 0, 0, 0],\n",
    "        [1, 1, 2, 1, 0, 0],\n",
    "        [2, 0, 1, 0, 0, 0],\n",
    "        [1, 1, 2, 1, 0, 1],\n",
    "        [0, 0, 1, 2, 0, 0],\n",
    "        [0, 0, 0, 0, 0, 5],\n",
    "        [1, 0, 0, 0, 0, 0],\n",
    "        [0, 1, 1, 0, 0, 0],\n",
    "        [0, 0, 0, 1, 1, 3],\n",
    "        [1, 0, 0, 2, 1, 4],\n",
    "        [1, 6, 5, 0, 0, 0],\n",
    "        [0, 2, 10, 0, 0, 0]\n",
    "    ], \n",
    "    np.int32\n",
    ")\n",
    "\n",
    "next_user_stats = np.array([0, 1, 2, 0, 0, 0])\n",
    "\n",
    "\n",
    "\n",
    "def cos_similarity(a,b):\n",
    "    \"\"\"\n",
    "    Косинусное сходство между векторами\n",
    "    a и b - вектора\n",
    "    \"\"\"\n",
    "    scal = np.dot(a,b)\n",
    "    len_a = np.linalg.norm(a)\n",
    "    len_b = np.linalg.norm(b)\n",
    "    result = scal/(len_a*len_b)\n",
    "    \n",
    "    return result\n",
    "\n",
    "\n",
    "cos_list = []\n",
    "for el in users_stats:\n",
    "    cos_list.append(cos_similarity(el,next_user_stats))\n",
    "    \n",
    "print(list(enumerate(cos_list)))\n",
    "print('\\nuser with max cos similarity:', cos_list.index(max(cos_list)))"
   ]
  }
 ],
 "metadata": {
  "kernelspec": {
   "display_name": "Python 3",
   "language": "python",
   "name": "python3"
  },
  "language_info": {
   "codemirror_mode": {
    "name": "ipython",
    "version": 3
   },
   "file_extension": ".py",
   "mimetype": "text/x-python",
   "name": "python",
   "nbconvert_exporter": "python",
   "pygments_lexer": "ipython3",
   "version": "3.8.8"
  }
 },
 "nbformat": 4,
 "nbformat_minor": 5
}
