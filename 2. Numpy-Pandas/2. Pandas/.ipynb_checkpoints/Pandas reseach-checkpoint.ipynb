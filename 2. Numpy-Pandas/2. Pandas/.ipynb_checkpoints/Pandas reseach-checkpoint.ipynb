{
 "cells": [
  {
   "cell_type": "code",
   "execution_count": 5,
   "id": "a1f1d226",
   "metadata": {},
   "outputs": [
    {
     "data": {
      "text/plain": [
       "a    1\n",
       "b    2\n",
       "c    3\n",
       "d    4\n",
       "dtype: int64"
      ]
     },
     "execution_count": 5,
     "metadata": {},
     "output_type": "execute_result"
    }
   ],
   "source": [
    "import pandas as pd\n",
    "import matplotlib.pyplot as plt\n",
    "\n",
    "ser = pd.Series([1,2,3,4],['a','b','c','d'])\n",
    "ser"
   ]
  },
  {
   "cell_type": "code",
   "execution_count": 20,
   "id": "fc8bc01c",
   "metadata": {},
   "outputs": [
    {
     "name": "stdout",
     "output_type": "stream",
     "text": [
      "[1 2 3 4]\n",
      "<class 'numpy.ndarray'>\n"
     ]
    }
   ],
   "source": [
    "#данные\n",
    "print(ser.values)\n",
    "#тип - array от numpy\n",
    "print(type(ser.values))\n"
   ]
  },
  {
   "cell_type": "code",
   "execution_count": 19,
   "id": "010ebeef",
   "metadata": {},
   "outputs": [
    {
     "name": "stdout",
     "output_type": "stream",
     "text": [
      "Index(['a', 'b', 'c', 'd'], dtype='object')\n",
      "<class 'pandas.core.indexes.base.Index'>\n"
     ]
    }
   ],
   "source": [
    "#индексы\n",
    "print(ser.index)\n",
    "#прям такой объект есть\n",
    "print(type(ser.index))"
   ]
  },
  {
   "cell_type": "code",
   "execution_count": 13,
   "id": "02ba1ab6",
   "metadata": {},
   "outputs": [
    {
     "data": {
      "text/plain": [
       "'d'"
      ]
     },
     "execution_count": 13,
     "metadata": {},
     "output_type": "execute_result"
    }
   ],
   "source": [
    "#индексы также с индексами))\n",
    "ser.index[3]"
   ]
  },
  {
   "cell_type": "code",
   "execution_count": 17,
   "id": "bbbf883a",
   "metadata": {},
   "outputs": [
    {
     "data": {
      "text/plain": [
       "True"
      ]
     },
     "execution_count": 17,
     "metadata": {},
     "output_type": "execute_result"
    }
   ],
   "source": [
    "#при обращении через [] возвращается соответствующий элемент values\n",
    "ser.values[3] == ser[3]"
   ]
  },
  {
   "cell_type": "code",
   "execution_count": 23,
   "id": "43b72f6d",
   "metadata": {},
   "outputs": [
    {
     "name": "stdout",
     "output_type": "stream",
     "text": [
      "a    1\n",
      "b    2\n",
      "c    3\n",
      "d    4\n",
      "r    5\n",
      "dtype: int64\n"
     ]
    }
   ],
   "source": [
    "#Задание через присвоение элемента\n",
    "\n",
    "ser['r'] = 5\n",
    "print(ser)"
   ]
  },
  {
   "cell_type": "code",
   "execution_count": 25,
   "id": "ae7f511c",
   "metadata": {},
   "outputs": [
    {
     "name": "stdout",
     "output_type": "stream",
     "text": [
      "a    0\n",
      "b    0\n",
      "c    3\n",
      "d    4\n",
      "r    0\n",
      "dtype: int64\n"
     ]
    }
   ],
   "source": [
    "#Груповое присваивание\n",
    "\n",
    "ser['a','b','r'] = 0\n",
    "print(ser)"
   ]
  },
  {
   "cell_type": "code",
   "execution_count": 26,
   "id": "b8ddd7d1",
   "metadata": {},
   "outputs": [
    {
     "data": {
      "text/plain": [
       "c    3\n",
       "d    4\n",
       "dtype: int64"
      ]
     },
     "execution_count": 26,
     "metadata": {},
     "output_type": "execute_result"
    }
   ],
   "source": [
    "#Фильтрация\n",
    "\n",
    "ser[ser>0]"
   ]
  }
 ],
 "metadata": {
  "kernelspec": {
   "display_name": "Python 3",
   "language": "python",
   "name": "python3"
  },
  "language_info": {
   "codemirror_mode": {
    "name": "ipython",
    "version": 3
   },
   "file_extension": ".py",
   "mimetype": "text/x-python",
   "name": "python",
   "nbconvert_exporter": "python",
   "pygments_lexer": "ipython3",
   "version": "3.8.8"
  }
 },
 "nbformat": 4,
 "nbformat_minor": 5
}
