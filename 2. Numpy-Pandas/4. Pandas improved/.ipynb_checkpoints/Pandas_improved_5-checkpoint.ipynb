{
 "cells": [
  {
   "cell_type": "code",
   "execution_count": null,
   "id": "36f23046",
   "metadata": {},
   "outputs": [],
   "source": [
    "#Объединение датафреймов\n",
    "\n",
    "#про дубликаты,join и merge"
   ]
  }
 ],
 "metadata": {
  "kernelspec": {
   "display_name": "Python 3",
   "language": "python",
   "name": "python3"
  },
  "language_info": {
   "codemirror_mode": {
    "name": "ipython",
    "version": 3
   },
   "file_extension": ".py",
   "mimetype": "text/x-python",
   "name": "python",
   "nbconvert_exporter": "python",
   "pygments_lexer": "ipython3",
   "version": "3.8.8"
  }
 },
 "nbformat": 4,
 "nbformat_minor": 5
}
