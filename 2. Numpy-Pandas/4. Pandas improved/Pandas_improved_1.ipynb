{
 "cells": [
  {
   "cell_type": "code",
   "execution_count": 21,
   "id": "8ad3f0a2",
   "metadata": {},
   "outputs": [
    {
     "name": "stdout",
     "output_type": "stream",
     "text": [
      "Wall time: 4.57 s\n"
     ]
    }
   ],
   "source": [
    "%%time\n",
    "#скорость работы\n",
    "\n",
    "lst = list(range(10**5))\n",
    "\n",
    "for el in range(10**5):\n",
    "    5000 in lst"
   ]
  },
  {
   "cell_type": "code",
   "execution_count": 19,
   "id": "14887082",
   "metadata": {},
   "outputs": [
    {
     "name": "stdout",
     "output_type": "stream",
     "text": [
      "Wall time: 14.6 ms\n"
     ]
    }
   ],
   "source": [
    "%%time\n",
    "#скорость работы\n",
    "\n",
    "lst = set(range(10**5))\n",
    "\n",
    "for el in range(10**5):\n",
    "    5000 in lst"
   ]
  }
 ],
 "metadata": {
  "kernelspec": {
   "display_name": "Python 3",
   "language": "python",
   "name": "python3"
  },
  "language_info": {
   "codemirror_mode": {
    "name": "ipython",
    "version": 3
   },
   "file_extension": ".py",
   "mimetype": "text/x-python",
   "name": "python",
   "nbconvert_exporter": "python",
   "pygments_lexer": "ipython3",
   "version": "3.8.8"
  }
 },
 "nbformat": 4,
 "nbformat_minor": 5
}
